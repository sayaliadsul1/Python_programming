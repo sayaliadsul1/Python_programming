{
 "cells": [
  {
   "cell_type": "code",
   "execution_count": null,
   "id": "c547b190",
   "metadata": {},
   "outputs": [],
   "source": [
    "stud = [\"Shreya\",\"Priya\",\"Renu\",\"Ankita\",\"Shruti\",\"Kajal\"]\n",
    "\n",
    "a = input(\"Enter the name:\")\n",
    "if stud%2 == 0:\n",
    "    print(\"Even\")\n",
    "    \n",
    "else:\n",
    "    \n",
    "    \n",
    "    for x in range(3):\n",
    "        sub1 = int(input(\"subject:\"))\n",
    "        total = sub1[0]+sub1[1]+sub1[2]\n",
    "        avg = total/3\n",
    "        print(\"Total Marks::\",total,\"Avarage::\",avg)\n",
    "       "
   ]
  },
  {
   "cell_type": "code",
   "execution_count": 3,
   "id": "78a1a77d",
   "metadata": {},
   "outputs": [
    {
     "data": {
      "text/plain": [
       "'Shreya'"
      ]
     },
     "execution_count": 3,
     "metadata": {},
     "output_type": "execute_result"
    }
   ],
   "source": [
    "stud = [\"Shreya\",\"Priya\",\"Renu\",\"Ankita\",\"Shruti\",\"Kajal\"]\n",
    "stud[0]"
   ]
  },
  {
   "cell_type": "code",
   "execution_count": 10,
   "id": "6818e730",
   "metadata": {},
   "outputs": [
    {
     "name": "stdout",
     "output_type": "stream",
     "text": [
      "loop numbers::4\n",
      "name::Priya\n",
      "1\n",
      "[1]\n",
      "name::Renu\n",
      "2\n",
      "[1, 2]\n",
      "name::Kajal\n",
      "5\n",
      "[1, 2, 5]\n",
      "name::Shruti\n",
      "4\n",
      "[1, 2, 5, 4]\n"
     ]
    }
   ],
   "source": [
    "stud = [\"Shreya\",\"Priya\",\"Renu\",\"Ankita\",\"Shruti\",\"Kajal\"]\n",
    "position = []\n",
    "\n",
    "n = int(input(\"loop numbers::\"))\n",
    "for b1 in range(n):\n",
    "    a = input(\"name::\")\n",
    "    for x in stud:\n",
    "        if x ==a:\n",
    "            b = stud.index(a)\n",
    "            position.append(b)\n",
    "    print(b)\n",
    "    print(position)"
   ]
  },
  {
   "cell_type": "code",
   "execution_count": 16,
   "id": "e6fc9be4",
   "metadata": {},
   "outputs": [
    {
     "name": "stdout",
     "output_type": "stream",
     "text": [
      "Enter name:Shreya\n",
      "Enter marks::78\n",
      "Enter marks::89\n",
      "Enter marks::90\n",
      "total marks: 257 Average 85.66666666666667\n",
      "Sorry to announce you might fail:: 85.66666666666667\n"
     ]
    }
   ],
   "source": [
    "stud = [\"Shreya\",\"Priya\",\"Renu\",\"Ankita\",\"Shruti\",\"Kajal\"]\n",
    "stud_3 = []\n",
    "stud_5 = []\n",
    "\n",
    "a = input(\"Enter name:\")\n",
    "for x in stud:\n",
    "    if a==x:\n",
    "        b=stud.index(a)\n",
    "        if b%2==0:\n",
    "            for y1 in range(3):\n",
    "                sub1 = int(input(\"Enter marks::\"))\n",
    "                stud_3.append(sub1)\n",
    "                total = sum(stud_3)\n",
    "                avg = total/len(stud_3)\n",
    "            print(\"total marks:\",total,\"Average\",avg)\n",
    "            if total%2==0:\n",
    "                print(\"Congratulations you have chance of getting pass::\",avg)\n",
    "            else:\n",
    "                print(\"Sorry to announce you might fail::\",avg)\n",
    "          \n",
    "        else:\n",
    "            for y2 in range(5):\n",
    "                sub2 = int(input(\"Enter marks::\"))\n",
    "                stud_5.append(sub2)\n",
    "                total = sum(stud_5)\n",
    "                avg = total/len(stud_5)\n",
    "            print(\"total marks:\",total,\"Average\",avg)\n",
    "            if total%2==0:\n",
    "                print(\"Congratulations you have chance of getting pass\",avg)\n",
    "            else:\n",
    "                print(\"Sorry to announce you might fail\",avg)"
   ]
  },
  {
   "cell_type": "code",
   "execution_count": null,
   "id": "ac4eda9b",
   "metadata": {},
   "outputs": [],
   "source": []
  }
 ],
 "metadata": {
  "kernelspec": {
   "display_name": "Python 3 (ipykernel)",
   "language": "python",
   "name": "python3"
  },
  "language_info": {
   "codemirror_mode": {
    "name": "ipython",
    "version": 3
   },
   "file_extension": ".py",
   "mimetype": "text/x-python",
   "name": "python",
   "nbconvert_exporter": "python",
   "pygments_lexer": "ipython3",
   "version": "3.7.13"
  }
 },
 "nbformat": 4,
 "nbformat_minor": 5
}
