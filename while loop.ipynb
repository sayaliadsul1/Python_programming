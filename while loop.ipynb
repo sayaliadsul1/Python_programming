{
 "cells": [
  {
   "cell_type": "code",
   "execution_count": 1,
   "id": "b815a5d1",
   "metadata": {},
   "outputs": [
    {
     "name": "stdout",
     "output_type": "stream",
     "text": [
      "2\n",
      "4\n",
      "6\n",
      "8\n",
      "10\n",
      "12\n",
      "14\n",
      "16\n",
      "18\n",
      "20\n"
     ]
    }
   ],
   "source": [
    "#First 10 Even numbers\n",
    "\n",
    "num=2\n",
    "while num<=20:\n",
    "    print(num)\n",
    "    num=num+2\n",
    "    "
   ]
  },
  {
   "cell_type": "code",
   "execution_count": 4,
   "id": "9c92674a",
   "metadata": {},
   "outputs": [
    {
     "name": "stdout",
     "output_type": "stream",
     "text": [
      "1\n",
      "3\n",
      "5\n",
      "7\n",
      "9\n",
      "11\n",
      "13\n",
      "15\n",
      "17\n",
      "19\n"
     ]
    }
   ],
   "source": [
    "# First 10 Odd numbers\n",
    "num=1\n",
    "while num<=20:\n",
    "    print(num)\n",
    "    num=num+2\n",
    "    "
   ]
  },
  {
   "cell_type": "code",
   "execution_count": 5,
   "id": "1285890a",
   "metadata": {},
   "outputs": [
    {
     "name": "stdout",
     "output_type": "stream",
     "text": [
      "1\n",
      "2\n",
      "3\n",
      "4\n",
      "5\n",
      "6\n",
      "7\n",
      "8\n",
      "9\n",
      "10\n"
     ]
    }
   ],
   "source": [
    "# First 10 Natural numbers\n",
    "num=1\n",
    "while num<=10:\n",
    "    print(num)\n",
    "    num=num+1"
   ]
  },
  {
   "cell_type": "code",
   "execution_count": 6,
   "id": "b2f59b3e",
   "metadata": {},
   "outputs": [
    {
     "name": "stdout",
     "output_type": "stream",
     "text": [
      "0\n",
      "1\n",
      "2\n",
      "3\n",
      "4\n",
      "5\n",
      "6\n",
      "7\n",
      "8\n",
      "9\n"
     ]
    }
   ],
   "source": [
    "# First 10 Whole numbers\n",
    "num=0\n",
    "while num<10:\n",
    "    print(num)\n",
    "    num=num+1"
   ]
  },
  {
   "cell_type": "code",
   "execution_count": 16,
   "id": "28deb895",
   "metadata": {},
   "outputs": [
    {
     "name": "stdout",
     "output_type": "stream",
     "text": [
      "Numbers\t\tSquares\n",
      "1  \t\t 1\n",
      "2  \t\t 4\n",
      "3  \t\t 9\n",
      "4  \t\t 16\n",
      "5  \t\t 25\n",
      "6  \t\t 36\n",
      "7  \t\t 49\n",
      "8  \t\t 64\n",
      "9  \t\t 81\n",
      "10  \t\t 100\n"
     ]
    }
   ],
   "source": [
    "#Write a program to print first 10 integers and their squares using while loop.\n",
    "\n",
    "num=1\n",
    "print(\"Numbers\\t\\tSquares\")\n",
    "while num<=10:\n",
    "    print(num,\" \\t\\t\",num**2)\n",
    "    num=num+1\n",
    "    "
   ]
  },
  {
   "cell_type": "code",
   "execution_count": 6,
   "id": "108e3a4d",
   "metadata": {},
   "outputs": [
    {
     "name": "stdout",
     "output_type": "stream",
     "text": [
      "10  20  30  40  50  60  70  80  90  100  110  120  130  140  150  160  170  180  190  200  210  220  230  240  250  260  270  280  290  300  "
     ]
    }
   ],
   "source": [
    "#Write for loop statement to print the following series:\n",
    "#10, 20, 30 … … 300\n",
    "\n",
    "num=10\n",
    "while num<=300:\n",
    "    print(num,end=\"  \")\n",
    "    num=num+10"
   ]
  },
  {
   "cell_type": "code",
   "execution_count": 10,
   "id": "4f66d7f6",
   "metadata": {},
   "outputs": [
    {
     "name": "stdout",
     "output_type": "stream",
     "text": [
      "105 98 91 84 77 70 63 56 49 42 35 28 21 14 7 "
     ]
    }
   ],
   "source": [
    "#Write a while loop statement to print the following series\n",
    "#105, 98, 91 ………7.\n",
    "\n",
    "num=105\n",
    "while num>=7:\n",
    "    print(num,end=\" \")\n",
    "    num=num-7"
   ]
  },
  {
   "cell_type": "code",
   "execution_count": 2,
   "id": "05757197",
   "metadata": {},
   "outputs": [
    {
     "name": "stdout",
     "output_type": "stream",
     "text": [
      "10 9 8 7 6 5 4 3 2 1 "
     ]
    }
   ],
   "source": [
    "#Write a program to print first 10 natural number in reverse order using while loop.\n",
    "\n",
    "num=10\n",
    "while num>=1:\n",
    "    print(num,end=\" \")\n",
    "    num=num-1\n",
    "\n",
    "\n",
    "\n"
   ]
  },
  {
   "cell_type": "code",
   "execution_count": 6,
   "id": "ec6d946f",
   "metadata": {},
   "outputs": [
    {
     "name": "stdout",
     "output_type": "stream",
     "text": [
      "55\n"
     ]
    }
   ],
   "source": [
    "#Write a program to print sum of first 10 Natural numbers.\n",
    "\n",
    "num=10\n",
    "sum=0\n",
    "while num>=1:\n",
    "    sum=sum+num\n",
    "    num=num-1\n",
    "print(sum)\n",
    "\n"
   ]
  },
  {
   "cell_type": "code",
   "execution_count": 5,
   "id": "d6153b5b",
   "metadata": {},
   "outputs": [
    {
     "name": "stdout",
     "output_type": "stream",
     "text": [
      "110\n"
     ]
    }
   ],
   "source": [
    "#Write a program to print sum of first 10 Even numbers.\n",
    "\n",
    "num = 2\n",
    "sum = 0\n",
    "while num <= 20:\n",
    "    sum = sum + num\n",
    "    num= num + 2\n",
    "print(sum)"
   ]
  },
  {
   "cell_type": "code",
   "execution_count": 1,
   "id": "ebc48c77",
   "metadata": {},
   "outputs": [
    {
     "name": "stdout",
     "output_type": "stream",
     "text": [
      "Enter the Number : 5\n",
      "5 * = 5\n",
      "5 * = 10\n",
      "5 * = 15\n",
      "5 * = 20\n",
      "5 * = 25\n",
      "5 * = 30\n",
      "5 * = 35\n",
      "5 * = 40\n",
      "5 * = 45\n",
      "5 * = 50\n"
     ]
    }
   ],
   "source": [
    "#Write a program to print table of a number entered from the user.\n",
    "\n",
    "i=1\n",
    "num=int(input(\"Enter the Number : \"))\n",
    "while i<=10:\n",
    "    print(num,\"*\", \"=\",num*i)\n",
    "    i=i+1\n"
   ]
  },
  {
   "cell_type": "code",
   "execution_count": 3,
   "id": "6943cf7e",
   "metadata": {},
   "outputs": [
    {
     "name": "stdout",
     "output_type": "stream",
     "text": [
      "Enter the Number :3\n",
      "This is Prime Number 3\n"
     ]
    }
   ],
   "source": [
    "# Prime Number code using While Loop\n",
    "\n",
    "num=int(input(\"Enter the Number :\"))\n",
    "k=0\n",
    "if num==0 or num==1:\n",
    "    print(\"This is Not Prime Number\")\n",
    "else:\n",
    "    x=2\n",
    "    while x<num:\n",
    "        if num%x==0:\n",
    "            k=k+1\n",
    "        x=x+1\n",
    "if k==0:\n",
    "    print(\"This is Prime Number\",num)\n",
    "else:\n",
    "    print(\"This is Not Prime Number\",num)\n",
    "            \n",
    "\n",
    "\n"
   ]
  }
 ],
 "metadata": {
  "kernelspec": {
   "display_name": "Python 3 (ipykernel)",
   "language": "python",
   "name": "python3"
  },
  "language_info": {
   "codemirror_mode": {
    "name": "ipython",
    "version": 3
   },
   "file_extension": ".py",
   "mimetype": "text/x-python",
   "name": "python",
   "nbconvert_exporter": "python",
   "pygments_lexer": "ipython3",
   "version": "3.9.7"
  }
 },
 "nbformat": 4,
 "nbformat_minor": 5
}
