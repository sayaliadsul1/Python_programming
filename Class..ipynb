{
 "cells": [
  {
   "cell_type": "code",
   "execution_count": 1,
   "id": "4e888b05",
   "metadata": {},
   "outputs": [
    {
     "name": "stdout",
     "output_type": "stream",
     "text": [
      "20\n"
     ]
    }
   ],
   "source": [
    "class person:\n",
    "    def profile(self):\n",
    "        a=20\n",
    "        print(a)\n",
    "o=person()\n",
    "o.profile()"
   ]
  },
  {
   "cell_type": "code",
   "execution_count": 2,
   "id": "b804db68",
   "metadata": {},
   "outputs": [
    {
     "name": "stdout",
     "output_type": "stream",
     "text": [
      "Enter the Name : priyanka\n",
      "Enter the Number : 123\n",
      "My Name is :  priyanka\n",
      "My Number is :  123\n"
     ]
    }
   ],
   "source": [
    "class student:\n",
    "    def pro(self):\n",
    "        self.name=input(\"Enter the Name : \")\n",
    "        self.num=int(input(\"Enter the Number : \"))\n",
    "    def show(self):\n",
    "        print(\"My Name is : \",self.name)\n",
    "        print(\"My Number is : \",self.num)\n",
    "c1=student()\n",
    "c1.pro()\n",
    "c1.show()\n",
    "        "
   ]
  },
  {
   "cell_type": "code",
   "execution_count": 3,
   "id": "085560f5",
   "metadata": {},
   "outputs": [
    {
     "name": "stdout",
     "output_type": "stream",
     "text": [
      "My Name is :  priyanka\n",
      "My Number is :  456\n"
     ]
    }
   ],
   "source": [
    "class student:\n",
    "    def pro(self):\n",
    "        self.name=\"priyanka\"\n",
    "        self.num=456\n",
    "    def show(self):\n",
    "        print(\"My Name is : \",self.name)\n",
    "        print(\"My Number is : \",self.num)\n",
    "c2=student()\n",
    "c2.pro()\n",
    "c2.show()\n",
    "        "
   ]
  },
  {
   "cell_type": "code",
   "execution_count": 5,
   "id": "819426eb",
   "metadata": {},
   "outputs": [
    {
     "name": "stdout",
     "output_type": "stream",
     "text": [
      "102\n",
      "My Name is :  priyanka\n",
      "My Number is :  456\n"
     ]
    }
   ],
   "source": [
    "class student:\n",
    "    def pro(self):\n",
    "        self.name=\"priyanka\"\n",
    "        self.num=456\n",
    "        c=50\n",
    "        d=52\n",
    "        print(c+d)\n",
    "    def show(self):\n",
    "        print(\"My Name is : \",self.name)\n",
    "        print(\"My Number is : \",self.num)\n",
    "c3=student()\n",
    "c3.pro()\n",
    "c3.show()\n",
    "        "
   ]
  },
  {
   "cell_type": "code",
   "execution_count": 7,
   "id": "117fe442",
   "metadata": {},
   "outputs": [
    {
     "name": "stdout",
     "output_type": "stream",
     "text": [
      "priyanka 456\n",
      "Enter the Marks : 85\n",
      "Enter the Marks : 96\n",
      "Enter the Marks : 65\n",
      "[85, 96, 65]\n"
     ]
    }
   ],
   "source": [
    "class person:\n",
    "    def details(self,name,num):\n",
    "        self.name=name\n",
    "        self.num=num\n",
    "    def show(self,n):\n",
    "        marks=[]\n",
    "        print(self.name,self.num)\n",
    "        for x in range(n):\n",
    "            m=int(input(\"Enter the Marks : \"))\n",
    "            marks.append(m)\n",
    "        print(marks)\n",
    "obj=person()\n",
    "obj.details(\"priyanka\",456)\n",
    "obj.show(3)\n",
    "    "
   ]
  },
  {
   "cell_type": "code",
   "execution_count": null,
   "id": "2f769668",
   "metadata": {},
   "outputs": [],
   "source": []
  }
 ],
 "metadata": {
  "kernelspec": {
   "display_name": "Python 3 (ipykernel)",
   "language": "python",
   "name": "python3"
  },
  "language_info": {
   "codemirror_mode": {
    "name": "ipython",
    "version": 3
   },
   "file_extension": ".py",
   "mimetype": "text/x-python",
   "name": "python",
   "nbconvert_exporter": "python",
   "pygments_lexer": "ipython3",
   "version": "3.9.7"
  }
 },
 "nbformat": 4,
 "nbformat_minor": 5
}
