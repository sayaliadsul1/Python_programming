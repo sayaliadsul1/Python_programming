{
 "cells": [
  {
   "cell_type": "code",
   "execution_count": 1,
   "id": "64f23128",
   "metadata": {},
   "outputs": [],
   "source": [
    "empcom=[]\n",
    "empnum1=[]\n",
    "empcity2=[]\n",
    "empcode3=[]\n",
    "empost=[]\n",
    "name_salary=[]\n",
    "post=[\"QE\",\"QA\",\"SE\",\"DE\"]\n",
    "def company(empname,num,city,post_name,code=101):\n",
    "    empcom.append(empname)\n",
    "    empost.append(post_name)\n",
    "    empnum1.append(num)\n",
    "    empcity2.append(city)\n",
    "    empcode3.append(code)\n",
    "    for x1 in post:\n",
    "        for x in empost:\n",
    "            if x==x1:\n",
    "                name_salary.append(empname)\n",
    "                name_salary.append(post_name)\n",
    "                name_salary.append(20000)\n",
    "                name_salary.append(city)\n",
    "            else:\n",
    "                print(\"your Post Is Wrong.......\")\n",
    " \n",
    "    return name_salary\n",
    "def expance():\n",
    "    expance_name=set()\n",
    "    expance_cost=[]\n",
    "    empname=input(\"Enter the Name: \")\n",
    "    num=int(input(\"Enter the Number: \"))\n",
    "    city=input(\"Enter the City: \")\n",
    "    post_name=input(\"Enter the Post Name :\")\n",
    " \n",
    "    data1=company(empname,num,city,post_name)\n",
    "    print(data1)\n",
    " \n",
    "    for x2 in data1:\n",
    "        if x2==\"Sagar\":\n",
    "            n=int(input(\"How many types of Expances you want add... \"))\n",
    "            for x3 in range(n):\n",
    "                exp_name=input(\"Enter the Expance Name: \")\n",
    "                exp_cost=int(input(\"Enter the Expance Cost: \"))\n",
    "                expance_name.add(exp_name)\n",
    "                expance_cost.append(exp_cost)\n",
    " \n",
    "    print(\"My all Expance Names: \",expance_name)\n",
    "    print(\"My all Expance Value: \",expance_cost)\n",
    " \n",
    "    return expance_cost\n",
    "def profit_loss():\n",
    "    pro_loss=expance()\n",
    "    ab=sum(pro_loss)\n",
    "    print(\"Totale Expance\",ab)\n"
   ]
  },
  {
   "cell_type": "code",
   "execution_count": 2,
   "id": "72cb91ed",
   "metadata": {},
   "outputs": [
    {
     "name": "stdout",
     "output_type": "stream",
     "text": [
      "Enter the Name: sayali\n",
      "Enter the Number: 123\n",
      "Enter the City: pune\n",
      "Enter the Post Name :SE\n",
      "your Post Is Wrong.......\n",
      "your Post Is Wrong.......\n",
      "your Post Is Wrong.......\n",
      "['sayali', 'SE', 20000, 'pune']\n",
      "My all Expance Names:  set()\n",
      "My all Expance Value:  []\n",
      "Totale Expance 0\n"
     ]
    }
   ],
   "source": [
    "profit_loss()"
   ]
  },
  {
   "cell_type": "code",
   "execution_count": null,
   "id": "fcae8f47",
   "metadata": {},
   "outputs": [],
   "source": []
  }
 ],
 "metadata": {
  "kernelspec": {
   "display_name": "Python 3 (ipykernel)",
   "language": "python",
   "name": "python3"
  },
  "language_info": {
   "codemirror_mode": {
    "name": "ipython",
    "version": 3
   },
   "file_extension": ".py",
   "mimetype": "text/x-python",
   "name": "python",
   "nbconvert_exporter": "python",
   "pygments_lexer": "ipython3",
   "version": "3.9.7"
  }
 },
 "nbformat": 4,
 "nbformat_minor": 5
}
