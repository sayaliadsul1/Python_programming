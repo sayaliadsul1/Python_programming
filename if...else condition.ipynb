{
 "cells": [
  {
   "cell_type": "code",
   "execution_count": 3,
   "id": "dad6de8f",
   "metadata": {},
   "outputs": [
    {
     "name": "stdout",
     "output_type": "stream",
     "text": [
      "True\n"
     ]
    }
   ],
   "source": [
    "a=20\n",
    "b=5\n",
    "if a>b:\n",
    "    print(\"True\")"
   ]
  },
  {
   "cell_type": "code",
   "execution_count": 4,
   "id": "7b86ae7b",
   "metadata": {},
   "outputs": [
    {
     "name": "stdout",
     "output_type": "stream",
     "text": [
      "enter a number:56\n",
      "enter a number:78\n",
      "Not....\n"
     ]
    }
   ],
   "source": [
    "a=int(input(\"enter a number:\"))\n",
    "b=int(input(\"enter a number:\"))\n",
    "if a>b:\n",
    "    print(\"Its correct\")\n",
    "else:\n",
    "    print(\"Not....\")\n"
   ]
  },
  {
   "cell_type": "code",
   "execution_count": 5,
   "id": "bc29e0e7",
   "metadata": {},
   "outputs": [
    {
     "name": "stdout",
     "output_type": "stream",
     "text": [
      "enter a number:78\n",
      "enter a number:98\n",
      "Its correct\n"
     ]
    }
   ],
   "source": [
    "a=int(input(\"enter a number:\"))\n",
    "b=int(input(\"enter a number:\"))\n",
    "if a<b:\n",
    "    print(\"Its correct\")\n",
    "else:\n",
    "    print(\"Not....\")\n"
   ]
  },
  {
   "cell_type": "code",
   "execution_count": 6,
   "id": "fc161601",
   "metadata": {},
   "outputs": [
    {
     "name": "stdout",
     "output_type": "stream",
     "text": [
      "enter a number:23\n",
      "enter a number:23\n",
      "Its correct\n"
     ]
    }
   ],
   "source": [
    "a=int(input(\"enter a number:\"))\n",
    "b=int(input(\"enter a number:\"))\n",
    "if a==b:\n",
    "    print(\"Its correct\")\n",
    "else:\n",
    "    print(\"Not....\")\n"
   ]
  },
  {
   "cell_type": "code",
   "execution_count": 7,
   "id": "fae198d9",
   "metadata": {},
   "outputs": [
    {
     "name": "stdout",
     "output_type": "stream",
     "text": [
      "Not...\n"
     ]
    }
   ],
   "source": [
    "a=\"sayali\"\n",
    "b=\"pooja\"\n",
    "if a==b:\n",
    "    print(\"Its correct\")\n",
    "else:\n",
    "    print(\"Not...\")"
   ]
  },
  {
   "cell_type": "code",
   "execution_count": 8,
   "id": "5d25783b",
   "metadata": {},
   "outputs": [
    {
     "name": "stdout",
     "output_type": "stream",
     "text": [
      "Its correct\n"
     ]
    }
   ],
   "source": [
    "a=\"sayali\"\n",
    "b=\"sayali\"\n",
    "if a==b:\n",
    "    print(\"Its correct\")\n",
    "else:\n",
    "    print(\"Not...\")"
   ]
  },
  {
   "cell_type": "code",
   "execution_count": 9,
   "id": "4d3ddc69",
   "metadata": {},
   "outputs": [
    {
     "name": "stdout",
     "output_type": "stream",
     "text": [
      "Its correct\n"
     ]
    }
   ],
   "source": [
    "a=\"sayali\"\n",
    "b=\"pooja\"\n",
    "if a!=b:\n",
    "    print(\"Its correct\")\n",
    "else:\n",
    "    print(\"Not...\")"
   ]
  },
  {
   "cell_type": "code",
   "execution_count": 10,
   "id": "2e397978",
   "metadata": {},
   "outputs": [
    {
     "name": "stdout",
     "output_type": "stream",
     "text": [
      "enter a number:56\n",
      "enter a number:69\n",
      "Not....\n"
     ]
    }
   ],
   "source": [
    "a=input(\"enter a number:\")\n",
    "b=input(\"enter a number:\")\n",
    "if a==b:\n",
    "    print(\"Its correct\")\n",
    "else:\n",
    "    print(\"Not....\")\n"
   ]
  },
  {
   "cell_type": "code",
   "execution_count": 12,
   "id": "dbadadad",
   "metadata": {},
   "outputs": [
    {
     "name": "stdout",
     "output_type": "stream",
     "text": [
      "Enter a number:63\n",
      "Enter a number:96\n",
      "Not....\n"
     ]
    }
   ],
   "source": [
    "a=int(input(\"Enter a number:\"))\n",
    "b=int(input(\"Enter a number:\"))\n",
    "if a==50 and b==70:\n",
    "    print(\"Its correct\")\n",
    "else:\n",
    "    print(\"Not....\")\n"
   ]
  },
  {
   "cell_type": "code",
   "execution_count": 13,
   "id": "a23a86ee",
   "metadata": {},
   "outputs": [
    {
     "name": "stdout",
     "output_type": "stream",
     "text": [
      "Not.... 0\n",
      "Not.... 1\n",
      "Not.... 2\n",
      "Not.... 3\n",
      "I got it 4\n",
      "Not.... 5\n",
      "Not.... 6\n",
      "Not.... 7\n",
      "Not.... 8\n",
      "Not.... 9\n"
     ]
    }
   ],
   "source": [
    "for x in range(10):\n",
    "    if x==4:\n",
    "        print(\"I got it\",x)\n",
    "    else:\n",
    "        print(\"Not....\",x)"
   ]
  },
  {
   "cell_type": "code",
   "execution_count": 14,
   "id": "bb27d14e",
   "metadata": {},
   "outputs": [
    {
     "name": "stdout",
     "output_type": "stream",
     "text": [
      "Enter a number:8\n",
      "Not....\n",
      "Not....\n",
      "Not....\n",
      "Not....\n",
      "Not....\n",
      "Not....\n",
      "Not....\n",
      "Not....\n",
      "Finally i got...\n",
      "Not....\n"
     ]
    }
   ],
   "source": [
    "a=int(input(\"Enter a number:\"))\n",
    "for x in range(10):\n",
    "    if x==a:\n",
    "        print(\"Finally i got...\")\n",
    "    else:\n",
    "        print(\"Not....\")"
   ]
  },
  {
   "cell_type": "code",
   "execution_count": 16,
   "id": "5cee513f",
   "metadata": {},
   "outputs": [
    {
     "name": "stdout",
     "output_type": "stream",
     "text": [
      "enter a theroy score : 85\n",
      "enter a practicalscore : 96\n",
      "Please check the input. Score exceeds total possible score.\n"
     ]
    }
   ],
   "source": [
    "\n",
    "\n",
    "score_theory=int(input(\"enter a theroy score : \"))\n",
    "score_practical=int(input(\"enter a practicalscore : \"))\n",
    "if(score_theory+score_practical>100):\n",
    "    print(\"Please check the input. Score exceeds total possible score.\")\n",
    "else:\n",
    "    print(\"Score validated. Your total is: \", score_theory + score_practical)\n",
    "    "
   ]
  },
  {
   "cell_type": "code",
   "execution_count": 17,
   "id": "b8f7b006",
   "metadata": {},
   "outputs": [
    {
     "name": "stdout",
     "output_type": "stream",
     "text": [
      "Enter the A value:89\n",
      "Enter the B value:69\n",
      "Substraction: 158 Addition: 20 Multipliction 6141 Division 1.289855072463768\n",
      "*********************************************\n",
      "*********************************************\n",
      "Enter the A value:56\n",
      "Enter the B value:89\n",
      "Substraction: 145 Addition: -33 Multipliction 4984 Division 0.6292134831460674\n",
      "*********************************************\n",
      "*********************************************\n",
      "Enter the A value:45\n",
      "Enter the B value:85\n",
      "Substraction: 130 Addition: -40 Multipliction 3825 Division 0.5294117647058824\n",
      "*********************************************\n",
      "*********************************************\n",
      "Enter the A value:25\n",
      "Enter the B value:85\n",
      "Substraction: 110 Addition: -60 Multipliction 2125 Division 0.29411764705882354\n",
      "*********************************************\n",
      "*********************************************\n"
     ]
    }
   ],
   "source": [
    "w=\"pune\"\n",
    "for i in w:\n",
    "    a=int(input(\"Enter the A value:\"))\n",
    "    b=int(input(\"Enter the B value:\"))\n",
    "    c=a+b\n",
    "    d=a-b\n",
    "    e=a*b\n",
    "    f=a/b\n",
    "    print(\"Substraction:\",c,\"Addition:\",d,\"Multipliction\",e,\"Division\",f)\n",
    "    print(\"*********************************************\")\n",
    "    print(\"*********************************************\")"
   ]
  },
  {
   "cell_type": "code",
   "execution_count": 18,
   "id": "fcf0e47e",
   "metadata": {},
   "outputs": [
    {
     "name": "stdout",
     "output_type": "stream",
     "text": [
      "red apple\n",
      "red mango\n",
      "red banana\n",
      "big apple\n",
      "big mango\n",
      "big banana\n",
      "tasty apple\n",
      "tasty mango\n",
      "tasty banana\n"
     ]
    }
   ],
   "source": [
    "adj=[\"red\",\"big\", \"tasty\"]\n",
    "fruits=[\"apple\",\"mango\",\"banana\"]\n",
    "for i in adj:\n",
    "    for j in fruits:\n",
    "        print(i,j)"
   ]
  },
  {
   "cell_type": "code",
   "execution_count": null,
   "id": "52c8c87f",
   "metadata": {},
   "outputs": [],
   "source": []
  }
 ],
 "metadata": {
  "kernelspec": {
   "display_name": "Python 3 (ipykernel)",
   "language": "python",
   "name": "python3"
  },
  "language_info": {
   "codemirror_mode": {
    "name": "ipython",
    "version": 3
   },
   "file_extension": ".py",
   "mimetype": "text/x-python",
   "name": "python",
   "nbconvert_exporter": "python",
   "pygments_lexer": "ipython3",
   "version": "3.9.7"
  }
 },
 "nbformat": 4,
 "nbformat_minor": 5
}
