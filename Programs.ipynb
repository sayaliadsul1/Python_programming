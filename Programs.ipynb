{
 "cells": [
  {
   "cell_type": "code",
   "execution_count": 1,
   "id": "ae7df496",
   "metadata": {},
   "outputs": [
    {
     "name": "stdout",
     "output_type": "stream",
     "text": [
      "['seema', 'sayali', 'nilam', 'kajal', 'ankita']\n",
      "['sagar', 'abhi', 'akshay', 'rahul', 'atul', 'karan']\n"
     ]
    }
   ],
   "source": [
    "\n",
    "general=[\"sagar\",\"seema\",\"abhi\",\"akshay\",\"sayali\",\"rahul\",\"nilam\",\"atul\",\"kajal\",\"karan\",\"ankita\"]\n",
    "girls=[\"seema\",\"sayali\",\"nilam\",\"kajal\",\"ankita\"]\n",
    "boys=[\"sagar\",\"abhi\",\"akshay\",\"rahul\",\"atul\",\"karan\"]\n",
    "g_hostel=[]\n",
    "b_hostel=[]\n",
    "for g in general:\n",
    "    for girl in girls:\n",
    "        if g==girl:\n",
    "            g_hostel.append(g)\n",
    "            \n",
    "    if g in boys:\n",
    "        b_hostel.append(g)        \n",
    "        \n",
    "            \n",
    "print(g_hostel) \n",
    "print(b_hostel)\n",
    "\n",
    "\n"
   ]
  },
  {
   "cell_type": "code",
   "execution_count": 2,
   "id": "8589f14b",
   "metadata": {},
   "outputs": [
    {
     "name": "stdout",
     "output_type": "stream",
     "text": [
      "['Sagar', 'Amit', 'Meet', 'Giri']\n",
      "[]\n"
     ]
    }
   ],
   "source": [
    "gen=[\"Pooja\",\"Sagar\",\"Amit\",\"Sanika\",\"Meet\",\"Geet\",\"Giri\",\"Priti\"]\n",
    "girl=[\"Priti\",\"Sanika\",\"Geet\",\"Pooja\"]\n",
    "boys=[\"Sagar\",\"Amit\",\"Meet\",\"Giri\"]\n",
    "Girls_H=[]\n",
    "Boys_H=[]\n",
    "ab=[]\n",
    "def data():\n",
    "    for main in gen:\n",
    "        for g in girl:\n",
    "            if main==g:\n",
    "                Girls_H.append(g)\n",
    "                gen.remove(g)\n",
    "    return gen\n",
    "ab=data()\n",
    "print(ab)\n",
    "for x in ab:\n",
    "    for g1 in boys:\n",
    "        if x==g1:\n",
    "            Boys_H.append(g1)\n",
    "            ab.remove(g1)\n",
    "            del ab[-1]\n",
    "print(ab)\n",
    "\n"
   ]
  },
  {
   "cell_type": "code",
   "execution_count": 3,
   "id": "bbd6fa11",
   "metadata": {},
   "outputs": [
    {
     "name": "stdout",
     "output_type": "stream",
     "text": [
      "[2, 4, 98, 88, 64]\n",
      "[3, 7, 9, 15, 17, 23, 29]\n"
     ]
    }
   ],
   "source": [
    "#check if a number is odd or even\n",
    "list1=[2,3,4,7,9,15,17,98,88,64,23,29]\n",
    "ab=[]\n",
    "ab1=[]\n",
    "for i in list1:\n",
    "    if (i%2==0):\n",
    "        ab.append(i)\n",
    "    else:\n",
    "        ab1.append(i)\n",
    "        \n",
    "print(ab)\n",
    "print(ab1)"
   ]
  },
  {
   "cell_type": "code",
   "execution_count": 4,
   "id": "ec10aa53",
   "metadata": {},
   "outputs": [
    {
     "name": "stdout",
     "output_type": "stream",
     "text": [
      "Enter the Number: 7\n",
      "The number is prime\n"
     ]
    }
   ],
   "source": [
    "#check if a number is prime or not\n",
    "num=int(input(\"Enter the Number: \"))\n",
    "flag=0\n",
    "for i in range(2,num):\n",
    "    if(num%i==0):\n",
    "        flag=1\n",
    "        break\n",
    "if(flag==0):\n",
    "    print(\"The number is prime\")\n",
    "else:\n",
    "    print(\"The number is not prime\")"
   ]
  },
  {
   "cell_type": "code",
   "execution_count": null,
   "id": "dd588725",
   "metadata": {},
   "outputs": [],
   "source": []
  }
 ],
 "metadata": {
  "kernelspec": {
   "display_name": "Python 3 (ipykernel)",
   "language": "python",
   "name": "python3"
  },
  "language_info": {
   "codemirror_mode": {
    "name": "ipython",
    "version": 3
   },
   "file_extension": ".py",
   "mimetype": "text/x-python",
   "name": "python",
   "nbconvert_exporter": "python",
   "pygments_lexer": "ipython3",
   "version": "3.9.7"
  }
 },
 "nbformat": 4,
 "nbformat_minor": 5
}
