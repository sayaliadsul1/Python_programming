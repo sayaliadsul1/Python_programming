{
 "cells": [
  {
   "cell_type": "code",
   "execution_count": 1,
   "id": "5cdb5873",
   "metadata": {},
   "outputs": [],
   "source": [
    "import numpy as np"
   ]
  },
  {
   "cell_type": "code",
   "execution_count": 20,
   "id": "edc3e321",
   "metadata": {},
   "outputs": [
    {
     "name": "stdout",
     "output_type": "stream",
     "text": [
      "[2 3 4 5 6 7 8]\n",
      "int32\n"
     ]
    }
   ],
   "source": [
    "s=np.array([2,3,4,5,6,7,8])\n",
    "print(s)\n",
    "print(s.dtype)"
   ]
  },
  {
   "cell_type": "code",
   "execution_count": 22,
   "id": "e08682b7",
   "metadata": {},
   "outputs": [
    {
     "name": "stdout",
     "output_type": "stream",
     "text": [
      "float64\n"
     ]
    }
   ],
   "source": [
    "s2=np.array([2.5,3,4,5,6,7,8])\n",
    "print(s2.dtype)"
   ]
  },
  {
   "cell_type": "code",
   "execution_count": 21,
   "id": "2164b525",
   "metadata": {},
   "outputs": [
    {
     "name": "stdout",
     "output_type": "stream",
     "text": [
      "<U32\n"
     ]
    }
   ],
   "source": [
    "s3=np.array([2.5,3,4,\"5\",6,7,8])\n",
    "print(s3.dtype)"
   ]
  },
  {
   "cell_type": "code",
   "execution_count": 18,
   "id": "5c75111d",
   "metadata": {},
   "outputs": [
    {
     "name": "stdout",
     "output_type": "stream",
     "text": [
      "int32\n",
      "0\n"
     ]
    }
   ],
   "source": [
    "a=np.array(5)             # Zero dimension array\n",
    "print(a.dtype)\n",
    "print(a.ndim)     "
   ]
  },
  {
   "cell_type": "code",
   "execution_count": 26,
   "id": "ad75b785",
   "metadata": {},
   "outputs": [
    {
     "name": "stdout",
     "output_type": "stream",
     "text": [
      "1\n"
     ]
    }
   ],
   "source": [
    "a1=np.array([2,3,4,5,6,7])     # One dimensional array\n",
    "print(a1.ndim)"
   ]
  },
  {
   "cell_type": "code",
   "execution_count": 28,
   "id": "4f9f3fc0",
   "metadata": {},
   "outputs": [
    {
     "name": "stdout",
     "output_type": "stream",
     "text": [
      "2\n"
     ]
    }
   ],
   "source": [
    "a2=np.array([[2,3,4,5,6]])      # Two dimensional array\n",
    "print(a2.ndim)"
   ]
  },
  {
   "cell_type": "code",
   "execution_count": 34,
   "id": "157ea5bb",
   "metadata": {},
   "outputs": [
    {
     "name": "stdout",
     "output_type": "stream",
     "text": [
      "[[[2 2 2]\n",
      "  [3 3 3]\n",
      "  [4 4 4]]]\n",
      "3\n"
     ]
    }
   ],
   "source": [
    "a3=np.array([[[2,2,2],[3,3,3],[4,4,4]]])\n",
    "print(a3)\n",
    "print(a3.ndim)"
   ]
  },
  {
   "cell_type": "code",
   "execution_count": 33,
   "id": "06038a50",
   "metadata": {},
   "outputs": [
    {
     "name": "stdout",
     "output_type": "stream",
     "text": [
      "(1, 3, 3)\n"
     ]
    }
   ],
   "source": [
    "print(a3.shape)"
   ]
  },
  {
   "cell_type": "code",
   "execution_count": 37,
   "id": "e37485ba",
   "metadata": {},
   "outputs": [
    {
     "name": "stdout",
     "output_type": "stream",
     "text": [
      "[[[2 2 2]\n",
      "  [3 3 3]\n",
      "  [4 4 4]]\n",
      "\n",
      " [[2 2 2]\n",
      "  [3 3 3]\n",
      "  [4 4 4]]]\n",
      "3\n"
     ]
    }
   ],
   "source": [
    "a4=np.array([[[2,2,2],[3,3,3],[4,4,4]],[[2,2,2],[3,3,3],[4,4,4]]])\n",
    "print(a4)\n",
    "print(a4.ndim)"
   ]
  },
  {
   "cell_type": "code",
   "execution_count": 38,
   "id": "c9cf962d",
   "metadata": {},
   "outputs": [
    {
     "name": "stdout",
     "output_type": "stream",
     "text": [
      "(2, 3, 3)\n"
     ]
    }
   ],
   "source": [
    "print(a4.shape)"
   ]
  },
  {
   "cell_type": "code",
   "execution_count": 40,
   "id": "b7ab91d0",
   "metadata": {},
   "outputs": [
    {
     "name": "stdout",
     "output_type": "stream",
     "text": [
      "[[[[4 4 4]\n",
      "   [4 4 4]\n",
      "   [4 4 4]]\n",
      "\n",
      "  [[4 4 4]\n",
      "   [4 4 4]\n",
      "   [4 4 4]]]]\n",
      "4\n"
     ]
    }
   ],
   "source": [
    "a_4d=np.array([[[[4,4,4],[4,4,4],[4,4,4]],[[4,4,4],[4,4,4],[4,4,4]]]])\n",
    "print(a_4d)\n",
    "print(a_4d.ndim)"
   ]
  },
  {
   "cell_type": "code",
   "execution_count": 42,
   "id": "effc2d68",
   "metadata": {},
   "outputs": [
    {
     "name": "stdout",
     "output_type": "stream",
     "text": [
      "(1, 2, 3, 3)\n"
     ]
    }
   ],
   "source": [
    "print(a_4d.shape)"
   ]
  },
  {
   "cell_type": "code",
   "execution_count": 45,
   "id": "b73e185b",
   "metadata": {},
   "outputs": [
    {
     "name": "stdout",
     "output_type": "stream",
     "text": [
      "[[[[4 4 4]\n",
      "   [4 4 4]\n",
      "   [4 4 4]]]]\n",
      "4\n",
      "(1, 1, 3, 3)\n"
     ]
    }
   ],
   "source": [
    "at=np.array([[[[4,4,4],[4,4,4],[4,4,4]]]])\n",
    "print(at)\n",
    "print(at.ndim)\n",
    "print(at.shape)"
   ]
  },
  {
   "cell_type": "code",
   "execution_count": 53,
   "id": "55d29583",
   "metadata": {},
   "outputs": [
    {
     "name": "stdout",
     "output_type": "stream",
     "text": [
      "[[[[11 12 13]\n",
      "   [14 15 16]]\n",
      "\n",
      "  [[11 12 13]\n",
      "   [14 15 16]]]\n",
      "\n",
      "\n",
      " [[[11 12 13]\n",
      "   [14 15 16]]\n",
      "\n",
      "  [[11 12 13]\n",
      "   [14 15 16]]]]\n"
     ]
    }
   ],
   "source": [
    "ar=np.array([[[[11,12,13],[14,15,16]],[[11,12,13],[14,15,16]]],[[[11,12,13],[14,15,16]],[[11,12,13],[14,15,16]]]])\n",
    "print(ar)"
   ]
  },
  {
   "cell_type": "code",
   "execution_count": 54,
   "id": "4be0eebe",
   "metadata": {},
   "outputs": [
    {
     "name": "stdout",
     "output_type": "stream",
     "text": [
      "(2, 2, 2, 3)\n"
     ]
    }
   ],
   "source": [
    "print(ar.shape)"
   ]
  },
  {
   "cell_type": "code",
   "execution_count": null,
   "id": "62096169",
   "metadata": {},
   "outputs": [],
   "source": []
  },
  {
   "cell_type": "code",
   "execution_count": null,
   "id": "06db5574",
   "metadata": {},
   "outputs": [],
   "source": []
  }
 ],
 "metadata": {
  "kernelspec": {
   "display_name": "Python 3 (ipykernel)",
   "language": "python",
   "name": "python3"
  },
  "language_info": {
   "codemirror_mode": {
    "name": "ipython",
    "version": 3
   },
   "file_extension": ".py",
   "mimetype": "text/x-python",
   "name": "python",
   "nbconvert_exporter": "python",
   "pygments_lexer": "ipython3",
   "version": "3.9.7"
  }
 },
 "nbformat": 4,
 "nbformat_minor": 5
}
