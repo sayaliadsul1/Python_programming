{
 "cells": [
  {
   "cell_type": "code",
   "execution_count": 40,
   "id": "f3fcbee5",
   "metadata": {},
   "outputs": [],
   "source": [
    "# List \n",
    "# 1)List is Collection of items storing in single variable\n",
    "# 2)List allows duplicate items\n",
    "# 3)List is changable\n",
    "# 4)List is Indexed and Ordered\n",
    "# 5)List defines in []"
   ]
  },
  {
   "cell_type": "code",
   "execution_count": 41,
   "id": "4523cb50",
   "metadata": {},
   "outputs": [
    {
     "name": "stdout",
     "output_type": "stream",
     "text": [
      "<class 'list'>\n",
      "<class 'list'>\n"
     ]
    }
   ],
   "source": [
    "name=[\"Sagar\",\"Amit\",\"Amar\",\"Priya\",\"Jeet\",\"Meet\"]\n",
    "sports=list()\n",
    "print(type(name))\n",
    "print(type(sports))"
   ]
  },
  {
   "cell_type": "code",
   "execution_count": 11,
   "id": "35ec4bef",
   "metadata": {},
   "outputs": [
    {
     "name": "stdout",
     "output_type": "stream",
     "text": [
      "['Amit', 'Amar', 'Priya', 'Jeet']\n"
     ]
    }
   ],
   "source": [
    "# How to access elements from list\n",
    "ab=name[-5:5]\n",
    "print(ab)\n"
   ]
  },
  {
   "cell_type": "code",
   "execution_count": 13,
   "id": "17cdcb90",
   "metadata": {},
   "outputs": [
    {
     "name": "stdout",
     "output_type": "stream",
     "text": [
      "['Sagar', 'Amit', 'akshay', 'Amar', 'Priya', 'Jeet', 'Meet']\n"
     ]
    }
   ],
   "source": [
    "# Items Insert and Remove\n",
    "name=[\"Sagar\",\"Amit\",\"Amar\",\"Priya\",\"Jeet\",\"Meet\"]\n",
    "#a=input(\"Enter the Items in List\")\n",
    "#name.insert(1,a)\n",
    "name.insert(2,\"akshay\")\n",
    "print(name)"
   ]
  },
  {
   "cell_type": "code",
   "execution_count": 15,
   "id": "5653a62f",
   "metadata": {},
   "outputs": [
    {
     "name": "stdout",
     "output_type": "stream",
     "text": [
      "Enter the Items in List : sayali\n",
      "['Sagar', 'Amit', 'Amar', 'Priya', 'Jeet', 'Meet', 'sayali']\n"
     ]
    }
   ],
   "source": [
    "name=[\"Sagar\",\"Amit\",\"Amar\",\"Priya\",\"Jeet\",\"Meet\"]\n",
    "a=input(\"Enter the Items in List : \")\n",
    "# b=\"Sangeeta\"\n",
    "name.append(a)\n",
    "print(name)"
   ]
  },
  {
   "cell_type": "code",
   "execution_count": null,
   "id": "39a0b462",
   "metadata": {},
   "outputs": [],
   "source": [
    "# #Tuple\n",
    "# 1)Tuple is not changable\n",
    "# 2)Tuple allows duplicate members\n",
    "# 3)Tuple ()\n",
    "# 4)Its Indexed and Ordered"
   ]
  },
  {
   "cell_type": "code",
   "execution_count": 16,
   "id": "a0e764c5",
   "metadata": {},
   "outputs": [
    {
     "name": "stdout",
     "output_type": "stream",
     "text": [
      "<class 'tuple'>\n",
      "<class 'tuple'>\n"
     ]
    }
   ],
   "source": [
    "city=()\n",
    "city1=tuple()\n",
    "print(type(city))\n",
    "print(type(city1))"
   ]
  },
  {
   "cell_type": "code",
   "execution_count": 17,
   "id": "2e3f0519",
   "metadata": {},
   "outputs": [
    {
     "name": "stdout",
     "output_type": "stream",
     "text": [
      "7\n"
     ]
    }
   ],
   "source": [
    "city=(\"Mumbai\",\"Pune\",\"Kolhapur\",\"Satara\",\"Karad\",\"Sangli\",\"Nashik\")\n",
    "print(len(city))"
   ]
  },
  {
   "cell_type": "code",
   "execution_count": 18,
   "id": "24da8ca0",
   "metadata": {},
   "outputs": [
    {
     "name": "stdout",
     "output_type": "stream",
     "text": [
      "('Kolhapur', 'Satara')\n"
     ]
    }
   ],
   "source": [
    "print(city[2:-3])"
   ]
  },
  {
   "cell_type": "code",
   "execution_count": 19,
   "id": "db5eac99",
   "metadata": {},
   "outputs": [
    {
     "name": "stdout",
     "output_type": "stream",
     "text": [
      "('Mumbai', 'Pune', 'Kolhapur', 'Satara', 'Karad', 'Sangli', 'Nashik', '2Mumbai', 'Pun1e', 'Kolhapu1r', 'S1atara', 'Kar1ad', 'Sangl1i', 'Nashik1')\n"
     ]
    }
   ],
   "source": [
    "city=(\"Mumbai\",\"Pune\",\"Kolhapur\",\"Satara\",\"Karad\",\"Sangli\",\"Nashik\")\n",
    "t2=(\"2Mumbai\",\"Pun1e\",\"Kolhapu1r\",\"S1atara\",\"Kar1ad\",\"Sangl1i\",\"Nashik1\")\n",
    "t1=city+t2\n",
    "print(t1)"
   ]
  },
  {
   "cell_type": "code",
   "execution_count": 20,
   "id": "53e58b0e",
   "metadata": {},
   "outputs": [
    {
     "name": "stdout",
     "output_type": "stream",
     "text": [
      "('2Mumbai', 'Pun1e', 'Kolhapu1r', 'S1atara', 'Kar1ad', 'Sangl1i', 'Nashik1', '2Mumbai', 'Pun1e', 'Kolhapu1r', 'S1atara', 'Kar1ad', 'Sangl1i', 'Nashik1')\n"
     ]
    }
   ],
   "source": [
    "t2=(\"2Mumbai\",\"Pun1e\",\"Kolhapu1r\",\"S1atara\",\"Kar1ad\",\"Sangl1i\",\"Nashik1\")\n",
    "t1=t2*2\n",
    "print(t1)"
   ]
  },
  {
   "cell_type": "code",
   "execution_count": null,
   "id": "a5a9656f",
   "metadata": {},
   "outputs": [],
   "source": [
    "#Sets\n",
    "# 1)Set Not Allows Duplicate Items\n",
    "# 2)Sets does not provide ordered and indexed concepts\n",
    "# 3)Sets is Changable\n",
    "# 4)Sets {}"
   ]
  },
  {
   "cell_type": "code",
   "execution_count": 22,
   "id": "fc59bdc7",
   "metadata": {},
   "outputs": [
    {
     "name": "stdout",
     "output_type": "stream",
     "text": [
      "<class 'set'>\n",
      "<class 'set'>\n"
     ]
    }
   ],
   "source": [
    "name={\"Ajay\",\"Amit\",\"Ankita\",\"Sayali\",\"Nikita\",\"Renu\",\"Kajal\",\"Me\"}\n",
    "name1=set()\n",
    "print(type(name))\n",
    "print(type(name1))"
   ]
  },
  {
   "cell_type": "code",
   "execution_count": 24,
   "id": "1b070167",
   "metadata": {},
   "outputs": [
    {
     "name": "stdout",
     "output_type": "stream",
     "text": [
      "<class 'dict'>\n"
     ]
    }
   ],
   "source": [
    "city={\"Name\":\"Abhay\"}\n",
    "print(type(city))"
   ]
  },
  {
   "cell_type": "code",
   "execution_count": 25,
   "id": "62911e59",
   "metadata": {},
   "outputs": [
    {
     "ename": "TypeError",
     "evalue": "'set' object is not subscriptable",
     "output_type": "error",
     "traceback": [
      "\u001b[1;31m---------------------------------------------------------------------------\u001b[0m",
      "\u001b[1;31mTypeError\u001b[0m                                 Traceback (most recent call last)",
      "\u001b[1;32m~\\AppData\\Local\\Temp/ipykernel_6592/3387655891.py\u001b[0m in \u001b[0;36m<module>\u001b[1;34m\u001b[0m\n\u001b[0;32m      1\u001b[0m \u001b[0mname\u001b[0m\u001b[1;33m=\u001b[0m\u001b[1;33m{\u001b[0m\u001b[1;34m\"Ajay\"\u001b[0m\u001b[1;33m,\u001b[0m\u001b[1;34m\"Amit\"\u001b[0m\u001b[1;33m,\u001b[0m\u001b[1;34m\"Ankita\"\u001b[0m\u001b[1;33m,\u001b[0m\u001b[1;34m\"Sayali\"\u001b[0m\u001b[1;33m,\u001b[0m\u001b[1;34m\"Nikita\"\u001b[0m\u001b[1;33m,\u001b[0m\u001b[1;34m\"Renu\"\u001b[0m\u001b[1;33m,\u001b[0m\u001b[1;34m\"Kajal\"\u001b[0m\u001b[1;33m,\u001b[0m\u001b[1;34m\"Me\"\u001b[0m\u001b[1;33m}\u001b[0m\u001b[1;33m\u001b[0m\u001b[1;33m\u001b[0m\u001b[0m\n\u001b[1;32m----> 2\u001b[1;33m \u001b[0mab\u001b[0m\u001b[1;33m=\u001b[0m\u001b[0mname\u001b[0m\u001b[1;33m[\u001b[0m\u001b[1;36m1\u001b[0m\u001b[1;33m]\u001b[0m\u001b[1;33m\u001b[0m\u001b[1;33m\u001b[0m\u001b[0m\n\u001b[0m\u001b[0;32m      3\u001b[0m \u001b[0mprint\u001b[0m\u001b[1;33m(\u001b[0m\u001b[0mab\u001b[0m\u001b[1;33m)\u001b[0m\u001b[1;33m\u001b[0m\u001b[1;33m\u001b[0m\u001b[0m\n",
      "\u001b[1;31mTypeError\u001b[0m: 'set' object is not subscriptable"
     ]
    }
   ],
   "source": [
    "name={\"Ajay\",\"Amit\",\"Ankita\",\"Sayali\",\"Nikita\",\"Renu\",\"Kajal\",\"Me\"}\n",
    "ab=name[1]\n",
    "print(ab)"
   ]
  },
  {
   "cell_type": "code",
   "execution_count": 28,
   "id": "a3aeaebe",
   "metadata": {},
   "outputs": [
    {
     "ename": "TypeError",
     "evalue": "'set' object is not subscriptable",
     "output_type": "error",
     "traceback": [
      "\u001b[1;31m---------------------------------------------------------------------------\u001b[0m",
      "\u001b[1;31mTypeError\u001b[0m                                 Traceback (most recent call last)",
      "\u001b[1;32m~\\AppData\\Local\\Temp/ipykernel_6592/35530380.py\u001b[0m in \u001b[0;36m<module>\u001b[1;34m\u001b[0m\n\u001b[0;32m      1\u001b[0m \u001b[0mname\u001b[0m\u001b[1;33m=\u001b[0m\u001b[1;33m{\u001b[0m\u001b[1;34m\"Ajay\"\u001b[0m\u001b[1;33m,\u001b[0m\u001b[1;34m\"Amit\"\u001b[0m\u001b[1;33m,\u001b[0m\u001b[1;34m\"Ankita\"\u001b[0m\u001b[1;33m,\u001b[0m\u001b[1;34m\"Sayali\"\u001b[0m\u001b[1;33m,\u001b[0m\u001b[1;34m\"Nikita\"\u001b[0m\u001b[1;33m,\u001b[0m\u001b[1;34m\"Renu\"\u001b[0m\u001b[1;33m,\u001b[0m\u001b[1;34m\"Kajal\"\u001b[0m\u001b[1;33m,\u001b[0m\u001b[1;34m\"Me\"\u001b[0m\u001b[1;33m}\u001b[0m\u001b[1;33m\u001b[0m\u001b[1;33m\u001b[0m\u001b[0m\n\u001b[1;32m----> 2\u001b[1;33m \u001b[0mab\u001b[0m\u001b[1;33m=\u001b[0m\u001b[0mname\u001b[0m\u001b[1;33m[\u001b[0m\u001b[1;36m1\u001b[0m\u001b[1;33m:\u001b[0m\u001b[1;36m5\u001b[0m\u001b[1;33m]\u001b[0m\u001b[1;33m\u001b[0m\u001b[1;33m\u001b[0m\u001b[0m\n\u001b[0m\u001b[0;32m      3\u001b[0m \u001b[0mprint\u001b[0m\u001b[1;33m(\u001b[0m\u001b[0mab\u001b[0m\u001b[1;33m)\u001b[0m\u001b[1;33m\u001b[0m\u001b[1;33m\u001b[0m\u001b[0m\n",
      "\u001b[1;31mTypeError\u001b[0m: 'set' object is not subscriptable"
     ]
    }
   ],
   "source": [
    "name={\"Ajay\",\"Amit\",\"Ankita\",\"Sayali\",\"Nikita\",\"Renu\",\"Kajal\",\"Me\"}\n",
    "ab=name[1:5]\n",
    "print(ab)"
   ]
  },
  {
   "cell_type": "code",
   "execution_count": 29,
   "id": "343bfefe",
   "metadata": {},
   "outputs": [
    {
     "name": "stdout",
     "output_type": "stream",
     "text": [
      "{'Amit', 'Nikita', 'Renu', 'Ajay', 'Kajal', 'Ankita', 'Me', 'Sayali'}\n"
     ]
    }
   ],
   "source": [
    "name={\"Ajay\",\"Amit\",\"Ankita\",\"Sayali\",\"Nikita\",\"Renu\",\"Kajal\",\"Me\"}\n",
    "name.add(\"Amit\")\n",
    "print(name)"
   ]
  },
  {
   "cell_type": "code",
   "execution_count": 30,
   "id": "46751a78",
   "metadata": {},
   "outputs": [
    {
     "name": "stdout",
     "output_type": "stream",
     "text": [
      "{'Nikita', 'Renu', 'Ajay', 'Kajal', 'Ankita', 'Me', 'Sayali'}\n"
     ]
    }
   ],
   "source": [
    "name={\"Ajay\",\"Amit\",\"Ankita\",\"Sayali\",\"Nikita\",\"Renu\",\"Kajal\",\"Me\"}\n",
    "name.discard(\"Amit\")\n",
    "print(name)"
   ]
  },
  {
   "cell_type": "code",
   "execution_count": 34,
   "id": "6f393c5c",
   "metadata": {},
   "outputs": [
    {
     "name": "stdout",
     "output_type": "stream",
     "text": [
      "{'Nikita', 'Renu', 'Ajay', 'Kajal', 'Ankita', 'Me', 'Sayali'}\n"
     ]
    }
   ],
   "source": [
    "name={\"Ajay\",\"Amit\",\"Ankita\",\"Sayali\",\"Nikita\",\"Renu\",\"Kajal\",\"Me\"}\n",
    "#name.remove(\"shiva\")\n",
    "name.remove(\"Amit\")\n",
    "print(name)"
   ]
  },
  {
   "cell_type": "code",
   "execution_count": 35,
   "id": "2a299f87",
   "metadata": {},
   "outputs": [
    {
     "name": "stdout",
     "output_type": "stream",
     "text": [
      "{'Amit', 'Nikita', 'Ren1u', 'A1nkita', 'Ni1kita', 'Renu', 'Ajay', 'A1jay', 'S1ayali', 'Kajal', 'Ankita', 'A1mit', 'K1ajal', 'Me', 'M1e', 'Sayali'}\n"
     ]
    }
   ],
   "source": [
    "# How to join\n",
    "name={\"Ajay\",\"Amit\",\"Ankita\",\"Sayali\",\"Nikita\",\"Renu\",\"Kajal\",\"Me\"}\n",
    "name1={\"A1jay\",\"A1mit\",\"A1nkita\",\"S1ayali\",\"Ni1kita\",\"Ren1u\",\"K1ajal\",\"M1e\"}\n",
    "sets1=name.union(name1)\n",
    "print(sets1)\n"
   ]
  },
  {
   "cell_type": "code",
   "execution_count": 4,
   "id": "43dd8f47",
   "metadata": {},
   "outputs": [
    {
     "name": "stdout",
     "output_type": "stream",
     "text": [
      "No....\n",
      "No....\n",
      "I am Best...\n",
      "No....\n",
      "No....\n",
      "No....\n",
      "No....\n",
      "No....\n"
     ]
    }
   ],
   "source": [
    "n={\"Ajay\",\"Amit\",\"Ankita\",\"Sayali\",\"Nikita\",\"Renu\",\"Kajal\",\"Me\"}\n",
    "for x in n:\n",
    "    if x==\"Sayali\":\n",
    "        print(\"I am Best...\")\n",
    "    else:\n",
    "        print(\"No....\")\n",
    "        "
   ]
  },
  {
   "cell_type": "code",
   "execution_count": 56,
   "id": "77b8555c",
   "metadata": {},
   "outputs": [],
   "source": [
    "#Dictionaries\n",
    "# Dictionaries are collections of Key and Values Pairs\n",
    "# This is Not allows keys as duplicate...but values you can add duplicate\n",
    "#Ordered and Indexed\n",
    "# a={keys and valaues}"
   ]
  },
  {
   "cell_type": "code",
   "execution_count": 38,
   "id": "6d9f4fdf",
   "metadata": {},
   "outputs": [
    {
     "name": "stdout",
     "output_type": "stream",
     "text": [
      "<class 'dict'>\n",
      "<class 'dict'>\n"
     ]
    }
   ],
   "source": [
    "name={}\n",
    "nameq=dict()\n",
    "print(type(name))\n",
    "print(type(nameq))"
   ]
  },
  {
   "cell_type": "code",
   "execution_count": 41,
   "id": "6d5146c1",
   "metadata": {},
   "outputs": [
    {
     "name": "stdout",
     "output_type": "stream",
     "text": [
      "{'Boys': 'Amit', 'Girls': 'Pooja', 'City': 'Pune', 'Pin Code': 1234}\n"
     ]
    }
   ],
   "source": [
    "name={\"Boys\":\"Amit\",\n",
    "      \"Girls\":\"Pooja\",\n",
    "       \"City\":\"Pune\",\n",
    "     \"Pin Code\":1234}\n",
    "print(name)"
   ]
  },
  {
   "cell_type": "code",
   "execution_count": 42,
   "id": "2f1c0732",
   "metadata": {},
   "outputs": [
    {
     "data": {
      "text/plain": [
       "'Amit'"
      ]
     },
     "execution_count": 42,
     "metadata": {},
     "output_type": "execute_result"
    }
   ],
   "source": [
    "name[\"Boys\"]"
   ]
  },
  {
   "cell_type": "code",
   "execution_count": 43,
   "id": "b914beae",
   "metadata": {},
   "outputs": [
    {
     "ename": "KeyError",
     "evalue": "1",
     "output_type": "error",
     "traceback": [
      "\u001b[1;31m---------------------------------------------------------------------------\u001b[0m",
      "\u001b[1;31mKeyError\u001b[0m                                  Traceback (most recent call last)",
      "\u001b[1;32m~\\AppData\\Local\\Temp/ipykernel_6592/1955672895.py\u001b[0m in \u001b[0;36m<module>\u001b[1;34m\u001b[0m\n\u001b[1;32m----> 1\u001b[1;33m \u001b[0mprint\u001b[0m\u001b[1;33m(\u001b[0m\u001b[0mname\u001b[0m\u001b[1;33m[\u001b[0m\u001b[1;36m1\u001b[0m\u001b[1;33m]\u001b[0m\u001b[1;33m)\u001b[0m\u001b[1;33m\u001b[0m\u001b[1;33m\u001b[0m\u001b[0m\n\u001b[0m",
      "\u001b[1;31mKeyError\u001b[0m: 1"
     ]
    }
   ],
   "source": [
    "print(name[1])"
   ]
  },
  {
   "cell_type": "code",
   "execution_count": 46,
   "id": "c8baa22e",
   "metadata": {},
   "outputs": [
    {
     "name": "stdout",
     "output_type": "stream",
     "text": [
      "{'Name': 'Sayali', 'No': 123, 'City': 'Pune', 'Pin Code': 1234}\n"
     ]
    }
   ],
   "source": [
    "name={\"Name\":\"Sayali\",\n",
    "      \"No\":123,\n",
    "       \"City\":\"Pune\",\n",
    "     \"Pin Code\":1234}\n",
    "print(name)"
   ]
  },
  {
   "cell_type": "code",
   "execution_count": 50,
   "id": "dd7d22d5",
   "metadata": {},
   "outputs": [
    {
     "name": "stdout",
     "output_type": "stream",
     "text": [
      "Sayali\n",
      "123\n",
      "Pune\n",
      "1234\n"
     ]
    }
   ],
   "source": [
    "for x in name.values():\n",
    "    print(x)"
   ]
  },
  {
   "cell_type": "code",
   "execution_count": 51,
   "id": "47857cf2",
   "metadata": {},
   "outputs": [
    {
     "name": "stdout",
     "output_type": "stream",
     "text": [
      "Name\n",
      "No\n",
      "City\n",
      "Pin Code\n"
     ]
    }
   ],
   "source": [
    "for x in name.keys():\n",
    "    print(x)"
   ]
  },
  {
   "cell_type": "code",
   "execution_count": 52,
   "id": "32b1945e",
   "metadata": {},
   "outputs": [
    {
     "name": "stdout",
     "output_type": "stream",
     "text": [
      "Name Sayali\n",
      "No 123\n",
      "City Pune\n",
      "Pin Code 1234\n"
     ]
    }
   ],
   "source": [
    "for x,y in name.items():\n",
    "    print(x,y)\n"
   ]
  },
  {
   "cell_type": "code",
   "execution_count": 3,
   "id": "5334148a",
   "metadata": {},
   "outputs": [
    {
     "data": {
      "text/plain": [
       "'cherry'"
      ]
     },
     "execution_count": 3,
     "metadata": {},
     "output_type": "execute_result"
    }
   ],
   "source": [
    "fruits = ['apple', 'banana', 'cherry']\n",
    "\n",
    "x = fruits.pop()\n",
    "x"
   ]
  },
  {
   "cell_type": "markdown",
   "id": "649bcbd5",
   "metadata": {},
   "source": [
    "23/3/22"
   ]
  },
  {
   "cell_type": "code",
   "execution_count": null,
   "id": "82cc10d1",
   "metadata": {},
   "outputs": [],
   "source": [
    "# Tuple "
   ]
  },
  {
   "cell_type": "code",
   "execution_count": 6,
   "id": "4d3a849e",
   "metadata": {},
   "outputs": [
    {
     "name": "stdout",
     "output_type": "stream",
     "text": [
      "5\n"
     ]
    }
   ],
   "source": [
    "name=(\"sayali\",\"kajal\",\"pooja\",\"asfiya\",\"renu\")\n",
    "name\n",
    "print(len(name))"
   ]
  },
  {
   "cell_type": "code",
   "execution_count": 7,
   "id": "0f78a722",
   "metadata": {},
   "outputs": [
    {
     "name": "stdout",
     "output_type": "stream",
     "text": [
      "<class 'tuple'>\n"
     ]
    }
   ],
   "source": [
    "print(type(name))"
   ]
  },
  {
   "cell_type": "code",
   "execution_count": 13,
   "id": "c841766b",
   "metadata": {},
   "outputs": [
    {
     "data": {
      "text/plain": [
       "'sayali'"
      ]
     },
     "execution_count": 13,
     "metadata": {},
     "output_type": "execute_result"
    }
   ],
   "source": [
    "name[0]"
   ]
  },
  {
   "cell_type": "code",
   "execution_count": 17,
   "id": "b87cfead",
   "metadata": {},
   "outputs": [
    {
     "name": "stdout",
     "output_type": "stream",
     "text": [
      "('sayali', 'kajal', 'pooja', 'asfiya', 'renu', 'Baramati', 'Kolhapur', 'Pune', 'Satara', 'Karad')\n"
     ]
    }
   ],
   "source": [
    "name=(\"sayali\",\"kajal\",\"pooja\",\"asfiya\",\"renu\")\n",
    "city=(\"Baramati\",\"Kolhapur\",\"Pune\",\"Satara\",\"Karad\")\n",
    "d=name+city\n",
    "print(d)"
   ]
  },
  {
   "cell_type": "code",
   "execution_count": 18,
   "id": "5b79cfea",
   "metadata": {},
   "outputs": [
    {
     "name": "stdout",
     "output_type": "stream",
     "text": [
      "('5sayali', '4kajal', '3pooja', '2asfiya', '1renu', '5sayali', '4kajal', '3pooja', '2asfiya', '1renu')\n"
     ]
    }
   ],
   "source": [
    "d1=(\"5sayali\",\"4kajal\",\"3pooja\",\"2asfiya\",\"1renu\")\n",
    "s=d1*2\n",
    "print(s)"
   ]
  },
  {
   "cell_type": "code",
   "execution_count": null,
   "id": "3c86a35a",
   "metadata": {},
   "outputs": [],
   "source": [
    "# set"
   ]
  },
  {
   "cell_type": "code",
   "execution_count": 30,
   "id": "36034be6",
   "metadata": {},
   "outputs": [
    {
     "data": {
      "text/plain": [
       "{'apple', 'banaa', 'cherry', 'mango', 'watermelon'}"
      ]
     },
     "execution_count": 30,
     "metadata": {},
     "output_type": "execute_result"
    }
   ],
   "source": [
    "fruits={\"mango\",\"banaa\",\"cherry\",\"watermelon\",\"apple\"}\n",
    "fruits"
   ]
  },
  {
   "cell_type": "code",
   "execution_count": 42,
   "id": "ac58413e",
   "metadata": {},
   "outputs": [
    {
     "name": "stdout",
     "output_type": "stream",
     "text": [
      "{'banaa', 'apple', 'mango', 'cherry', 'pineapple', 'watermelon'}\n"
     ]
    }
   ],
   "source": [
    "fruits.add(\"pineapple\")\n",
    "print(fruits)"
   ]
  },
  {
   "cell_type": "code",
   "execution_count": 35,
   "id": "cd5efbe3",
   "metadata": {},
   "outputs": [
    {
     "data": {
      "text/plain": [
       "{'apple', 'banaa', 'cherry', 'mango', 'pinapple', 'pineapple', 'watermelon'}"
      ]
     },
     "execution_count": 35,
     "metadata": {},
     "output_type": "execute_result"
    }
   ],
   "source": [
    "fruits.discard(\"grapes\")\n",
    "print(fruits)"
   ]
  },
  {
   "cell_type": "code",
   "execution_count": 37,
   "id": "68c37d82",
   "metadata": {},
   "outputs": [
    {
     "ename": "KeyError",
     "evalue": "'grapes'",
     "output_type": "error",
     "traceback": [
      "\u001b[1;31m---------------------------------------------------------------------------\u001b[0m",
      "\u001b[1;31mKeyError\u001b[0m                                  Traceback (most recent call last)",
      "\u001b[1;32m~\\AppData\\Local\\Temp/ipykernel_7260/1715556483.py\u001b[0m in \u001b[0;36m<module>\u001b[1;34m\u001b[0m\n\u001b[0;32m      1\u001b[0m \u001b[0mfruits\u001b[0m\u001b[1;33m=\u001b[0m\u001b[1;33m{\u001b[0m\u001b[1;34m\"mango\"\u001b[0m\u001b[1;33m,\u001b[0m\u001b[1;34m\"banaa\"\u001b[0m\u001b[1;33m,\u001b[0m\u001b[1;34m\"cherry\"\u001b[0m\u001b[1;33m,\u001b[0m\u001b[1;34m\"watermelon\"\u001b[0m\u001b[1;33m,\u001b[0m\u001b[1;34m\"apple\"\u001b[0m\u001b[1;33m}\u001b[0m\u001b[1;33m\u001b[0m\u001b[1;33m\u001b[0m\u001b[0m\n\u001b[1;32m----> 2\u001b[1;33m \u001b[0mfruits\u001b[0m\u001b[1;33m.\u001b[0m\u001b[0mremove\u001b[0m\u001b[1;33m(\u001b[0m\u001b[1;34m\"grapes\"\u001b[0m\u001b[1;33m)\u001b[0m\u001b[1;33m\u001b[0m\u001b[1;33m\u001b[0m\u001b[0m\n\u001b[0m\u001b[0;32m      3\u001b[0m \u001b[0mprint\u001b[0m\u001b[1;33m(\u001b[0m\u001b[0mfruits\u001b[0m\u001b[1;33m)\u001b[0m\u001b[1;33m\u001b[0m\u001b[1;33m\u001b[0m\u001b[0m\n",
      "\u001b[1;31mKeyError\u001b[0m: 'grapes'"
     ]
    }
   ],
   "source": [
    "fruits={\"mango\",\"banaa\",\"cherry\",\"watermelon\",\"apple\"}\n",
    "fruits.remove(\"grapes\")\n",
    "print(fruits)"
   ]
  },
  {
   "cell_type": "code",
   "execution_count": null,
   "id": "c0dccdf9",
   "metadata": {},
   "outputs": [],
   "source": [
    "# Dictionaries"
   ]
  },
  {
   "cell_type": "code",
   "execution_count": 38,
   "id": "3494b4fa",
   "metadata": {},
   "outputs": [
    {
     "name": "stdout",
     "output_type": "stream",
     "text": [
      "dict_keys(['brand', 'model', 'year'])\n",
      "dict_keys(['brand', 'model', 'year', 'color'])\n"
     ]
    }
   ],
   "source": [
    "car = {\n",
    "\"brand\": \"Ford\",\n",
    "\"model\": \"Mustang\",\n",
    "\"year\": 1964\n",
    "}\n",
    "\n",
    "x = car.keys()\n",
    "\n",
    "print(x) #before the change\n",
    "\n",
    "car[\"color\"] = \"white\"\n",
    "\n",
    "print(x) #after the change\n"
   ]
  },
  {
   "cell_type": "code",
   "execution_count": 39,
   "id": "ebaf6a90",
   "metadata": {},
   "outputs": [
    {
     "name": "stdout",
     "output_type": "stream",
     "text": [
      "{'brand': 'Ford', 'model': 'Mustang', 'year': 1964, 'color': 'white'}\n"
     ]
    }
   ],
   "source": [
    "print(car)"
   ]
  },
  {
   "cell_type": "code",
   "execution_count": 43,
   "id": "ab25f26c",
   "metadata": {},
   "outputs": [
    {
     "name": "stdout",
     "output_type": "stream",
     "text": [
      "{'Name': 'Sayali', 'Roll_No': 1234, 'Emai_Id': 'sayaliadsul2016@gmail.com'}\n"
     ]
    }
   ],
   "source": [
    "stud_info={\"Name\":\"Sayali\",\"Roll_No\":1234,\"Emai_Id\":\"sayaliadsul2016@gmail.com\"}\n",
    "print(stud_info)"
   ]
  },
  {
   "cell_type": "code",
   "execution_count": 45,
   "id": "c16b7a06",
   "metadata": {},
   "outputs": [
    {
     "name": "stdout",
     "output_type": "stream",
     "text": [
      "dict_keys(['Name', 'Roll_No', 'Emai_Id'])\n"
     ]
    }
   ],
   "source": [
    "x=stud_info.keys()\n",
    "print(x)"
   ]
  },
  {
   "cell_type": "code",
   "execution_count": 47,
   "id": "d04e4296",
   "metadata": {},
   "outputs": [
    {
     "name": "stdout",
     "output_type": "stream",
     "text": [
      "dict_values(['Sayali', 1234, 'sayaliadsul2016@gmail.com'])\n"
     ]
    }
   ],
   "source": [
    "x1=stud_info.values()\n",
    "print(x1)"
   ]
  },
  {
   "cell_type": "code",
   "execution_count": 48,
   "id": "7f383cca",
   "metadata": {},
   "outputs": [
    {
     "name": "stdout",
     "output_type": "stream",
     "text": [
      "{'Name': 'Sayali', 'Roll_No': 1234, 'Emai_Id': 'sayaliadsul2016@gmail.com', 'Mob_no': 4587962}\n"
     ]
    }
   ],
   "source": [
    "stud_info[\"Mob_no\"]=4587962\n",
    "print(stud_info)"
   ]
  }
 ],
 "metadata": {
  "kernelspec": {
   "display_name": "Python 3 (ipykernel)",
   "language": "python",
   "name": "python3"
  },
  "language_info": {
   "codemirror_mode": {
    "name": "ipython",
    "version": 3
   },
   "file_extension": ".py",
   "mimetype": "text/x-python",
   "name": "python",
   "nbconvert_exporter": "python",
   "pygments_lexer": "ipython3",
   "version": "3.9.7"
  }
 },
 "nbformat": 4,
 "nbformat_minor": 5
}
