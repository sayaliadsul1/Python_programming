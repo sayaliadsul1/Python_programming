{
 "cells": [
  {
   "cell_type": "code",
   "execution_count": 1,
   "id": "188ca2ce",
   "metadata": {},
   "outputs": [],
   "source": [
    "# 27/4/22"
   ]
  },
  {
   "cell_type": "code",
   "execution_count": 2,
   "id": "0d715795",
   "metadata": {},
   "outputs": [
    {
     "name": "stdout",
     "output_type": "stream",
     "text": [
      "sayali\n",
      "sayali\n",
      "sayali\n",
      "sayali\n",
      "sayali\n",
      "sayali\n",
      "sayali\n",
      "sayali\n",
      "sayali\n",
      "sayali\n"
     ]
    }
   ],
   "source": [
    "a=[\"sayali\",\"pooja\",\"seema\"]\n",
    "for i in a:\n",
    "    if i==\"sayali\":\n",
    "        for i in range(10):\n",
    "            print(\"sayali\")\n",
    "        "
   ]
  },
  {
   "cell_type": "code",
   "execution_count": 3,
   "id": "673a4ce8",
   "metadata": {},
   "outputs": [
    {
     "name": "stdout",
     "output_type": "stream",
     "text": [
      "['sayali', 'seema', 'pooja', 'kajal', 'renu', 'nikita']\n",
      "['sayali', 'seema', 'pooja', 'renu', 'nikita']\n"
     ]
    }
   ],
   "source": [
    "name=[\"sayali\",\"seema\",\"pooja\",\"kajal\"]\n",
    "city_name=[\"karad\",\"baramati\",\"mumbai\",\"pune\"]\n",
    "for c in city_name:\n",
    "    if c==\"pune\":\n",
    "        name.remove(\"kajal\")\n",
    "        print(name)\n",
    "    elif c==\"baramati\":\n",
    "        name.insert(4,\"renu\")\n",
    "        name.insert(5,\"nikita\")\n",
    "        print(name)"
   ]
  },
  {
   "cell_type": "code",
   "execution_count": 4,
   "id": "a8b32aef",
   "metadata": {},
   "outputs": [
    {
     "name": "stdout",
     "output_type": "stream",
     "text": [
      "['sayali', 'seema', 'pooja', 'kajal']\n"
     ]
    }
   ],
   "source": [
    "name=[\"sayali\",\"seema\",\"pooja\",\"kajal\"]\n",
    "city_name=[\"karad\",\"baramati\",\"mumbai\",\"pune\"]\n",
    "for c in city_name:\n",
    "    if c==\"baramati\":\n",
    "        name.insert(4,\"renu\")\n",
    "        name.insert(5,\"nikita\")\n",
    "    \n",
    "    elif c==\"pune\":\n",
    "        for i in range(2):\n",
    "            name.pop( )\n",
    "print(name)\n",
    "            \n",
    "            \n",
    "    "
   ]
  },
  {
   "cell_type": "code",
   "execution_count": 5,
   "id": "64badc00",
   "metadata": {},
   "outputs": [
    {
     "name": "stdout",
     "output_type": "stream",
     "text": [
      "[20, 30, 40]\n",
      "[25, 35]\n"
     ]
    }
   ],
   "source": [
    "# even odd\n",
    "a=[20,30,40,25,35]\n",
    "even=[]\n",
    "odd=[]\n",
    "for i in a:\n",
    "    if i%2==0:\n",
    "        even.append(i)\n",
    "    else:\n",
    "        odd.append(i)\n",
    "print(even)\n",
    "print(odd)"
   ]
  },
  {
   "cell_type": "code",
   "execution_count": 36,
   "id": "41366844",
   "metadata": {},
   "outputs": [
    {
     "name": "stdout",
     "output_type": "stream",
     "text": [
      "[22, 20, 30]\n",
      "[13, 41]\n"
     ]
    }
   ],
   "source": [
    "# even odd\n",
    "a=[22,13,41,20,30]\n",
    "even=[]\n",
    "odd=[]\n",
    "for i in a:\n",
    "    if i%2==0:\n",
    "        even.append(i)\n",
    "    else:\n",
    "        odd.append(i)\n",
    "print(even)\n",
    "print(odd)\n"
   ]
  },
  {
   "cell_type": "code",
   "execution_count": 37,
   "id": "439d26de",
   "metadata": {},
   "outputs": [
    {
     "name": "stdout",
     "output_type": "stream",
     "text": [
      "[22, 20, 30]\n",
      "[13, 41]\n"
     ]
    },
    {
     "data": {
      "text/plain": [
       "[13, 20, 22, 30, 41]"
      ]
     },
     "execution_count": 37,
     "metadata": {},
     "output_type": "execute_result"
    }
   ],
   "source": [
    "# even odd\n",
    "a=[22,13,41,20,30]\n",
    "even=[]\n",
    "odd=[]\n",
    "for i in a:\n",
    "    if i%2==0:\n",
    "        even.append(i)\n",
    "    else:\n",
    "        odd.append(i)\n",
    "print(even)\n",
    "print(odd)\n",
    "b=even+odd\n",
    "b.sort()\n",
    "b"
   ]
  },
  {
   "cell_type": "code",
   "execution_count": 39,
   "id": "fbd141a8",
   "metadata": {},
   "outputs": [
    {
     "data": {
      "text/plain": [
       "[20, 22, 30, 13, 41]"
      ]
     },
     "execution_count": 39,
     "metadata": {},
     "output_type": "execute_result"
    }
   ],
   "source": [
    "# even odd\n",
    "a=[22,13,41,20,30]\n",
    "even=[]\n",
    "odd=[]\n",
    "for i in a:\n",
    "    if i%2==0:\n",
    "        even.append(i)\n",
    "    else:\n",
    "        odd.append(i)\n",
    "even.sort()\n",
    "odd.sort()\n",
    "b=even+odd\n",
    "b\n"
   ]
  },
  {
   "cell_type": "code",
   "execution_count": null,
   "id": "f7d67505",
   "metadata": {},
   "outputs": [],
   "source": []
  }
 ],
 "metadata": {
  "kernelspec": {
   "display_name": "Python 3 (ipykernel)",
   "language": "python",
   "name": "python3"
  },
  "language_info": {
   "codemirror_mode": {
    "name": "ipython",
    "version": 3
   },
   "file_extension": ".py",
   "mimetype": "text/x-python",
   "name": "python",
   "nbconvert_exporter": "python",
   "pygments_lexer": "ipython3",
   "version": "3.9.7"
  }
 },
 "nbformat": 4,
 "nbformat_minor": 5
}
