{
 "cells": [
  {
   "cell_type": "code",
   "execution_count": 1,
   "id": "6fbcb4ea",
   "metadata": {},
   "outputs": [
    {
     "name": "stdout",
     "output_type": "stream",
     "text": [
      "Enter the value : 23\n",
      "Enter the value : 56\n"
     ]
    },
    {
     "data": {
      "text/plain": [
       "79"
      ]
     },
     "execution_count": 1,
     "metadata": {},
     "output_type": "execute_result"
    }
   ],
   "source": [
    "def happy(a,b):\n",
    "    return a+b\n",
    "a=int(input(\"Enter the value : \"))\n",
    "b=int(input(\"Enter the value : \"))\n",
    "happy(a,b)"
   ]
  },
  {
   "cell_type": "code",
   "execution_count": 2,
   "id": "d823331f",
   "metadata": {},
   "outputs": [
    {
     "name": "stdout",
     "output_type": "stream",
     "text": [
      "Enter the value : 45\n",
      "Enter the value : 85\n",
      "130\n"
     ]
    }
   ],
   "source": [
    "def sad():\n",
    "    a=int(input(\"Enter the value : \"))\n",
    "    b=int(input(\"Enter the value : \"))\n",
    "    print(a+b)\n",
    "sad()\n",
    "    "
   ]
  },
  {
   "cell_type": "code",
   "execution_count": 3,
   "id": "82fb6555",
   "metadata": {},
   "outputs": [
    {
     "data": {
      "text/plain": [
       "30"
      ]
     },
     "execution_count": 3,
     "metadata": {},
     "output_type": "execute_result"
    }
   ],
   "source": [
    "def a1(a,b):\n",
    "    return a+b\n",
    "a1(10,20)"
   ]
  },
  {
   "cell_type": "code",
   "execution_count": 4,
   "id": "e42aa77d",
   "metadata": {},
   "outputs": [
    {
     "name": "stdout",
     "output_type": "stream",
     "text": [
      "Enter the value : 20\n"
     ]
    },
    {
     "data": {
      "text/plain": [
       "40"
      ]
     },
     "execution_count": 4,
     "metadata": {},
     "output_type": "execute_result"
    }
   ],
   "source": [
    "def x(a):\n",
    "    b=20\n",
    "    return a+b\n",
    "a=int(input(\"Enter the value : \"))\n",
    "x(a)"
   ]
  },
  {
   "cell_type": "code",
   "execution_count": 5,
   "id": "56f3e719",
   "metadata": {},
   "outputs": [
    {
     "name": "stdout",
     "output_type": "stream",
     "text": [
      "Enter the value : 45\n",
      "The no. is Odd\n",
      "*********************\n",
      "Enter the value : 56\n",
      " The no. is Even\n",
      "*********************\n",
      "Enter the value : 78\n",
      " The no. is Even\n",
      "*********************\n"
     ]
    }
   ],
   "source": [
    "def ev_odd(x):\n",
    "        if x%2==0:\n",
    "            print(\" The no. is Even\")\n",
    "        else:\n",
    "            print(\"The no. is Odd\")\n",
    "        print(\"*********************\")\n",
    "\n",
    "for i in range(3):            \n",
    "    x=int(input(\"Enter the value : \"))\n",
    "    ev_odd(x)"
   ]
  },
  {
   "cell_type": "code",
   "execution_count": 6,
   "id": "336f7f8f",
   "metadata": {},
   "outputs": [
    {
     "name": "stdout",
     "output_type": "stream",
     "text": [
      "3 2\n"
     ]
    }
   ],
   "source": [
    "def swap(x,y):\n",
    "    temp=x\n",
    "    x=y\n",
    "    y=temp\n",
    "    print(x,y)\n",
    "x=2\n",
    "y=3\n",
    "swap(x,y)"
   ]
  },
  {
   "cell_type": "code",
   "execution_count": 7,
   "id": "3e9b1ddd",
   "metadata": {},
   "outputs": [
    {
     "name": "stdout",
     "output_type": "stream",
     "text": [
      "HI, I AM CREATED BY A FUNCTION\n",
      "                    PASSED AS AN ARGUMENT.\n",
      "hi, i am created by a function\n",
      "                    passed as an argument.\n"
     ]
    }
   ],
   "source": [
    "def shout(text):\n",
    "    return text.upper()\n",
    "  \n",
    "def whisper(text):\n",
    "    return text.lower()\n",
    "\n",
    "def greet(func):\n",
    "    greeting = func(\"\"\"Hi, I am created by a function\n",
    "                    passed as an argument.\"\"\")\n",
    "    print (greeting)\n",
    "    \n",
    "greet(shout)\n",
    "greet(whisper)\n",
    "    \n",
    "    "
   ]
  },
  {
   "cell_type": "code",
   "execution_count": 8,
   "id": "f9b4f080",
   "metadata": {},
   "outputs": [
    {
     "name": "stdout",
     "output_type": "stream",
     "text": [
      "HI, I AM CREATED BY A FUNCTION PASSED AS A ARGUMENT.\n",
      "hi, i am created by a function passed as a argument.\n"
     ]
    }
   ],
   "source": [
    "def shout(text):\n",
    "    return text.upper()\n",
    "\n",
    "def whisper(text):\n",
    "    return text.lower()\n",
    "\n",
    "def greet(func):\n",
    "    greeting = func(\"\"\"Hi, I am created by a function passed as a argument.\"\"\")\n",
    "    print(greeting)\n",
    "    \n",
    "greet(shout)\n",
    "greet(whisper)"
   ]
  },
  {
   "cell_type": "code",
   "execution_count": 9,
   "id": "e3fd77b5",
   "metadata": {},
   "outputs": [
    {
     "name": "stdout",
     "output_type": "stream",
     "text": [
      "apple\n",
      "mango\n",
      "banana\n",
      "cherry\n"
     ]
    }
   ],
   "source": [
    "def my_function(food):\n",
    "    for i in food:\n",
    "        print(i)\n",
    "fruits=[\"apple\",\"mango\",\"banana\",\"cherry\"]\n",
    "my_function(fruits)"
   ]
  },
  {
   "cell_type": "code",
   "execution_count": 10,
   "id": "3e4cdc73",
   "metadata": {},
   "outputs": [
    {
     "name": "stdout",
     "output_type": "stream",
     "text": [
      "Enter the value : 98\n",
      "Enter the value : 65\n",
      "addition :  163\n",
      "subtraction :  33\n",
      "multiplication : 6370\n"
     ]
    }
   ],
   "source": [
    "def add(a,b):\n",
    "    x=a+b\n",
    "    print(\"addition : \",x)\n",
    "\n",
    "def sub(a,b):\n",
    "    add(a,b)\n",
    "    y=a-b\n",
    "    print(\"subtraction : \",y)\n",
    "    \n",
    "def multi(a,b):\n",
    "    sub(a,b)\n",
    "    z=a*b\n",
    "    print(\"multiplication :\",z)\n",
    "a=int(input(\"Enter the value : \"))\n",
    "b=int(input(\"Enter the value : \"))\n",
    "multi(a,b)"
   ]
  },
  {
   "cell_type": "code",
   "execution_count": 11,
   "id": "8ba4f088",
   "metadata": {},
   "outputs": [
    {
     "name": "stdout",
     "output_type": "stream",
     "text": [
      "c is greater\n"
     ]
    }
   ],
   "source": [
    "def func(a,b,c):\n",
    "    if a>b:\n",
    "        print(\"a is greater\")\n",
    "    elif b>c:\n",
    "        print(\"b is greater\")\n",
    "    else:\n",
    "        print(\"c is greater\")\n",
    "func(99,102,450)"
   ]
  },
  {
   "cell_type": "code",
   "execution_count": 12,
   "id": "acc03c5c",
   "metadata": {},
   "outputs": [
    {
     "name": "stdout",
     "output_type": "stream",
     "text": [
      "75 7350\n"
     ]
    }
   ],
   "source": [
    "def add():\n",
    "    a=30\n",
    "    b=45\n",
    "    c2=a+b\n",
    "    return c2\n",
    "def multi(b1):\n",
    "    a1=98\n",
    "    c1=a1*b1\n",
    "    return c1\n",
    "def sub():\n",
    "    ab=add()\n",
    "    bc=multi(ab)\n",
    "    print(ab,bc)\n",
    "sub()\n",
    "    "
   ]
  },
  {
   "cell_type": "code",
   "execution_count": 13,
   "id": "fdca5813",
   "metadata": {},
   "outputs": [],
   "source": [
    "n=[]\n",
    "def school():\n",
    "    for x in range(3):\n",
    "        name=input(\"Enter the name : \")\n",
    "        n.append(name)\n",
    "    return n"
   ]
  },
  {
   "cell_type": "code",
   "execution_count": 14,
   "id": "0f5000a3",
   "metadata": {},
   "outputs": [
    {
     "name": "stdout",
     "output_type": "stream",
     "text": [
      "Enter the name : sayali\n",
      "Enter the name : asfiya\n",
      "Enter the name : pooja\n"
     ]
    }
   ],
   "source": [
    "sh=school()"
   ]
  },
  {
   "cell_type": "code",
   "execution_count": 15,
   "id": "147b25ab",
   "metadata": {},
   "outputs": [
    {
     "name": "stdout",
     "output_type": "stream",
     "text": [
      "sayali\n",
      "asfiya\n",
      "pooja\n"
     ]
    }
   ],
   "source": [
    "for x1 in sh:\n",
    "    print(x1)\n"
   ]
  },
  {
   "cell_type": "code",
   "execution_count": null,
   "id": "254a4db8",
   "metadata": {},
   "outputs": [],
   "source": []
  }
 ],
 "metadata": {
  "kernelspec": {
   "display_name": "Python 3 (ipykernel)",
   "language": "python",
   "name": "python3"
  },
  "language_info": {
   "codemirror_mode": {
    "name": "ipython",
    "version": 3
   },
   "file_extension": ".py",
   "mimetype": "text/x-python",
   "name": "python",
   "nbconvert_exporter": "python",
   "pygments_lexer": "ipython3",
   "version": "3.9.7"
  }
 },
 "nbformat": 4,
 "nbformat_minor": 5
}
