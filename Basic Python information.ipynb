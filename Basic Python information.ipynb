{
 "cells": [
  {
   "cell_type": "markdown",
   "metadata": {},
   "source": [
    "# ---Python Intro---"
   ]
  },
  {
   "cell_type": "markdown",
   "metadata": {},
   "source": [
    "## ***What is Python ?***"
   ]
  },
  {
   "cell_type": "code",
   "execution_count": 2,
   "metadata": {},
   "outputs": [],
   "source": [
    "# 1) Python is general purpose, dynamic, interpreted, high-level programming language.\n",
    "# 2) Interpreter : Interpreter translates just one statement of the program at a time into machine code.\n",
    "# 3) It supports Object Oriented programming approach to develop applications. \n",
    "# 4) It is simple and easy to learn and provides lots of high-level data structures.\n",
    "# 5) We dont need to use data types to declare varaible because it is dynamically typed so we can write a=10 to assign an integer value in an integer varaible. "
   ]
  },
  {
   "cell_type": "markdown",
   "metadata": {},
   "source": [
    "## ***Why learn Python ?***"
   ]
  },
  {
   "cell_type": "code",
   "execution_count": 3,
   "metadata": {},
   "outputs": [],
   "source": [
    "# 1) Easy to use and Learn\n",
    "# 2) Expressive Language\n",
    "# 3) Interpreted Language\n",
    "# 4) Object-Oriented Language\n",
    "# 5) Open Source Language\n",
    "# 6) Wide Range of Libraries and Frameworks"
   ]
  },
  {
   "cell_type": "markdown",
   "metadata": {},
   "source": [
    "## ***Where is Python used ?***"
   ]
  },
  {
   "cell_type": "code",
   "execution_count": 1,
   "metadata": {},
   "outputs": [],
   "source": [
    "# 1) Data Science, Data Mining\n",
    "# 2) Desktop Applications, Mobile Applications, Web Applications, \n",
    "# 3) Software Development\n",
    "# 4) Enterprise Applications, 3D CAD Applications\n",
    "# 5) Machine Learning\n",
    "# 6) Computer Vision or Image Processing Applications.\n",
    "# 7) Speech Recognitions"
   ]
  },
  {
   "cell_type": "code",
   "execution_count": null,
   "metadata": {},
   "outputs": [],
   "source": []
  },
  {
   "cell_type": "markdown",
   "metadata": {},
   "source": [
    "# ---Python Syntax---"
   ]
  },
  {
   "cell_type": "code",
   "execution_count": 8,
   "metadata": {},
   "outputs": [],
   "source": [
    "# 1) There is no use of curly braces or semicolon in Python programming language.\n",
    "# 2) It is English-like language.\n",
    "# 3) But Python uses the indentation to define a block of code.\n",
    "# 4) Indentation is nothing but adding whitespace before the statement when it is needed.\n",
    "\n",
    "\n",
    "# For example:\n",
    "#     def func():\n",
    "#         statement 1  \n",
    "#         statement 2  \n",
    "#         …………………  \n",
    "#         …………………  \n",
    "#         statement N  "
   ]
  },
  {
   "cell_type": "code",
   "execution_count": null,
   "metadata": {},
   "outputs": [],
   "source": []
  },
  {
   "cell_type": "markdown",
   "metadata": {},
   "source": [
    "# ---Python Keywords---"
   ]
  },
  {
   "cell_type": "code",
   "execution_count": 10,
   "metadata": {},
   "outputs": [],
   "source": [
    "# 1) Python Keywords are special reserved words that convey a special meaning to the compiler/interpreter.\n",
    "# 2) Each keyword has a special meaning and a specific operation.\n",
    "# 3) These keywords cant be used as a variable."
   ]
  },
  {
   "cell_type": "code",
   "execution_count": 14,
   "metadata": {},
   "outputs": [],
   "source": [
    "# Keywords :\n",
    "#     True, False, break, and, is, return, if, else, if-else, continue, def, for, in, etc...\n",
    "# (keywords represent in dark green colour)"
   ]
  },
  {
   "cell_type": "code",
   "execution_count": null,
   "metadata": {},
   "outputs": [],
   "source": []
  },
  {
   "cell_type": "markdown",
   "metadata": {},
   "source": [
    "# ---Python Comments---"
   ]
  },
  {
   "cell_type": "code",
   "execution_count": 15,
   "metadata": {},
   "outputs": [],
   "source": [
    "# 1) # : Single line comment\n",
    "# 2) \"\"\" \"\"\" : Multiline comment  \"\""
   ]
  },
  {
   "cell_type": "code",
   "execution_count": 16,
   "metadata": {},
   "outputs": [
    {
     "name": "stdout",
     "output_type": "stream",
     "text": [
      "Hi !! My name is Renu...\n"
     ]
    }
   ],
   "source": [
    "print(\"Hi !! My name is Renu...\")"
   ]
  },
  {
   "cell_type": "code",
   "execution_count": 19,
   "metadata": {},
   "outputs": [
    {
     "name": "stdout",
     "output_type": "stream",
     "text": [
      " Hi !!\n",
      "    \n",
      "My name is Renu...\n"
     ]
    }
   ],
   "source": [
    "print(\"\"\" Hi !!\n",
    "    \n",
    "My name is Renu...\"\"\")"
   ]
  },
  {
   "cell_type": "code",
   "execution_count": null,
   "metadata": {},
   "outputs": [],
   "source": []
  },
  {
   "cell_type": "markdown",
   "metadata": {},
   "source": [
    "# ---Python Data-types---"
   ]
  },
  {
   "cell_type": "code",
   "execution_count": 22,
   "metadata": {},
   "outputs": [],
   "source": [
    "# Standard Data-types:\n",
    "# 1) Int : (a=10)\n",
    "# 2) Float : (a=10.5)\n",
    "# 3) String : (a=\"My name is Renu...\")\n",
    "# 4) The string can be defined as the sequence of characters represented in the quotation marks.\n",
    "# 5) In Python, we can use single, double, or triple quotes to define a string."
   ]
  },
  {
   "cell_type": "code",
   "execution_count": 24,
   "metadata": {},
   "outputs": [
    {
     "name": "stdout",
     "output_type": "stream",
     "text": [
      "Hi !\n",
      "My name is Renu...\n",
      "I'm Data Scientist & Data Analyst\n"
     ]
    }
   ],
   "source": [
    "print('Hi !')\n",
    "\n",
    "print(\"My name is Renu...\")\n",
    "\n",
    "print(\"\"\"I'm Data Scientist & Data Analyst\"\"\")"
   ]
  },
  {
   "cell_type": "code",
   "execution_count": null,
   "metadata": {},
   "outputs": [],
   "source": []
  }
 ],
 "metadata": {
  "kernelspec": {
   "display_name": "Python 3 (ipykernel)",
   "language": "python",
   "name": "python3"
  },
  "language_info": {
   "codemirror_mode": {
    "name": "ipython",
    "version": 3
   },
   "file_extension": ".py",
   "mimetype": "text/x-python",
   "name": "python",
   "nbconvert_exporter": "python",
   "pygments_lexer": "ipython3",
   "version": "3.9.7"
  }
 },
 "nbformat": 4,
 "nbformat_minor": 4
}
