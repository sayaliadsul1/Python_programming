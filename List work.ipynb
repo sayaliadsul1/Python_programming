{
 "cells": [
  {
   "cell_type": "code",
   "execution_count": 1,
   "id": "2a6a8162",
   "metadata": {},
   "outputs": [
    {
     "name": "stdout",
     "output_type": "stream",
     "text": [
      "Enter the Name : sayali\n",
      "Enter the marks: 56\n",
      "Enter the marks: 63\n",
      "Enter the marks: 96\n",
      "----------------------------------------------\n",
      "Enter the Name : pooja\n",
      "Enter the marks: 12\n",
      "Enter the marks: 32\n",
      "Enter the marks: 35\n",
      "----------------------------------------------\n",
      "Enter the Name : sai\n",
      "Enter the marks: 45\n",
      "Enter the marks: 12\n",
      "Enter the marks: 96\n",
      "----------------------------------------------\n",
      "Pass with good marks\n",
      "very good marks\n",
      "very good marks\n",
      "He is failed\n",
      "He is failed\n",
      "He is failed\n",
      "Pass with good marks\n",
      "He is failed\n",
      "very good marks\n",
      "['sayali', 'pooja', 'sai']\n",
      "[56, 63, 96, 12, 32, 35, 45, 12, 96]\n"
     ]
    }
   ],
   "source": [
    "city_name=[\"pune\",\"mumbai\",\"baramati\"]\n",
    "pune=[]\n",
    "mumbai=[]\n",
    "baramati=[]\n",
    "temp=[]\n",
    "marksheet=[]\n",
    "for city in city_name:\n",
    "    if city==\"pune\":\n",
    "        for x1 in range(3):\n",
    "            name=input(\"Enter the Name : \")\n",
    "            pune.append(name)\n",
    "            for x2 in range(3):\n",
    "                marks=int(input(\"Enter the marks: \"))\n",
    "                temp.append(marks)\n",
    "            print(\"----------------------------------------------\")\n",
    "\n",
    "        for m in temp:\n",
    "            if m>=1 and m<=35:\n",
    "                print(\"He is failed\")\n",
    "            elif m>=35 and m<=60:\n",
    "                print(\"Pass with good marks\")\n",
    "            elif m>60 and m<100:\n",
    "                print(\"very good marks\")\n",
    "            else:\n",
    "                pint(\"Wrong o/p.....\")\n",
    "print(pune)\n",
    "print(temp)\n",
    "        "
   ]
  },
  {
   "cell_type": "code",
   "execution_count": 4,
   "id": "0394b502",
   "metadata": {},
   "outputs": [
    {
     "name": "stdout",
     "output_type": "stream",
     "text": [
      "Enter the Name : sayali\n",
      "Enter the Name : pooja\n",
      "Enter the Name : seema\n",
      "My Pune students :  ['sayali', 'pooja', 'seema']\n"
     ]
    }
   ],
   "source": [
    "# This program : List\n",
    "city_name=[\"pune\",\"mumbai\",\"baramati\"]\n",
    "pune_stud=[]\n",
    "for city in city_name:\n",
    "    if city==\"pune\":\n",
    "        for i in range(3):\n",
    "            name=input(\"Enter the Name : \")\n",
    "            pune_stud.append(name)\n",
    "print(\"My Pune students : \",pune_stud)"
   ]
  },
  {
   "cell_type": "code",
   "execution_count": 6,
   "id": "ad9462b5",
   "metadata": {},
   "outputs": [
    {
     "name": "stdout",
     "output_type": "stream",
     "text": [
      "Enter the name : sayali\n",
      "Enter the name : sayali\n",
      "Enter the name : sayali\n",
      "My Pune students :  {'sayali'}\n"
     ]
    }
   ],
   "source": [
    "# This program : Set\n",
    "city_name=[\"pune\",\"mumbai\",\"baramati\"]\n",
    "pune=set()\n",
    "for city in city_name:\n",
    "    if city==\"pune\":\n",
    "        for i in range(3):\n",
    "            name=input(\"Enter the name : \")\n",
    "            pune.add(name)\n",
    "print(\"My Pune students : \",pune)"
   ]
  },
  {
   "cell_type": "code",
   "execution_count": 1,
   "id": "4ed11c39",
   "metadata": {},
   "outputs": [
    {
     "name": "stdout",
     "output_type": "stream",
     "text": [
      "Enter the Name : sayali\n",
      "Enter the Marks : 56\n",
      "Enter the Marks : 23\n",
      "Enter the Marks : 85\n",
      "Total marks :  164\n",
      "------------------------------------------------\n",
      "Enter the Name : pooa\n",
      "Enter the Marks : 63\n",
      "Enter the Marks : 56\n",
      "Enter the Marks : 98\n",
      "Total marks :  381\n",
      "------------------------------------------------\n",
      "Enter the Name : seema\n",
      "Enter the Marks : 56\n",
      "Enter the Marks : 89\n",
      "Enter the Marks : 74\n",
      "Total marks :  600\n",
      "------------------------------------------------\n",
      "['sayali', 'pooa', 'seema']\n",
      "[56, 23, 85, 63, 56, 98, 56, 89, 74]\n"
     ]
    }
   ],
   "source": [
    "city_name=[\"pune\",\"mumbai\",\"baramati\"]\n",
    "bmt_name=[]\n",
    "bmt_marks=[]\n",
    "for city in city_name:\n",
    "    if city==\"baramati\":\n",
    "        for i in range(3):\n",
    "            name=input(\"Enter the Name : \")\n",
    "            bmt_name.append(name)\n",
    "            for j in range(3):\n",
    "                marks=int(input(\"Enter the Marks : \"))\n",
    "                bmt_marks.append(marks)\n",
    "                total=sum(bmt_marks)\n",
    "            print(\"Total marks : \",total)\n",
    "            print(\"------------------------------------------------\")\n",
    "print(bmt_name)\n",
    "print(bmt_marks)\n",
    "\n",
    "        "
   ]
  },
  {
   "cell_type": "code",
   "execution_count": 3,
   "id": "6b1e9b38",
   "metadata": {},
   "outputs": [
    {
     "name": "stdout",
     "output_type": "stream",
     "text": [
      "Enter the name : s\n"
     ]
    },
    {
     "ename": "AttributeError",
     "evalue": "'tuple' object has no attribute 'insert'",
     "output_type": "error",
     "traceback": [
      "\u001b[1;31m---------------------------------------------------------------------------\u001b[0m",
      "\u001b[1;31mAttributeError\u001b[0m                            Traceback (most recent call last)",
      "\u001b[1;32m~\\AppData\\Local\\Temp/ipykernel_13388/502929431.py\u001b[0m in \u001b[0;36m<module>\u001b[1;34m\u001b[0m\n\u001b[0;32m      6\u001b[0m         \u001b[1;32mfor\u001b[0m \u001b[0mi\u001b[0m \u001b[1;32min\u001b[0m \u001b[0mrange\u001b[0m\u001b[1;33m(\u001b[0m\u001b[1;36m3\u001b[0m\u001b[1;33m)\u001b[0m\u001b[1;33m:\u001b[0m\u001b[1;33m\u001b[0m\u001b[1;33m\u001b[0m\u001b[0m\n\u001b[0;32m      7\u001b[0m             \u001b[0mname\u001b[0m\u001b[1;33m=\u001b[0m\u001b[0minput\u001b[0m\u001b[1;33m(\u001b[0m\u001b[1;34m\"Enter the name : \"\u001b[0m\u001b[1;33m)\u001b[0m\u001b[1;33m\u001b[0m\u001b[1;33m\u001b[0m\u001b[0m\n\u001b[1;32m----> 8\u001b[1;33m             \u001b[0mpune\u001b[0m\u001b[1;33m.\u001b[0m\u001b[0minsert\u001b[0m\u001b[1;33m(\u001b[0m\u001b[0mname\u001b[0m\u001b[1;33m)\u001b[0m\u001b[1;33m\u001b[0m\u001b[1;33m\u001b[0m\u001b[0m\n\u001b[0m\u001b[0;32m      9\u001b[0m \u001b[0mprint\u001b[0m\u001b[1;33m(\u001b[0m\u001b[1;34m\"My Pune students : \"\u001b[0m\u001b[1;33m,\u001b[0m\u001b[0mpune\u001b[0m\u001b[1;33m)\u001b[0m\u001b[1;33m\u001b[0m\u001b[1;33m\u001b[0m\u001b[0m\n",
      "\u001b[1;31mAttributeError\u001b[0m: 'tuple' object has no attribute 'insert'"
     ]
    }
   ],
   "source": [
    "# This program : Set\n",
    "city_name=[\"pune\",\"mumbai\",\"baramati\"]\n",
    "pune=tuple()\n",
    "for city in city_name:\n",
    "    if city==\"pune\":\n",
    "        for i in range(3):\n",
    "            name=input(\"Enter the name : \")\n",
    "            pune.insert(name)\n",
    "print(\"My Pune students : \",pune)"
   ]
  },
  {
   "cell_type": "code",
   "execution_count": null,
   "id": "705b101d",
   "metadata": {},
   "outputs": [],
   "source": []
  }
 ],
 "metadata": {
  "kernelspec": {
   "display_name": "Python 3 (ipykernel)",
   "language": "python",
   "name": "python3"
  },
  "language_info": {
   "codemirror_mode": {
    "name": "ipython",
    "version": 3
   },
   "file_extension": ".py",
   "mimetype": "text/x-python",
   "name": "python",
   "nbconvert_exporter": "python",
   "pygments_lexer": "ipython3",
   "version": "3.9.7"
  }
 },
 "nbformat": 4,
 "nbformat_minor": 5
}
