{
 "cells": [
  {
   "cell_type": "code",
   "execution_count": 34,
   "id": "338a3a9a",
   "metadata": {},
   "outputs": [
    {
     "name": "stdout",
     "output_type": "stream",
     "text": [
      "81\n"
     ]
    }
   ],
   "source": [
    "arr=[1,3,5,2,10,99,9]\n",
    "\n",
    "def getMinimumCost(arr):\n",
    "#     n=4\n",
    "#     total=0\n",
    "    #arr=[1,3,5,2,10]\n",
    "    for ele in range(0, len(arr)):\n",
    "        for x1 in arr:\n",
    "            t =(arr[0]-arr[1])\n",
    "            t1=(arr[1]-arr[2])\n",
    "            t2=(arr[2]-arr[3])\n",
    "            t3=(arr[3]-arr[4])\n",
    "\n",
    "        total=(t**2+t1**2+t2**2+t3**2)\n",
    "    print(total)\n",
    "getMinimumCost(arr)\n",
    "    "
   ]
  },
  {
   "cell_type": "code",
   "execution_count": 10,
   "id": "aeb15f70",
   "metadata": {},
   "outputs": [
    {
     "name": "stdout",
     "output_type": "stream",
     "text": [
      "[1, 3, 4, 5, 2, 10]\n",
      "79\n"
     ]
    }
   ],
   "source": [
    "n=4\n",
    "total=0\n",
    "arr=[1,3,5,2,10]\n",
    "arr.insert(2,4)\n",
    "print(arr)\n",
    "\n",
    "for ele in range(0, len(arr)):\n",
    "    t =(arr[0]-arr[1])\n",
    "    t1=(arr[1]-arr[2])\n",
    "    t2=(arr[2]-arr[3])\n",
    "    t3=(arr[3]-arr[4])\n",
    "    t4=(arr[4]-arr[5])\n",
    "\n",
    "    total=(t**2+t1**2+t2**2+t3**2+t4**2)\n",
    "    \n",
    "print(total)"
   ]
  },
  {
   "cell_type": "code",
   "execution_count": 12,
   "id": "1d38a29e",
   "metadata": {},
   "outputs": [
    {
     "name": "stdout",
     "output_type": "stream",
     "text": [
      "[1, 3, 5, 2, 6, 10]\n",
      "49\n"
     ]
    }
   ],
   "source": [
    "n=4\n",
    "total=0\n",
    "arr=[1,3,5,2,10]\n",
    "arr.insert(4,6)\n",
    "print(arr)\n",
    "\n",
    "for ele in range(0, len(arr)):\n",
    "    t =(arr[0]-arr[1])\n",
    "    t1=(arr[1]-arr[2])\n",
    "    t2=(arr[2]-arr[3])\n",
    "    t3=(arr[3]-arr[4])\n",
    "    t4=(arr[4]-arr[5])\n",
    "    \n",
    "\n",
    "    total=(t**2+t1**2+t2**2+t3**2+t4**2)\n",
    "    \n",
    "print(total)"
   ]
  },
  {
   "cell_type": "code",
   "execution_count": 19,
   "id": "2e8ea46a",
   "metadata": {},
   "outputs": [
    {
     "name": "stdout",
     "output_type": "stream",
     "text": [
      "0\n"
     ]
    }
   ],
   "source": [
    "arr=[1,3,5,2,10]\n",
    "def getMinimumCost(arr):\n",
    "    n=4\n",
    "    total=0\n",
    "    #arr=[1,3,5,2,10]\n",
    "    for ele in range(0, len(arr)):\n",
    "        t =(arr[ele]-arr[ele])\n",
    "       #t1=(arr[1]-arr[2])\n",
    "        #t2=(arr[2]-arr[3])\n",
    "        #t3=(arr[3]-arr[4])\n",
    "\n",
    "        total=(t**2)\n",
    "    \n",
    "    print(total)\n",
    "getMinimumCost(arr)\n",
    "    "
   ]
  },
  {
   "cell_type": "code",
   "execution_count": 26,
   "id": "05f05f66",
   "metadata": {},
   "outputs": [
    {
     "name": "stdout",
     "output_type": "stream",
     "text": [
      "Sum of all elements in given list:  20\n"
     ]
    }
   ],
   "source": [
    "\n",
    "ele = 0\n",
    " \n",
    "# creating a list\n",
    "#list1 = [11, 5, 17, 18, 23]\n",
    "arr=[1,3,5,2,10] \n",
    "while(ele < len(arr)):\n",
    "    total = arr[ele] + arr[ele]\n",
    "    t=total**2\n",
    "    ele += 1\n",
    "print(\"Sum of all elements in given list: \", total)"
   ]
  },
  {
   "cell_type": "code",
   "execution_count": null,
   "id": "4b98cc7a",
   "metadata": {},
   "outputs": [],
   "source": []
  }
 ],
 "metadata": {
  "kernelspec": {
   "display_name": "Python 3 (ipykernel)",
   "language": "python",
   "name": "python3"
  },
  "language_info": {
   "codemirror_mode": {
    "name": "ipython",
    "version": 3
   },
   "file_extension": ".py",
   "mimetype": "text/x-python",
   "name": "python",
   "nbconvert_exporter": "python",
   "pygments_lexer": "ipython3",
   "version": "3.9.7"
  }
 },
 "nbformat": 4,
 "nbformat_minor": 5
}
