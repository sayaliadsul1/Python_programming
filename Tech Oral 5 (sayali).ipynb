{
 "cells": [
  {
   "cell_type": "markdown",
   "id": "02daa177",
   "metadata": {},
   "source": [
    "# 1) write a program on student marks take 2 students name and each five subject marks. calculate the total marks and avg."
   ]
  },
  {
   "cell_type": "code",
   "execution_count": 1,
   "id": "8103cd50",
   "metadata": {},
   "outputs": [
    {
     "name": "stdout",
     "output_type": "stream",
     "text": [
      "Enter the Name : Sayali\n",
      "Enter the marks : 78\n",
      "Enter the marks : 77\n",
      "Enter the marks : 89\n",
      "Enter the marks : 65\n",
      "Enter the marks : 88\n",
      "Total Marks :  397 Average :  79.4\n",
      "-------------------------------------------------\n",
      "Enter the Name : Seema\n",
      "Enter the marks : 89\n",
      "Enter the marks : 66\n",
      "Enter the marks : 88\n",
      "Enter the marks : 78\n",
      "Enter the marks : 55\n",
      "Total Marks :  773 Average :  77.3\n",
      "-------------------------------------------------\n"
     ]
    }
   ],
   "source": [
    "\n",
    "\n",
    "marks=[]\n",
    "for i in range(2):\n",
    "    name=input(\"Enter the Name : \")\n",
    "    for j in range(5):\n",
    "        m=int(input(\"Enter the marks : \"))\n",
    "        marks.append(m)\n",
    "        total=sum(marks)\n",
    "        average=total/len(marks)\n",
    "    print(\"Total Marks : \",total,\"Average : \",average)\n",
    "    print(\"-------------------------------------------------\")"
   ]
  },
  {
   "cell_type": "markdown",
   "id": "174cac8d",
   "metadata": {},
   "source": [
    "# 2) Perform a star pattern"
   ]
  },
  {
   "cell_type": "code",
   "execution_count": 2,
   "id": "00a43aab",
   "metadata": {},
   "outputs": [
    {
     "name": "stdout",
     "output_type": "stream",
     "text": [
      "* \n",
      "* * \n",
      "* * * \n",
      "* * * * \n",
      "* * * * * \n"
     ]
    }
   ],
   "source": [
    "n=5\n",
    "for i in range(n):\n",
    "    for j in range(i+1):\n",
    "        print(\"*\",end=\" \")\n",
    "    print()"
   ]
  },
  {
   "cell_type": "markdown",
   "id": "62658831",
   "metadata": {},
   "source": [
    "# 3) Perform a star pattern"
   ]
  },
  {
   "cell_type": "code",
   "execution_count": 10,
   "id": "f9612a7d",
   "metadata": {},
   "outputs": [
    {
     "name": "stdout",
     "output_type": "stream",
     "text": [
      "          * \n",
      "          * * \n",
      "          * * * \n",
      "          * * * * \n",
      "          * * * * * \n",
      "          * * * * \n",
      "          * * * \n",
      "          * * \n",
      "          * \n"
     ]
    }
   ],
   "source": [
    "n=5\n",
    "for i in range(n-1):\n",
    "    for j in range(n):\n",
    "        print(\" \",end=\" \")\n",
    "    for j in range(i+1):\n",
    "        print(\"*\",end=\" \")\n",
    "    print()\n",
    "for i in range(n):\n",
    "    for j in range(n):\n",
    "        print(\" \",end=\" \")\n",
    "    for j in range(i,n):\n",
    "        print(\"*\",end=\" \")\n",
    "    print()\n",
    "    \n",
    "    "
   ]
  },
  {
   "cell_type": "markdown",
   "id": "1b1c2924",
   "metadata": {},
   "source": [
    "# 4) Perform the operations on  array types.\n",
    "# list"
   ]
  },
  {
   "cell_type": "code",
   "execution_count": 28,
   "id": "8d0f2fca",
   "metadata": {},
   "outputs": [
    {
     "name": "stdout",
     "output_type": "stream",
     "text": [
      "<class 'list'>\n"
     ]
    }
   ],
   "source": [
    "a=[1,2,3,4,5,6,7,8,9]\n",
    "print(type(a))"
   ]
  },
  {
   "cell_type": "code",
   "execution_count": 29,
   "id": "6fd73e82",
   "metadata": {},
   "outputs": [
    {
     "name": "stdout",
     "output_type": "stream",
     "text": [
      "9\n"
     ]
    }
   ],
   "source": [
    "print(len(a))"
   ]
  },
  {
   "cell_type": "code",
   "execution_count": 30,
   "id": "c542b616",
   "metadata": {},
   "outputs": [
    {
     "data": {
      "text/plain": [
       "[3, 4, 5]"
      ]
     },
     "execution_count": 30,
     "metadata": {},
     "output_type": "execute_result"
    }
   ],
   "source": [
    "a[2:5]"
   ]
  },
  {
   "cell_type": "code",
   "execution_count": 31,
   "id": "43859e94",
   "metadata": {},
   "outputs": [
    {
     "data": {
      "text/plain": [
       "[1, 2, 3, 4, 5, 6, 7, 8, 9]"
      ]
     },
     "execution_count": 31,
     "metadata": {},
     "output_type": "execute_result"
    }
   ],
   "source": [
    "a[:]"
   ]
  },
  {
   "cell_type": "code",
   "execution_count": 32,
   "id": "79913463",
   "metadata": {},
   "outputs": [
    {
     "data": {
      "text/plain": [
       "[5, 6, 7, 8]"
      ]
     },
     "execution_count": 32,
     "metadata": {},
     "output_type": "execute_result"
    }
   ],
   "source": [
    "a[-5:-1]"
   ]
  },
  {
   "cell_type": "code",
   "execution_count": 33,
   "id": "cf70acbf",
   "metadata": {},
   "outputs": [
    {
     "data": {
      "text/plain": [
       "[1, 2, 3, 4, 5, 0, 4, 7, 8, 9]"
      ]
     },
     "execution_count": 33,
     "metadata": {},
     "output_type": "execute_result"
    }
   ],
   "source": [
    "a=[1,2,3,4,5]\n",
    "b=[0,4,7,8,9]\n",
    "a+b"
   ]
  },
  {
   "cell_type": "code",
   "execution_count": 21,
   "id": "f8a8e0bf",
   "metadata": {},
   "outputs": [
    {
     "data": {
      "text/plain": [
       "'It'"
      ]
     },
     "execution_count": 21,
     "metadata": {},
     "output_type": "execute_result"
    }
   ],
   "source": [
    "name=\"RacksonsIt\"\n",
    "q=name[8:10]\n",
    "q"
   ]
  },
  {
   "cell_type": "code",
   "execution_count": 24,
   "id": "2c7d70cd",
   "metadata": {},
   "outputs": [
    {
     "name": "stdout",
     "output_type": "stream",
     "text": [
      "['It']\n"
     ]
    }
   ],
   "source": [
    "a=[]\n",
    "a.append(q)\n",
    "print(a)"
   ]
  },
  {
   "cell_type": "code",
   "execution_count": 25,
   "id": "7ddffef7",
   "metadata": {},
   "outputs": [],
   "source": [
    "w=[\"sayali\",\"pooja\",\"seema\",\"asfiya\"]\n",
    "w.insert(3,\"priti\")"
   ]
  },
  {
   "cell_type": "code",
   "execution_count": 26,
   "id": "da265d37",
   "metadata": {},
   "outputs": [
    {
     "data": {
      "text/plain": [
       "['sayali', 'pooja', 'seema', 'priti', 'asfiya']"
      ]
     },
     "execution_count": 26,
     "metadata": {},
     "output_type": "execute_result"
    }
   ],
   "source": [
    "w"
   ]
  },
  {
   "cell_type": "code",
   "execution_count": 65,
   "id": "5b173f88",
   "metadata": {},
   "outputs": [
    {
     "data": {
      "text/plain": [
       "['sayali', 'seema', 'asfiya']"
      ]
     },
     "execution_count": 65,
     "metadata": {},
     "output_type": "execute_result"
    }
   ],
   "source": [
    "w=[\"sayali\",\"pooja\",\"seema\",\"asfiya\"]\n",
    "w.remove(\"pooja\")\n",
    "w"
   ]
  },
  {
   "cell_type": "code",
   "execution_count": 66,
   "id": "d34e20c7",
   "metadata": {},
   "outputs": [
    {
     "data": {
      "text/plain": [
       "['sayali', 'pooja', 'seema', 'asfiya', 'rati']"
      ]
     },
     "execution_count": 66,
     "metadata": {},
     "output_type": "execute_result"
    }
   ],
   "source": [
    "w1=[\"sayali\",\"pooja\",\"seema\",\"asfiya\",\"rati\",\"priti\"]\n",
    "w1.pop()\n",
    "w1\n"
   ]
  },
  {
   "cell_type": "code",
   "execution_count": 36,
   "id": "63cd9dda",
   "metadata": {},
   "outputs": [
    {
     "data": {
      "text/plain": [
       "[12, 32, 33, 41, 54, 69, 77, 78, 95, 98]"
      ]
     },
     "execution_count": 36,
     "metadata": {},
     "output_type": "execute_result"
    }
   ],
   "source": [
    "a1=[78,98,54,32,12,69,77,33,41,95]\n",
    "a1.sort()\n",
    "a1"
   ]
  },
  {
   "cell_type": "markdown",
   "id": "b47a4b66",
   "metadata": {},
   "source": [
    "# tuple"
   ]
  },
  {
   "cell_type": "code",
   "execution_count": 39,
   "id": "22560a06",
   "metadata": {},
   "outputs": [
    {
     "name": "stdout",
     "output_type": "stream",
     "text": [
      "<class 'tuple'>\n"
     ]
    }
   ],
   "source": [
    "b=(1,2,3,4,5,6,7)\n",
    "print(type(b))"
   ]
  },
  {
   "cell_type": "code",
   "execution_count": 40,
   "id": "0306b47e",
   "metadata": {},
   "outputs": [
    {
     "name": "stdout",
     "output_type": "stream",
     "text": [
      "7\n"
     ]
    }
   ],
   "source": [
    "print(len(b))"
   ]
  },
  {
   "cell_type": "code",
   "execution_count": 42,
   "id": "5ab2a9cb",
   "metadata": {},
   "outputs": [
    {
     "data": {
      "text/plain": [
       "(1, 2, 3, 4, 5, 6, 7)"
      ]
     },
     "execution_count": 42,
     "metadata": {},
     "output_type": "execute_result"
    }
   ],
   "source": [
    "b[:]"
   ]
  },
  {
   "cell_type": "code",
   "execution_count": 43,
   "id": "658707a7",
   "metadata": {},
   "outputs": [
    {
     "data": {
      "text/plain": [
       "(1, 2, 3, 4, 5)"
      ]
     },
     "execution_count": 43,
     "metadata": {},
     "output_type": "execute_result"
    }
   ],
   "source": [
    "b[:5]"
   ]
  },
  {
   "cell_type": "code",
   "execution_count": 44,
   "id": "9963720e",
   "metadata": {},
   "outputs": [
    {
     "data": {
      "text/plain": [
       "(4, 5, 6)"
      ]
     },
     "execution_count": 44,
     "metadata": {},
     "output_type": "execute_result"
    }
   ],
   "source": [
    "b[3:6]"
   ]
  },
  {
   "cell_type": "markdown",
   "id": "0337a5a5",
   "metadata": {},
   "source": [
    "# set"
   ]
  },
  {
   "cell_type": "code",
   "execution_count": 53,
   "id": "e4bbeda6",
   "metadata": {},
   "outputs": [
    {
     "name": "stdout",
     "output_type": "stream",
     "text": [
      "<class 'set'>\n"
     ]
    }
   ],
   "source": [
    "c={\"sayali\",\"pooja\",\"seema\",\"kajal\",\"ankita\"}\n",
    "print(type(c))"
   ]
  },
  {
   "cell_type": "code",
   "execution_count": 54,
   "id": "4e5cf3b8",
   "metadata": {},
   "outputs": [
    {
     "name": "stdout",
     "output_type": "stream",
     "text": [
      "5\n"
     ]
    }
   ],
   "source": [
    "print(len(c))"
   ]
  },
  {
   "cell_type": "code",
   "execution_count": 57,
   "id": "b3e6c327",
   "metadata": {},
   "outputs": [
    {
     "data": {
      "text/plain": [
       "{'ankita', 'asfiya', 'kajal', 'pooja', 'sayali', 'seema'}"
      ]
     },
     "execution_count": 57,
     "metadata": {},
     "output_type": "execute_result"
    }
   ],
   "source": [
    "c.add(\"asfiya\")\n",
    "c"
   ]
  },
  {
   "cell_type": "code",
   "execution_count": 60,
   "id": "5990383d",
   "metadata": {},
   "outputs": [
    {
     "name": "stdout",
     "output_type": "stream",
     "text": [
      "{1, 2, 3, 4, 5, 7, 8, 9}\n"
     ]
    }
   ],
   "source": [
    "a1={1,2,3,4,5}\n",
    "b1={7,8,9,4,9}\n",
    "c1=a1.union(b1)\n",
    "print(c1)"
   ]
  },
  {
   "cell_type": "code",
   "execution_count": 63,
   "id": "d67693f9",
   "metadata": {},
   "outputs": [
    {
     "name": "stdout",
     "output_type": "stream",
     "text": [
      "{'seema', 'kajal', 'sayali', 'ankita', 'pooja'}\n"
     ]
    }
   ],
   "source": [
    "d={\"sayali\",\"pooja\",\"seema\",\"kajal\",\"ankita\",\"sayali\"}\n",
    "print(d)        # set not allow duplicate"
   ]
  },
  {
   "cell_type": "code",
   "execution_count": 76,
   "id": "d29c4774",
   "metadata": {},
   "outputs": [],
   "source": [
    "d={\"sayali\",\"pooja\",\"seema\",\"kajal\",\"ankita\"}"
   ]
  },
  {
   "cell_type": "code",
   "execution_count": 77,
   "id": "ff19b601",
   "metadata": {},
   "outputs": [
    {
     "data": {
      "text/plain": [
       "{'ankita', 'pooja', 'sayali', 'seema'}"
      ]
     },
     "execution_count": 77,
     "metadata": {},
     "output_type": "execute_result"
    }
   ],
   "source": [
    "d.remove(\"kajal\")\n",
    "d"
   ]
  },
  {
   "cell_type": "code",
   "execution_count": 78,
   "id": "e9b8a6b9",
   "metadata": {},
   "outputs": [
    {
     "ename": "KeyError",
     "evalue": "'priti'",
     "output_type": "error",
     "traceback": [
      "\u001b[1;31m---------------------------------------------------------------------------\u001b[0m",
      "\u001b[1;31mKeyError\u001b[0m                                  Traceback (most recent call last)",
      "\u001b[1;32m~\\AppData\\Local\\Temp/ipykernel_8660/175996588.py\u001b[0m in \u001b[0;36m<module>\u001b[1;34m\u001b[0m\n\u001b[1;32m----> 1\u001b[1;33m \u001b[0md\u001b[0m\u001b[1;33m.\u001b[0m\u001b[0mremove\u001b[0m\u001b[1;33m(\u001b[0m\u001b[1;34m\"priti\"\u001b[0m\u001b[1;33m)\u001b[0m\u001b[1;33m\u001b[0m\u001b[1;33m\u001b[0m\u001b[0m\n\u001b[0m",
      "\u001b[1;31mKeyError\u001b[0m: 'priti'"
     ]
    }
   ],
   "source": [
    "d.remove(\"priti\")"
   ]
  },
  {
   "cell_type": "code",
   "execution_count": 81,
   "id": "f31da854",
   "metadata": {},
   "outputs": [
    {
     "data": {
      "text/plain": [
       "{'ankita', 'kajal', 'pooja', 'sayali'}"
      ]
     },
     "execution_count": 81,
     "metadata": {},
     "output_type": "execute_result"
    }
   ],
   "source": [
    "d={\"sayali\",\"pooja\",\"seema\",\"kajal\",\"ankita\"}\n",
    "d\n",
    "d.discard(\"seema\")\n",
    "d"
   ]
  },
  {
   "cell_type": "code",
   "execution_count": 82,
   "id": "1340cbd6",
   "metadata": {},
   "outputs": [
    {
     "data": {
      "text/plain": [
       "{'ankita', 'kajal', 'pooja', 'sayali'}"
      ]
     },
     "execution_count": 82,
     "metadata": {},
     "output_type": "execute_result"
    }
   ],
   "source": [
    "d.discard(\"priti\")\n",
    "d"
   ]
  },
  {
   "cell_type": "markdown",
   "id": "d0fae9c1",
   "metadata": {},
   "source": [
    "# Dictionary"
   ]
  },
  {
   "cell_type": "code",
   "execution_count": 83,
   "id": "f8a6aee3",
   "metadata": {},
   "outputs": [
    {
     "name": "stdout",
     "output_type": "stream",
     "text": [
      "<class 'dict'>\n"
     ]
    }
   ],
   "source": [
    "d={\"Name\":\"sayali\",\"Roll_No\":123,\"Email_id\":\"sayaliadsul2016\"}\n",
    "print(type(d))"
   ]
  },
  {
   "cell_type": "code",
   "execution_count": 85,
   "id": "726951fa",
   "metadata": {},
   "outputs": [
    {
     "data": {
      "text/plain": [
       "dict_keys(['Name', 'Roll_No', 'Email_id'])"
      ]
     },
     "execution_count": 85,
     "metadata": {},
     "output_type": "execute_result"
    }
   ],
   "source": [
    "d.keys()"
   ]
  },
  {
   "cell_type": "code",
   "execution_count": 86,
   "id": "1c6508bb",
   "metadata": {},
   "outputs": [
    {
     "data": {
      "text/plain": [
       "dict_values(['sayali', 123, 'sayaliadsul2016'])"
      ]
     },
     "execution_count": 86,
     "metadata": {},
     "output_type": "execute_result"
    }
   ],
   "source": [
    "d.values()"
   ]
  },
  {
   "cell_type": "code",
   "execution_count": 89,
   "id": "fa0345f7",
   "metadata": {},
   "outputs": [
    {
     "data": {
      "text/plain": [
       "dict_items([('Name', 'sayali'), ('Roll_No', 123), ('Email_id', 'sayaliadsul2016')])"
      ]
     },
     "execution_count": 89,
     "metadata": {},
     "output_type": "execute_result"
    }
   ],
   "source": [
    "d.items()"
   ]
  },
  {
   "cell_type": "code",
   "execution_count": 87,
   "id": "e4f84297",
   "metadata": {},
   "outputs": [
    {
     "name": "stdout",
     "output_type": "stream",
     "text": [
      "Name\n",
      "Roll_No\n",
      "Email_id\n"
     ]
    }
   ],
   "source": [
    "for i in d.keys():\n",
    "    print(i)"
   ]
  },
  {
   "cell_type": "code",
   "execution_count": 88,
   "id": "f500a81b",
   "metadata": {},
   "outputs": [
    {
     "name": "stdout",
     "output_type": "stream",
     "text": [
      "sayali\n",
      "123\n",
      "sayaliadsul2016\n"
     ]
    }
   ],
   "source": [
    "for i in d.values():\n",
    "    print(i)"
   ]
  },
  {
   "cell_type": "code",
   "execution_count": 90,
   "id": "f63b8624",
   "metadata": {},
   "outputs": [
    {
     "name": "stdout",
     "output_type": "stream",
     "text": [
      "('Name', 'sayali')\n",
      "('Roll_No', 123)\n",
      "('Email_id', 'sayaliadsul2016')\n"
     ]
    }
   ],
   "source": [
    "for i in d.items():\n",
    "    print(i)"
   ]
  },
  {
   "cell_type": "code",
   "execution_count": 92,
   "id": "74f18e13",
   "metadata": {},
   "outputs": [
    {
     "data": {
      "text/plain": [
       "{'Name': 'sayali',\n",
       " 'Roll_No': 123,\n",
       " 'Email_id': 'sayaliadsul2016',\n",
       " 'Mob_No': 7896543}"
      ]
     },
     "execution_count": 92,
     "metadata": {},
     "output_type": "execute_result"
    }
   ],
   "source": [
    "d[\"Mob_No\"]=7896543\n",
    "d"
   ]
  },
  {
   "cell_type": "markdown",
   "id": "cb19c68e",
   "metadata": {},
   "source": [
    "# 5) Functional Programming"
   ]
  },
  {
   "cell_type": "code",
   "execution_count": 7,
   "id": "8def716b",
   "metadata": {},
   "outputs": [
    {
     "name": "stdout",
     "output_type": "stream",
     "text": [
      "enter the a value : 5\n",
      "enter the b value : 3\n",
      "Length :  6\n",
      "Enter the marks : 89\n",
      "Enter the marks : 76\n",
      "Enter the marks : 48\n",
      "Enter the marks : 35\n",
      "Enter the marks : 44\n",
      "Enter the marks : 96\n",
      "Enter the marks : 87\n",
      "Enter the marks : 56\n",
      "[89, 76, 48, 35, 44, 96, 87, 56]\n",
      "11\n"
     ]
    }
   ],
   "source": [
    "def add(a,b):\n",
    "    c=a+b\n",
    "    return c\n",
    "def stud():\n",
    "    ab=add(a,b)\n",
    "    marks=[]\n",
    "    l1=[\"sayali\",\"pooja\",\"kajal\",\"ankita\",\"nikita\",\"asfiya\"]\n",
    "    for x in l1:\n",
    "        if x==\"nikita\":\n",
    "            j=len(x)\n",
    "            print(\"Length : \",j)\n",
    "            for i in range(ab):\n",
    "                m=int(input(\"Enter the marks : \"))\n",
    "                marks.append(m)\n",
    "            print(marks)\n",
    "            return j\n",
    "def sub():\n",
    "    s=stud()\n",
    "    g=s+5\n",
    "    print(g)\n",
    "    \n",
    "a=int(input(\"enter the a value : \"))\n",
    "b=int(input(\"enter the b value : \"))\n",
    "\n",
    "sub()\n",
    "\n",
    "        \n",
    "        \n",
    "        \n",
    "    \n",
    "        \n",
    "    \n",
    "    "
   ]
  },
  {
   "cell_type": "markdown",
   "id": "27b2ea4a",
   "metadata": {},
   "source": [
    "# 6) class program"
   ]
  },
  {
   "cell_type": "code",
   "execution_count": 3,
   "id": "14498dc5",
   "metadata": {},
   "outputs": [
    {
     "name": "stdout",
     "output_type": "stream",
     "text": [
      "Enter the Name : sf\n",
      "enter the number : 33\n",
      "Enter the marks : 35\n",
      "Enter the marks : 48\n",
      "Enter the marks : 78\n",
      "Enter the marks : 44\n",
      "Enter the marks : 56\n",
      "[35, 48, 78, 44, 56]\n",
      "Total :  261\n",
      "Average :  52.2\n",
      "My name sf\n",
      "My no. 33\n"
     ]
    }
   ],
   "source": [
    "marks=[]\n",
    "class data:\n",
    "    def __init__(self,name,num):\n",
    "        self.name=name\n",
    "        self.num=num\n",
    "        \n",
    "    def sad(self):\n",
    "        for j in range(5):\n",
    "            m=int(input(\"Enter the marks : \"))\n",
    "            marks.append(m)\n",
    "            total=sum(marks)\n",
    "            average=total/len(marks)\n",
    "        print(marks)\n",
    "        print(\"Total : \",total)\n",
    "        print(\"Average : \",average)\n",
    "            \n",
    "        \n",
    "    def show(self):\n",
    "        print(\"My name\",self.name)\n",
    "        print(\"My no.\",self.num)\n",
    "        \n",
    "name=input(\"Enter the Name : \")\n",
    "num=int(input(\"enter the number : \"))\n",
    "obj=data(name,num)\n",
    "obj.sad()\n",
    "obj.show()\n",
    "    \n",
    "\n"
   ]
  }
 ],
 "metadata": {
  "kernelspec": {
   "display_name": "Python 3 (ipykernel)",
   "language": "python",
   "name": "python3"
  },
  "language_info": {
   "codemirror_mode": {
    "name": "ipython",
    "version": 3
   },
   "file_extension": ".py",
   "mimetype": "text/x-python",
   "name": "python",
   "nbconvert_exporter": "python",
   "pygments_lexer": "ipython3",
   "version": "3.9.7"
  }
 },
 "nbformat": 4,
 "nbformat_minor": 5
}
