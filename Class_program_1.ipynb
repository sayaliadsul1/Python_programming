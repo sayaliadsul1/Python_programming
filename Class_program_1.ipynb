{
 "cells": [
  {
   "cell_type": "code",
   "execution_count": 1,
   "id": "a4389dba",
   "metadata": {},
   "outputs": [
    {
     "name": "stdout",
     "output_type": "stream",
     "text": [
      "1\n",
      "3\n",
      "this is mY Addition:  4\n",
      "Enter the Marks: 45\n",
      "Enter the Marks: 85\n",
      "Enter the Marks: 96\n",
      "Enter the Marks: 78\n",
      "[45, 85, 96, 78]\n",
      "Enter the Name: sayali\n",
      "Enter the Number: pooja\n"
     ]
    },
    {
     "ename": "ValueError",
     "evalue": "invalid literal for int() with base 10: 'pooja'",
     "output_type": "error",
     "traceback": [
      "\u001b[1;31m---------------------------------------------------------------------------\u001b[0m",
      "\u001b[1;31mValueError\u001b[0m                                Traceback (most recent call last)",
      "\u001b[1;32m~\\AppData\\Local\\Temp/ipykernel_3704/3356640531.py\u001b[0m in \u001b[0;36m<module>\u001b[1;34m\u001b[0m\n\u001b[0;32m     25\u001b[0m \u001b[0mm\u001b[0m\u001b[1;33m.\u001b[0m\u001b[0mShow\u001b[0m\u001b[1;33m(\u001b[0m\u001b[1;33m)\u001b[0m\u001b[1;33m\u001b[0m\u001b[1;33m\u001b[0m\u001b[0m\n\u001b[0;32m     26\u001b[0m \u001b[0mm\u001b[0m\u001b[1;33m.\u001b[0m\u001b[0mMarks\u001b[0m\u001b[1;33m(\u001b[0m\u001b[1;33m)\u001b[0m\u001b[1;33m\u001b[0m\u001b[1;33m\u001b[0m\u001b[0m\n\u001b[1;32m---> 27\u001b[1;33m \u001b[0mm\u001b[0m\u001b[1;33m.\u001b[0m\u001b[0mstud\u001b[0m\u001b[1;33m(\u001b[0m\u001b[1;34m\"sayali\"\u001b[0m\u001b[1;33m,\u001b[0m\u001b[1;36m999\u001b[0m\u001b[1;33m)\u001b[0m\u001b[1;33m\u001b[0m\u001b[1;33m\u001b[0m\u001b[0m\n\u001b[0m",
      "\u001b[1;32m~\\AppData\\Local\\Temp/ipykernel_3704/3356640531.py\u001b[0m in \u001b[0;36mstud\u001b[1;34m(self, name, num)\u001b[0m\n\u001b[0;32m     15\u001b[0m         \u001b[0mdet\u001b[0m\u001b[1;33m=\u001b[0m\u001b[1;33m[\u001b[0m\u001b[1;33m]\u001b[0m\u001b[1;33m\u001b[0m\u001b[1;33m\u001b[0m\u001b[0m\n\u001b[0;32m     16\u001b[0m         \u001b[0mname\u001b[0m\u001b[1;33m=\u001b[0m\u001b[0minput\u001b[0m\u001b[1;33m(\u001b[0m\u001b[1;34m\"Enter the Name: \"\u001b[0m\u001b[1;33m)\u001b[0m\u001b[1;33m\u001b[0m\u001b[1;33m\u001b[0m\u001b[0m\n\u001b[1;32m---> 17\u001b[1;33m         \u001b[0mnumber\u001b[0m\u001b[1;33m=\u001b[0m\u001b[0mint\u001b[0m\u001b[1;33m(\u001b[0m\u001b[0minput\u001b[0m\u001b[1;33m(\u001b[0m\u001b[1;34m\"Enter the Number: \"\u001b[0m\u001b[1;33m)\u001b[0m\u001b[1;33m)\u001b[0m\u001b[1;33m\u001b[0m\u001b[1;33m\u001b[0m\u001b[0m\n\u001b[0m\u001b[0;32m     18\u001b[0m         \u001b[0mdet\u001b[0m\u001b[1;33m.\u001b[0m\u001b[0mappend\u001b[0m\u001b[1;33m(\u001b[0m\u001b[0mname\u001b[0m\u001b[1;33m)\u001b[0m\u001b[1;33m\u001b[0m\u001b[1;33m\u001b[0m\u001b[0m\n\u001b[0;32m     19\u001b[0m         \u001b[0mdet\u001b[0m\u001b[1;33m.\u001b[0m\u001b[0mappend\u001b[0m\u001b[1;33m(\u001b[0m\u001b[0mnumber\u001b[0m\u001b[1;33m)\u001b[0m\u001b[1;33m\u001b[0m\u001b[1;33m\u001b[0m\u001b[0m\n",
      "\u001b[1;31mValueError\u001b[0m: invalid literal for int() with base 10: 'pooja'"
     ]
    }
   ],
   "source": [
    "class Mat:\n",
    "    def __init__(self,a,b):\n",
    "        self.a=a\n",
    "        self.b=b\n",
    "        self.c=self.a+self.b\n",
    "    def Show(self):\n",
    "        print(\"this is mY Addition: \",self.a+self.b)\n",
    "    def Marks(self):\n",
    "        ab=[]\n",
    "        for x in range(self.c):\n",
    "            m1=int(input(\"Enter the Marks: \"))\n",
    "            ab.append(m1)\n",
    "        print(ab)\n",
    "    def stud(self,name,num):\n",
    "        det=[]\n",
    "        name=input(\"Enter the Name: \")\n",
    "        number=int(input(\"Enter the Number: \"))\n",
    "        det.append(name)\n",
    "        det.append(number)\n",
    "        print(det,\"These are My Students...\")\n",
    "        \n",
    "a=int(input())\n",
    "b=int(input())\n",
    "m=Mat(a,b)\n",
    "m.Show()\n",
    "m.Marks()\n",
    "m.stud(\"sayali\",999)\n"
   ]
  },
  {
   "cell_type": "code",
   "execution_count": null,
   "id": "e117510e",
   "metadata": {},
   "outputs": [],
   "source": []
  },
  {
   "cell_type": "code",
   "execution_count": 5,
   "id": "a827b71f",
   "metadata": {},
   "outputs": [
    {
     "name": "stdout",
     "output_type": "stream",
     "text": [
      "This is Addition :  4\n",
      "Enter the Name : sai\n",
      "Enter the Marks : 78\n",
      "Enter the Marks : 98\n",
      "Enter the Marks : 85\n",
      "-----------------------------------------------------\n",
      "Enter the Name : niki\n",
      "Enter the Marks : 45\n",
      "Enter the Marks : 65\n",
      "Enter the Marks : 98\n",
      "Enter the Marks : 78\n",
      "-----------------------------------------------------\n",
      "Enter the Name : asfi\n",
      "Enter the Marks : 99\n",
      "Enter the Marks : 88\n",
      "Enter the Marks : 33\n",
      "Enter the Marks : 55\n",
      "-----------------------------------------------------\n",
      "Enter the Name : kaju\n",
      "Enter the Marks : 74\n",
      "Enter the Marks : 85\n",
      "Enter the Marks : 65\n",
      "Enter the Marks : 98\n",
      "-----------------------------------------------------\n",
      "[78, 98, 85, 45, 65, 98, 78, 99, 88, 33, 55, 74, 85, 65, 98]\n",
      "['sai', 'niki', 'asfi', 'kaju']\n",
      "Sorry...........\n",
      "[]\n",
      "[]\n",
      "Sorry...........\n",
      "[]\n",
      "[]\n",
      "Sorry...........\n",
      "[]\n",
      "[]\n",
      "Sorry...........\n",
      "[]\n",
      "[]\n"
     ]
    }
   ],
   "source": [
    "class math:\n",
    "    def add(self):\n",
    "        self.a=2\n",
    "        self.b=2\n",
    "        self.c=self.a+self.b\n",
    "    def show(self):\n",
    "        print(\"This is Addition : \",self.c)\n",
    "        \n",
    "    def sub(self):\n",
    "        name=[]\n",
    "        marks=[]\n",
    "        for i in range(self.c):\n",
    "            n=input(\"Enter the Name : \")\n",
    "            name.append(n)\n",
    "            j=len(n)\n",
    "            for i in range(j):\n",
    "                mark=int(input(\"Enter the Marks : \"))\n",
    "                marks.append(mark)\n",
    "            print(\"-----------------------------------------------------\")\n",
    "        print(marks)\n",
    "        print(name)\n",
    "        return name\n",
    "    def info(self,a1):\n",
    "        z=[]\n",
    "        city=[]\n",
    "        for x in a1:\n",
    "            if x==\"seema\":\n",
    "                for y in range(4):\n",
    "                    p=int(input(\"Enter the number :\"))\n",
    "                    z.append(p)\n",
    "            elif x==\"asfiya\":\n",
    "                for o in range(4):\n",
    "                    q=input(\"Enter the city name :\")\n",
    "                    city.append(q)\n",
    "            \n",
    "        print(z)\n",
    "        print(city)\n",
    "        \n",
    "            \n",
    "            \n",
    "obj=math()\n",
    "obj.add()\n",
    "obj.show()\n",
    "a1=obj.sub()\n",
    "obj.info(a1)"
   ]
  },
  {
   "cell_type": "code",
   "execution_count": 6,
   "id": "50efda68",
   "metadata": {},
   "outputs": [
    {
     "name": "stdout",
     "output_type": "stream",
     "text": [
      "Enter the Name: sayali\n",
      "Enter the Salary: 50000\n",
      "Enter the Name: kaju\n",
      "Enter the Salary: 70000\n",
      "[6, 4] This is Marks: \n",
      "[50000, 70000] This is Salary:\n",
      "Company Emp Name:  ['sayali', 'kaju']\n",
      "This is My Total Marks:  10 And My Avg is :  5.0 %..\n"
     ]
    }
   ],
   "source": [
    "class mobile:\n",
    "    def __init__(self):\n",
    "        self.name=\"James\"\n",
    "        self.no=2\n",
    "    def com(self):\n",
    "        sal=[]\n",
    "        names=[]\n",
    "        mark=[]\n",
    "        for x in range(self.no):\n",
    "            name=input(\"Enter the Name: \")\n",
    "            salary=int(input(\"Enter the Salary: \"))\n",
    "            names.append(name)\n",
    "            marks=len(name)\n",
    "            mark.append(marks)\n",
    "            sal.append(salary)\n",
    "        print(mark,\"This is Marks: \")\n",
    "        print(sal,\"This is Salary:\")\n",
    "        print(\"Company Emp Name: \",names)\n",
    "        return mark\n",
    "    def marksheet(self,a1):\n",
    "        total=sum(a1)\n",
    "        avg=total/len(a1)\n",
    "        print(\"This is My Total Marks: \",total,\"And My Avg is : \",avg, \"%..\")\n",
    "\n",
    "        \n",
    "nm=mobile()\n",
    "a1=nm.com()\n",
    "nm.marksheet(a1)"
   ]
  },
  {
   "cell_type": "code",
   "execution_count": null,
   "id": "1f407a08",
   "metadata": {},
   "outputs": [],
   "source": []
  },
  {
   "cell_type": "code",
   "execution_count": null,
   "id": "af680e52",
   "metadata": {},
   "outputs": [],
   "source": []
  }
 ],
 "metadata": {
  "kernelspec": {
   "display_name": "Python 3 (ipykernel)",
   "language": "python",
   "name": "python3"
  },
  "language_info": {
   "codemirror_mode": {
    "name": "ipython",
    "version": 3
   },
   "file_extension": ".py",
   "mimetype": "text/x-python",
   "name": "python",
   "nbconvert_exporter": "python",
   "pygments_lexer": "ipython3",
   "version": "3.9.7"
  }
 },
 "nbformat": 4,
 "nbformat_minor": 5
}
