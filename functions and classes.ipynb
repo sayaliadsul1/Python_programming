{
 "cells": [
  {
   "cell_type": "code",
   "execution_count": 3,
   "id": "1ec19d8c",
   "metadata": {},
   "outputs": [],
   "source": [
    "def data():\n",
    "    for i in range(5):\n",
    "        print(\"I am sayali...\")"
   ]
  },
  {
   "cell_type": "code",
   "execution_count": 4,
   "id": "af09ab55",
   "metadata": {},
   "outputs": [
    {
     "name": "stdout",
     "output_type": "stream",
     "text": [
      "I am sayali...\n",
      "I am sayali...\n",
      "I am sayali...\n",
      "I am sayali...\n",
      "I am sayali...\n"
     ]
    }
   ],
   "source": [
    "data()"
   ]
  },
  {
   "cell_type": "code",
   "execution_count": 12,
   "id": "6b59d46c",
   "metadata": {},
   "outputs": [],
   "source": [
    "n=[]\n",
    "def school():\n",
    "    for i in range(3):\n",
    "        name=input(\"Enter the name : \")\n",
    "        n.append(name)\n",
    "    return n"
   ]
  },
  {
   "cell_type": "code",
   "execution_count": 13,
   "id": "1de0360a",
   "metadata": {},
   "outputs": [
    {
     "name": "stdout",
     "output_type": "stream",
     "text": [
      "Enter the name : seema\n",
      "Enter the name : sayali\n",
      "Enter the name : asfiya\n"
     ]
    }
   ],
   "source": [
    "sh=school()"
   ]
  },
  {
   "cell_type": "code",
   "execution_count": 16,
   "id": "3adfa335",
   "metadata": {},
   "outputs": [
    {
     "name": "stdout",
     "output_type": "stream",
     "text": [
      "seema\n",
      "sayali\n",
      "asfiya\n"
     ]
    }
   ],
   "source": [
    "for x in sh:\n",
    "    print(x)"
   ]
  },
  {
   "cell_type": "code",
   "execution_count": 8,
   "id": "dd063ffc",
   "metadata": {},
   "outputs": [
    {
     "name": "stdout",
     "output_type": "stream",
     "text": [
      "Enter the loop count : 4\n",
      "Enter the name : seema\n",
      "Enter the number : 123\n",
      "---------------------------------------\n",
      "Enter the name : sayali\n",
      "Enter the number : 789\n",
      "---------------------------------------\n",
      "Enter the name : asfiya\n",
      "Enter the number : 741\n",
      "---------------------------------------\n",
      "Enter the name : kajal\n",
      "Enter the number : 78\n",
      "---------------------------------------\n",
      "[123, 789, 741, 78]\n",
      "Enter the marks : 85\n",
      "Enter the marks : 65\n",
      "Enter the marks : 74\n",
      "Enter the marks : 96\n",
      "Enter the marks : 88\n",
      "[85, 65, 74, 96, 88]\n"
     ]
    }
   ],
   "source": [
    "\n",
    "city_name=[]\n",
    "def details():\n",
    "    name1=[]\n",
    "    num1=[]\n",
    "    #marks=[]\n",
    "    #city_name=[]\n",
    "    n=int(input(\"Enter the loop count : \"))\n",
    "    for i in range(n):\n",
    "        name=input(\"Enter the name : \")\n",
    "        num=int(input(\"Enter the number : \"))\n",
    "        print(\"---------------------------------------\")\n",
    "        name1.append(name)\n",
    "        num1.append(num)\n",
    "    #print(name1)\n",
    "    print(num1)\n",
    "    return name1\n",
    "\n",
    "def Name():\n",
    "    ab=details()\n",
    "    \n",
    "    marks=[]\n",
    "    for x in ab:\n",
    "        if x==\"seema\":\n",
    "            for x1 in range(5):\n",
    "                mark=int(input(\"Enter the marks : \"))\n",
    "                marks.append(mark)\n",
    "            print(marks)\n",
    "        elif x==\"ankita\":\n",
    "            city=input(\"Enter the city : \")\n",
    "            city_name.append(city)\n",
    "            print(city_name)\n",
    "        return city_name\n",
    "def data():\n",
    "    ab1=Name()\n",
    "    for y in ab1:\n",
    "        if y==\"baramati\":\n",
    "            print(\"Hii! welcome to Baramati...\")\n",
    "        else:\n",
    "            print(\"SORRY.....\")\n",
    "        \n",
    "data()\n",
    "        "
   ]
  }
 ],
 "metadata": {
  "kernelspec": {
   "display_name": "Python 3 (ipykernel)",
   "language": "python",
   "name": "python3"
  },
  "language_info": {
   "codemirror_mode": {
    "name": "ipython",
    "version": 3
   },
   "file_extension": ".py",
   "mimetype": "text/x-python",
   "name": "python",
   "nbconvert_exporter": "python",
   "pygments_lexer": "ipython3",
   "version": "3.9.7"
  }
 },
 "nbformat": 4,
 "nbformat_minor": 5
}
