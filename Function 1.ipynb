{
 "cells": [
  {
   "cell_type": "code",
   "execution_count": 1,
   "id": "f6a49b88",
   "metadata": {},
   "outputs": [
    {
     "name": "stdout",
     "output_type": "stream",
     "text": [
      "Would you like to shut down?no\n",
      "Shutdown aborted!\n"
     ]
    }
   ],
   "source": [
    "s=input(\"Would you like to shut down?\")\n",
    "def shut_down(s):\n",
    "    if s.lower() == \"yes\":\n",
    "        print(\"Shutting down...\")\n",
    "    elif s.lower() == \"no\":\n",
    "        print(\"Shutdown aborted!\")\n",
    "    else:\n",
    "        print(\"Sorry, I didn't understand you.\")\n",
    "shut_down(s)"
   ]
  },
  {
   "cell_type": "code",
   "execution_count": 2,
   "id": "061f0ba7",
   "metadata": {},
   "outputs": [
    {
     "name": "stdout",
     "output_type": "stream",
     "text": [
      "enter a 1st no:56\n",
      "enter a 2nd no:96\n",
      "enter a 3rd no:78\n",
      "b is greater\n"
     ]
    }
   ],
   "source": [
    "a=int(input(\"enter a 1st no:\"))\n",
    "b=int(input(\"enter a 2nd no:\"))\n",
    "c=int(input(\"enter a 3rd no:\"))\n",
    "def my_function(a,b,c):\n",
    "    if a>b:\n",
    "        print(\"a is greater\")\n",
    "    elif b>c:\n",
    "        print(\"b is greater\")\n",
    "    else:\n",
    "        print(\"c is greater\")\n",
    "my_function(a,b,c)\n",
    "        "
   ]
  },
  {
   "cell_type": "code",
   "execution_count": 3,
   "id": "77abf3fd",
   "metadata": {},
   "outputs": [
    {
     "name": "stdout",
     "output_type": "stream",
     "text": [
      "c is greater\n"
     ]
    }
   ],
   "source": [
    "def my_function(a,b,c):\n",
    "    if a>b:\n",
    "        print(\"a is greater\")\n",
    "    elif b>c:\n",
    "        print(\"b is greater\")\n",
    "    else:\n",
    "        print(\"c is greater\")\n",
    "my_function(10,20,30)\n",
    "        "
   ]
  },
  {
   "cell_type": "code",
   "execution_count": 4,
   "id": "7d09af22",
   "metadata": {},
   "outputs": [
    {
     "name": "stdout",
     "output_type": "stream",
     "text": [
      "Would you like to shut down?i\n"
     ]
    },
    {
     "data": {
      "text/plain": [
       "'sorry...'"
      ]
     },
     "execution_count": 4,
     "metadata": {},
     "output_type": "execute_result"
    }
   ],
   "source": [
    "# if else with return \n",
    "\n",
    "a=input(\"Would you like to shut down?\")\n",
    "def shut_down(a):\n",
    "    if a==\"yes\":\n",
    "        return \"shutting down\"\n",
    "    elif a==\"no\":\n",
    "        return \"shutting aborted\"\n",
    "    else:\n",
    "        return \"sorry...\"\n",
    "shut_down(a)\n",
    "        \n",
    "    "
   ]
  },
  {
   "cell_type": "code",
   "execution_count": 5,
   "id": "81bff09a",
   "metadata": {},
   "outputs": [
    {
     "name": "stdout",
     "output_type": "stream",
     "text": [
      "enter a number12\n",
      "enter a number56\n",
      "68\n",
      "************************************\n",
      "enter a number89\n",
      "enter a number96\n",
      "185\n",
      "************************************\n",
      "enter a number63\n",
      "enter a number24\n",
      "87\n",
      "************************************\n",
      "enter a number85\n",
      "enter a number78\n",
      "163\n",
      "************************************\n",
      "enter a number96\n",
      "enter a number12\n",
      "108\n",
      "************************************\n"
     ]
    }
   ],
   "source": [
    "def my_fun():\n",
    "    for i in range(5):\n",
    "        a=int(input(\"enter a number\"))\n",
    "        b=int(input(\"enter a number\"))\n",
    "        c=a+b\n",
    "        print(c)\n",
    "        print(\"************************************\")\n",
    "my_fun()\n"
   ]
  },
  {
   "cell_type": "code",
   "execution_count": 1,
   "id": "cc8ec2ed",
   "metadata": {},
   "outputs": [
    {
     "name": "stdout",
     "output_type": "stream",
     "text": [
      "enter a number : 12\n",
      "enter a number : 63\n",
      "addition 75\n"
     ]
    }
   ],
   "source": [
    "def add():\n",
    "    a=int(input(\"enter a number : \"))\n",
    "    b=int(input(\"enter a number : \"))\n",
    "    c=a+b\n",
    "    print(\"addition\",c)\n",
    "def b():\n",
    "    add()\n",
    "b()\n",
    "    "
   ]
  },
  {
   "cell_type": "code",
   "execution_count": null,
   "id": "ffea5b54",
   "metadata": {},
   "outputs": [],
   "source": []
  }
 ],
 "metadata": {
  "kernelspec": {
   "display_name": "Python 3 (ipykernel)",
   "language": "python",
   "name": "python3"
  },
  "language_info": {
   "codemirror_mode": {
    "name": "ipython",
    "version": 3
   },
   "file_extension": ".py",
   "mimetype": "text/x-python",
   "name": "python",
   "nbconvert_exporter": "python",
   "pygments_lexer": "ipython3",
   "version": "3.9.7"
  }
 },
 "nbformat": 4,
 "nbformat_minor": 5
}
