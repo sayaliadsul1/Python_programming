{
 "cells": [
  {
   "cell_type": "code",
   "execution_count": 1,
   "id": "68d36324",
   "metadata": {},
   "outputs": [
    {
     "name": "stdout",
     "output_type": "stream",
     "text": [
      "enter the a value : 5\n",
      "enter the b value : 1\n",
      "Length :  6\n",
      "Enter the marks : 78\n",
      "Enter the marks : 98\n",
      "Enter the marks : 65\n",
      "Enter the marks : 77\n",
      "Enter the marks : 89\n",
      "Enter the marks : 88\n",
      "[78, 98, 65, 77, 89, 88]\n",
      "11\n"
     ]
    }
   ],
   "source": [
    "def add(a,b):\n",
    "    c=a+b\n",
    "    return c\n",
    "def stud():\n",
    "    ab=add(a,b)\n",
    "    marks=[]\n",
    "    l1=[\"sayali\",\"pooja\",\"kajal\",\"ankita\",\"nikita\",\"asfiya\"]\n",
    "    for x in l1:\n",
    "        if x==\"nikita\":\n",
    "            j=len(x)\n",
    "            print(\"Length : \",j)\n",
    "            for i in range(ab):\n",
    "                m=int(input(\"Enter the marks : \"))\n",
    "                marks.append(m)\n",
    "            print(marks)\n",
    "            return j\n",
    "def sub():\n",
    "    s=stud()\n",
    "    g=s+5\n",
    "    print(g)\n",
    "    \n",
    "a=int(input(\"enter the a value : \"))\n",
    "b=int(input(\"enter the b value : \"))\n",
    "\n",
    "sub()"
   ]
  },
  {
   "cell_type": "code",
   "execution_count": 2,
   "id": "7e4c2300",
   "metadata": {},
   "outputs": [
    {
     "name": "stdout",
     "output_type": "stream",
     "text": [
      "Enter the Name : sayali\n",
      "enter the number : 89\n",
      "Enter the marks : 96\n",
      "Enter the marks : 78\n",
      "Enter the marks : 45\n",
      "Enter the marks : 98\n",
      "Enter the marks : 65\n",
      "[96, 78, 45, 98, 65]\n",
      "Total :  382\n",
      "Average :  76.4\n",
      "My name sayali\n",
      "My no. 89\n"
     ]
    }
   ],
   "source": [
    "marks=[]\n",
    "class data:\n",
    "    def __init__(self,name,num):\n",
    "        self.name=name\n",
    "        self.num=num\n",
    "        \n",
    "    def sad(self):\n",
    "        for j in range(5):\n",
    "            m=int(input(\"Enter the marks : \"))\n",
    "            marks.append(m)\n",
    "            total=sum(marks)\n",
    "            average=total/len(marks)\n",
    "        print(marks)\n",
    "        print(\"Total : \",total)\n",
    "        print(\"Average : \",average)\n",
    "            \n",
    "        \n",
    "    def show(self):\n",
    "        print(\"My name\",self.name)\n",
    "        print(\"My no.\",self.num)\n",
    "        \n",
    "name=input(\"Enter the Name : \")\n",
    "num=int(input(\"enter the number : \"))\n",
    "obj=data(name,num)\n",
    "obj.sad()\n",
    "obj.show()"
   ]
  },
  {
   "cell_type": "code",
   "execution_count": 1,
   "id": "674f2849",
   "metadata": {},
   "outputs": [
    {
     "name": "stdout",
     "output_type": "stream",
     "text": [
      "enter the a value : 2\n",
      "enter the b value : 3\n",
      "5\n",
      "Length :  6\n",
      "Enter the marks : 78\n",
      "Enter the marks : 98\n",
      "Enter the marks : 45\n",
      "Enter the marks : 98\n",
      "Enter the marks : 66\n",
      "[78, 98, 45, 98, 66]\n",
      "Enter the subject name : statistics\n",
      "Enter the subject name : maths\n",
      "Enter the subject name : biology\n",
      "Enter the subject name : zoology\n",
      "Enter the subject name : computer science\n",
      "Enter the subject name : python\n",
      "{'zoology', 'statistics', 'computer science', 'maths', 'python', 'biology'}\n"
     ]
    }
   ],
   "source": [
    "def add(a,b):\n",
    "    c=a+b\n",
    "    print(c)\n",
    "    return c\n",
    "def stud():\n",
    "    ab=add(a,b)\n",
    "    marks=[]\n",
    "    l1=[\"sayali\",\"pooja\",\"kajal\",\"ankita\",\"nikita\",\"asfiya\"]\n",
    "    for x in l1:\n",
    "        if x==\"nikita\":\n",
    "            j=len(x)\n",
    "            print(\"Length : \",j)\n",
    "            for i in range(ab):\n",
    "                m=int(input(\"Enter the marks : \"))\n",
    "                marks.append(m)\n",
    "            print(marks)\n",
    "            return j\n",
    "def sub():\n",
    "    w=stud()\n",
    "    t1=set()\n",
    "    for y in range(w):\n",
    "        s=input(\"Enter the subject name : \")\n",
    "        t1.add(s)\n",
    "    print(t1)\n",
    "    \n",
    "    \n",
    "a=int(input(\"enter the a value : \"))\n",
    "b=int(input(\"enter the b value : \"))\n",
    "\n",
    "sub()    "
   ]
  },
  {
   "cell_type": "code",
   "execution_count": null,
   "id": "4423babc",
   "metadata": {},
   "outputs": [],
   "source": []
  },
  {
   "cell_type": "code",
   "execution_count": null,
   "id": "dbf02440",
   "metadata": {},
   "outputs": [],
   "source": []
  }
 ],
 "metadata": {
  "kernelspec": {
   "display_name": "Python 3 (ipykernel)",
   "language": "python",
   "name": "python3"
  },
  "language_info": {
   "codemirror_mode": {
    "name": "ipython",
    "version": 3
   },
   "file_extension": ".py",
   "mimetype": "text/x-python",
   "name": "python",
   "nbconvert_exporter": "python",
   "pygments_lexer": "ipython3",
   "version": "3.9.7"
  }
 },
 "nbformat": 4,
 "nbformat_minor": 5
}
