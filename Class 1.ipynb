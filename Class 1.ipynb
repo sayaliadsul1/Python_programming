{
 "cells": [
  {
   "cell_type": "code",
   "execution_count": 1,
   "id": "1d074ca7",
   "metadata": {},
   "outputs": [
    {
     "name": "stdout",
     "output_type": "stream",
     "text": [
      "Enter the Name: priyanka\n",
      "Enter The Number: 123\n",
      "priyanka 123\n",
      "Enter the Marks : 58\n",
      "Enter the Marks : 96\n",
      "Enter the Marks : 45\n",
      "[58, 96, 45]\n",
      "My Name is:  priyanka and Pincode is:  123\n",
      "My Marks:  [58, 96, 45]\n"
     ]
    }
   ],
   "source": [
    "class person:\n",
    "        def __init__(self,name,num):\n",
    "            self.name=name\n",
    "            self.num=num\n",
    "            self.marks=[]\n",
    "        def show(self,n):\n",
    "            print(self.name,self.num)\n",
    "            for x in range(n):\n",
    "                m=int(input(\"Enter the Marks : \"))\n",
    "                self.marks.append(m)\n",
    "            print(self.marks)\n",
    "        def mouse(self):\n",
    "            print(\"My Name is: \",self.name,\"and Pincode is: \",self.num)\n",
    "            print(\"My Marks: \",self.marks)\n",
    "\n",
    "a=input(\"Enter the Name: \")\n",
    "b=int(input(\"Enter The Number: \"))\n",
    "p1=person(a,b)\n",
    "p1.show(3)\n",
    "p1.mouse()"
   ]
  },
  {
   "cell_type": "code",
   "execution_count": 2,
   "id": "19d93787",
   "metadata": {},
   "outputs": [
    {
     "name": "stdout",
     "output_type": "stream",
     "text": [
      "Name:  sayali\n",
      "Roll_no:  34\n",
      "Department:  statistics\n"
     ]
    }
   ],
   "source": [
    "class department:\n",
    "    def __init__(self,Name,Roll_no,Department):\n",
    "        self.Name = Name\n",
    "        self.Roll_no = Roll_no\n",
    "        self.Department = Department\n",
    "        \n",
    "m1 = department(\"sayali\",34,\"statistics\")\n",
    "print(\"Name: \",m1.Name)\n",
    "print(\"Roll_no: \",m1.Roll_no)\n",
    "print(\"Department: \",m1.Department)"
   ]
  },
  {
   "cell_type": "code",
   "execution_count": 1,
   "id": "bdd205b5",
   "metadata": {},
   "outputs": [
    {
     "name": "stdout",
     "output_type": "stream",
     "text": [
      "Enter the name:priyanka\n",
      "Enter the Roll_no:456\n",
      "Enter the Department Name:maths\n",
      "**********************************************\n",
      "Name : priyanka\n",
      "Roll_number : 456\n",
      "Department name : maths\n"
     ]
    }
   ],
   "source": [
    "class student:\n",
    "    def profile(self):\n",
    "        self.name = input(\"Enter the name:\")\n",
    "        self.Roll_no = int(input(\"Enter the Roll_no:\"))\n",
    "        self.Department = input(\"Enter the Department Name:\")\n",
    "    def show(self):\n",
    "        print(\"**********************************************\")\n",
    "        print(\"Name :\",self.name)\n",
    "        print(\"Roll_number :\",self.Roll_no)\n",
    "        print(\"Department name :\",self.Department)\n",
    "        \n",
    "obj=student()\n",
    "obj.profile()\n",
    "obj.show()"
   ]
  },
  {
   "cell_type": "code",
   "execution_count": 2,
   "id": "3077c9fe",
   "metadata": {},
   "outputs": [
    {
     "name": "stdout",
     "output_type": "stream",
     "text": [
      "Enter the ID :1\n",
      "Enter the Department :stat\n",
      "Enter the name :priyanka\n",
      "Enter the address :pune\n",
      "Enter the Contact_No :456789\n",
      "Enter the Email_id :priyanka1@gmail.com\n",
      "--------------------------------------------------\n",
      "ID no : 1\n",
      "Department Name : stat\n",
      "Name : priyanka\n",
      "Address : pune\n",
      "Contact_no. : 456789\n",
      "Email_ID : priyanka1@gmail.com\n",
      "*************************************************\n",
      "*************************************************\n",
      "Enter the ID :2\n",
      "Enter the Department :math\n",
      "Enter the name :akshay\n",
      "Enter the address :karad\n",
      "Enter the Contact_No :78964521\n",
      "Enter the Email_id :akshay528@gmail.com\n",
      "--------------------------------------------------\n",
      "ID no : 2\n",
      "Department Name : math\n",
      "Name : akshay\n",
      "Address : karad\n",
      "Contact_no. : 78964521\n",
      "Email_ID : akshay528@gmail.com\n",
      "*************************************************\n",
      "*************************************************\n"
     ]
    }
   ],
   "source": [
    "class college:\n",
    "    def student_info(self):\n",
    "        self.ID = int(input(\"Enter the ID :\"))\n",
    "        self.Department = input(\"Enter the Department :\")\n",
    "        self.Name = input(\"Enter the name :\")\n",
    "        self.Address = input(\"Enter the address :\")\n",
    "        self.Contact_no = int(input(\"Enter the Contact_No :\"))\n",
    "        self.Email_ID = input(\"Enter the Email_id :\")\n",
    "        print(\"--------------------------------------------------\")\n",
    "    def show(self):\n",
    "        print(\"ID no :\",self.ID)\n",
    "        print(\"Department Name :\",self.Department)\n",
    "        print(\"Name :\",self.Name)\n",
    "        print(\"Address :\",self.Address)\n",
    "        print(\"Contact_no. :\",self.Contact_no)\n",
    "        print(\"Email_ID :\",self.Email_ID)\n",
    "        print(\"*************************************************\")\n",
    "        print(\"*************************************************\")\n",
    "        \n",
    "for x in range(2):\n",
    "    obj=college()\n",
    "    obj.student_info()\n",
    "    obj.show()        "
   ]
  },
  {
   "cell_type": "code",
   "execution_count": 3,
   "id": "bae8cdbd",
   "metadata": {},
   "outputs": [
    {
     "name": "stdout",
     "output_type": "stream",
     "text": [
      "Enter the Name: priyanka\n",
      "Enter The Number: 123\n",
      "priyanka 123\n",
      "Enter the Marks : 85\n",
      "Enter the Marks : 96\n",
      "Enter the Marks : 74\n",
      "My marks [85, 96, 74]\n",
      " Total is: 255\n"
     ]
    }
   ],
   "source": [
    "class person:\n",
    "    def __init__(self,name,num):\n",
    "        self.name=name\n",
    "        self.num=num\n",
    "        self.marks=[]\n",
    "    def show(self,n):\n",
    "        print(self.name,self.num)\n",
    "        for x in range(n):\n",
    "            m=int(input(\"Enter the Marks : \"))\n",
    "            self.marks.append(m)\n",
    "        print(\"My marks\",self.marks)\n",
    "    def marksheet(self):\n",
    "            total=sum(self.marks)\n",
    "            print(\" Total is:\",total)\n",
    "a=input(\"Enter the Name: \")\n",
    "b=int(input(\"Enter The Number: \"))\n",
    "p1=person(a,b)\n",
    "p1.show(3)\n",
    "p1.marksheet()"
   ]
  },
  {
   "cell_type": "code",
   "execution_count": null,
   "id": "75ffec40",
   "metadata": {},
   "outputs": [],
   "source": []
  }
 ],
 "metadata": {
  "kernelspec": {
   "display_name": "Python 3 (ipykernel)",
   "language": "python",
   "name": "python3"
  },
  "language_info": {
   "codemirror_mode": {
    "name": "ipython",
    "version": 3
   },
   "file_extension": ".py",
   "mimetype": "text/x-python",
   "name": "python",
   "nbconvert_exporter": "python",
   "pygments_lexer": "ipython3",
   "version": "3.9.7"
  }
 },
 "nbformat": 4,
 "nbformat_minor": 5
}
