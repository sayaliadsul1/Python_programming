{
 "cells": [
  {
   "cell_type": "code",
   "execution_count": 2,
   "metadata": {},
   "outputs": [
    {
     "name": "stdout",
     "output_type": "stream",
     "text": [
      "Enter the value :20\n",
      "Enter the value :30\n",
      "50\n"
     ]
    }
   ],
   "source": [
    "a=int(input(\"Enter the value :\"))\n",
    "b=int(input(\"Enter the value :\"))\n",
    "c=a+b\n",
    "print(c)"
   ]
  },
  {
   "cell_type": "code",
   "execution_count": 3,
   "metadata": {},
   "outputs": [
    {
     "name": "stdout",
     "output_type": "stream",
     "text": [
      "Enter the value :23\n",
      "Enter the value :30\n",
      "53\n",
      "Enter the value :45\n",
      "Enter the value :65\n",
      "110\n",
      "Enter the value :78\n",
      "Enter the value :98\n",
      "176\n"
     ]
    }
   ],
   "source": [
    "n=3\n",
    "for i in range(n):\n",
    "    a=int(input(\"Enter the value :\"))\n",
    "    b=int(input(\"Enter the value :\"))\n",
    "    c=a+b\n",
    "    print(c)"
   ]
  },
  {
   "cell_type": "code",
   "execution_count": 4,
   "metadata": {},
   "outputs": [
    {
     "name": "stdout",
     "output_type": "stream",
     "text": [
      "Enter the value :56\n",
      "Enter the value :45\n",
      "101\n",
      "Enter the value :78\n",
      "Enter the value :98\n",
      "176\n",
      "Enter the value :32\n",
      "Enter the value :12\n",
      "44\n"
     ]
    }
   ],
   "source": [
    "for i in \"hii\":\n",
    "    a=int(input(\"Enter the value :\"))\n",
    "    b=int(input(\"Enter the value :\"))\n",
    "    c=a+b\n",
    "    print(c)"
   ]
  },
  {
   "cell_type": "code",
   "execution_count": 5,
   "metadata": {},
   "outputs": [
    {
     "name": "stdout",
     "output_type": "stream",
     "text": [
      "I got seema\n",
      "Enter the value :56\n",
      "Enter the value :96\n",
      "152\n",
      "Enter the value :12\n",
      "Enter the value :25\n",
      "37\n",
      "Enter the value :36\n",
      "Enter the value :74\n",
      "110\n"
     ]
    }
   ],
   "source": [
    "a=[\"sayali\",\"seema\",\"pooja\"]\n",
    "for i in a:\n",
    "    if i==\"seema\":\n",
    "        print(\"I got seema\")\n",
    "    elif i==\"pooja\":\n",
    "        for j in range(3):\n",
    "            a1=int(input(\"Enter the value :\"))\n",
    "            b1=int(input(\"Enter the value :\"))\n",
    "            c=a1+b1\n",
    "            print(c)\n",
    "        "
   ]
  },
  {
   "cell_type": "code",
   "execution_count": 12,
   "metadata": {},
   "outputs": [
    {
     "name": "stdout",
     "output_type": "stream",
     "text": [
      "['it']\n"
     ]
    }
   ],
   "source": [
    "name=\"Racksonsit Developers\"\n",
    "s=name[8:10]\n",
    "s\n",
    "a=[]\n",
    "a.append(s)\n",
    "print(a)"
   ]
  },
  {
   "cell_type": "code",
   "execution_count": 4,
   "metadata": {},
   "outputs": [
    {
     "name": "stdout",
     "output_type": "stream",
     "text": [
      "Enter the value :45\n",
      "Enter the value :9\n",
      "54\n"
     ]
    }
   ],
   "source": [
    "def happy(p3,p4):\n",
    "    print(p3+p4)\n",
    "    \n",
    "p3=int(input(\"Enter the value :\"))\n",
    "p4=int(input(\"Enter the value :\"))\n",
    "happy(p3,p4)"
   ]
  },
  {
   "cell_type": "code",
   "execution_count": null,
   "metadata": {},
   "outputs": [],
   "source": []
  }
 ],
 "metadata": {
  "kernelspec": {
   "display_name": "Python 3 (ipykernel)",
   "language": "python",
   "name": "python3"
  },
  "language_info": {
   "codemirror_mode": {
    "name": "ipython",
    "version": 3
   },
   "file_extension": ".py",
   "mimetype": "text/x-python",
   "name": "python",
   "nbconvert_exporter": "python",
   "pygments_lexer": "ipython3",
   "version": "3.9.7"
  }
 },
 "nbformat": 4,
 "nbformat_minor": 4
}
