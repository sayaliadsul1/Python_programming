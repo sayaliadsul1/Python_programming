{
 "cells": [
  {
   "cell_type": "code",
   "execution_count": 2,
   "id": "c3a39a1f",
   "metadata": {},
   "outputs": [
    {
     "name": "stdout",
     "output_type": "stream",
     "text": [
      "Enter the value : 5\n",
      "I am Best...\n",
      "I am Best...\n",
      "I am Best...\n",
      "I am Best...\n",
      "I am Best...\n"
     ]
    }
   ],
   "source": [
    "a=int(input(\"Enter the value : \"))\n",
    "for x in range(a):\n",
    "    print(\"I am Best...\")"
   ]
  },
  {
   "cell_type": "code",
   "execution_count": 3,
   "id": "768644b3",
   "metadata": {},
   "outputs": [
    {
     "name": "stdout",
     "output_type": "stream",
     "text": [
      "I am Best...\n",
      "I am Best...\n",
      "I am Best...\n",
      "I am Best...\n",
      "I am Best...\n",
      "I am Best...\n"
     ]
    }
   ],
   "source": [
    "for i in \"Sayali\":\n",
    "    print(\"I am Best...\")"
   ]
  },
  {
   "cell_type": "code",
   "execution_count": 4,
   "id": "005b1c53",
   "metadata": {},
   "outputs": [
    {
     "name": "stdout",
     "output_type": "stream",
     "text": [
      "1\n",
      "2\n",
      "3\n",
      "4\n",
      "5\n"
     ]
    }
   ],
   "source": [
    "for i in range(1,6):\n",
    "    print(i)\n",
    "    "
   ]
  },
  {
   "cell_type": "code",
   "execution_count": 5,
   "id": "39dcb5a2",
   "metadata": {},
   "outputs": [
    {
     "name": "stdout",
     "output_type": "stream",
     "text": [
      "sagar\n",
      "rahul\n",
      "amit\n",
      "Geet\n",
      "manjeet\n",
      "giri\n"
     ]
    }
   ],
   "source": [
    "ab=[\"sagar\",\"rahul\",\"amit\",\"Geet\",\"manjeet\",\"giri\"]\n",
    "for x in ab:\n",
    "    print(x)"
   ]
  },
  {
   "cell_type": "code",
   "execution_count": 6,
   "id": "91d55993",
   "metadata": {},
   "outputs": [
    {
     "name": "stdout",
     "output_type": "stream",
     "text": [
      "I am not Geet\n",
      "I am not Geet\n",
      "I am not Geet\n",
      "I am Geet\n",
      "I am not Geet\n",
      "I am not Geet\n"
     ]
    }
   ],
   "source": [
    "ab=[\"sagar\",\"rahul\",\"amit\",\"Geet\",\"manjeet\",\"giri\"]\n",
    "for x in ab:\n",
    "    if x==\"Geet\":\n",
    "        print(\"I am Geet\")\n",
    "    else:\n",
    "        print(\"I am not Geet\")\n",
    "        "
   ]
  },
  {
   "cell_type": "code",
   "execution_count": 7,
   "id": "093e8b83",
   "metadata": {},
   "outputs": [
    {
     "name": "stdout",
     "output_type": "stream",
     "text": [
      "This is ab's value.... sagar\n",
      "I am Not\n",
      "I am Not\n",
      "This is ab's value.... Geet\n",
      "I am Not\n",
      "I am Not\n"
     ]
    }
   ],
   "source": [
    "ab1=[\"sagar\",\"rahul1\",\"amit1\",\"Geet\",\"manjeet1\",\"giri1\"]\n",
    "ab=[\"sagar\",\"rahul\",\"amit\",\"Geet\",\"manjeet\",\"giri\"]\n",
    "for x1 in ab1:\n",
    "    if x1 in ab:\n",
    "        print(\"This is ab's value....\",x1)\n",
    "    else:\n",
    "        print(\"I am Not\")"
   ]
  },
  {
   "cell_type": "code",
   "execution_count": 8,
   "id": "17ef3429",
   "metadata": {},
   "outputs": [
    {
     "name": "stdout",
     "output_type": "stream",
     "text": [
      "This is ab's value.... sagar\n",
      "These are Girls seema\n",
      "These are Girls pooja\n",
      "This is ab's value.... Geet\n"
     ]
    }
   ],
   "source": [
    "ab1=[\"sagar\",\"rahul1\",\"seema\",\"pooja\",\"amit1\",\"Geet\",\"manjeet1\",\"giri1\"]\n",
    "ab=[\"sagar\",\"rahul\",\"amit\",\"Geet\",\"manjeet\",\"giri\"]\n",
    "bc=[\"seema\",\"pooja\"]\n",
    "for x1 in ab1:\n",
    "    if x1 in ab:\n",
    "        print(\"This is ab's value....\",x1)\n",
    "    elif x1 in bc:\n",
    "        print(\"These are Girls\",x1)\n"
   ]
  },
  {
   "cell_type": "code",
   "execution_count": null,
   "id": "c5ea7988",
   "metadata": {},
   "outputs": [],
   "source": []
  }
 ],
 "metadata": {
  "kernelspec": {
   "display_name": "Python 3 (ipykernel)",
   "language": "python",
   "name": "python3"
  },
  "language_info": {
   "codemirror_mode": {
    "name": "ipython",
    "version": 3
   },
   "file_extension": ".py",
   "mimetype": "text/x-python",
   "name": "python",
   "nbconvert_exporter": "python",
   "pygments_lexer": "ipython3",
   "version": "3.9.7"
  }
 },
 "nbformat": 4,
 "nbformat_minor": 5
}
