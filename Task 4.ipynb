{
 "cells": [
  {
   "cell_type": "code",
   "execution_count": null,
   "id": "bd50c942",
   "metadata": {},
   "outputs": [],
   "source": [
    "# write down the code print 10 numbers"
   ]
  },
  {
   "cell_type": "code",
   "execution_count": 4,
   "id": "ebae3032",
   "metadata": {},
   "outputs": [
    {
     "name": "stdout",
     "output_type": "stream",
     "text": [
      "0\n",
      "1\n",
      "2\n",
      "3\n",
      "4\n",
      "5\n",
      "6\n",
      "7\n",
      "8\n",
      "9\n"
     ]
    }
   ],
   "source": [
    "for i in range(10):\n",
    "    print(i)"
   ]
  },
  {
   "cell_type": "code",
   "execution_count": 1,
   "id": "cea460ed",
   "metadata": {},
   "outputs": [
    {
     "name": "stdout",
     "output_type": "stream",
     "text": [
      "Enter the 1st value : 45\n",
      "Enter the 2nd value : 20\n",
      "65\n"
     ]
    }
   ],
   "source": [
    "a=int(input(\"Enter the 1st value : \"))\n",
    "b=int(input(\"Enter the 2nd value : \"))\n",
    "c=a+b\n",
    "print(c)\n"
   ]
  },
  {
   "cell_type": "code",
   "execution_count": 2,
   "id": "8843af6b",
   "metadata": {},
   "outputs": [
    {
     "name": "stdout",
     "output_type": "stream",
     "text": [
      "Enter the 1st value : 45\n",
      "Enter the 2nd value : 56\n",
      "Addition of  101\n",
      "Enter the 1st value : 78\n",
      "Enter the 2nd value : 98\n",
      "Addition of  176\n",
      "Enter the 1st value : 47\n",
      "Enter the 2nd value : 74\n",
      "Addition of  121\n"
     ]
    }
   ],
   "source": [
    "for i in range(3):\n",
    "    a=int(input(\"Enter the 1st value : \"))\n",
    "    b=int(input(\"Enter the 2nd value : \"))\n",
    "    c=a+b\n",
    "    print(\"Addition of \",c)\n",
    "    \n",
    "    "
   ]
  },
  {
   "cell_type": "code",
   "execution_count": 5,
   "id": "5d78d5b7",
   "metadata": {},
   "outputs": [
    {
     "name": "stdout",
     "output_type": "stream",
     "text": [
      "Enter the 1st value : 50\n",
      "Enter the 2nd value : 30\n",
      "values are True\n"
     ]
    }
   ],
   "source": [
    "\n",
    "a=int(input(\"Enter the 1st value : \"))\n",
    "b=int(input(\"Enter the 2nd value : \"))\n",
    "if a==50 and b==30:\n",
    "    print(\"values are True\")\n",
    "else:\n",
    "    print(\"values are False\")\n",
    "    \n"
   ]
  },
  {
   "cell_type": "code",
   "execution_count": 11,
   "id": "2ef1fc1c",
   "metadata": {},
   "outputs": [
    {
     "name": "stdout",
     "output_type": "stream",
     "text": [
      "Enter the 1st value : 7\n",
      "Enter the 2nd value : 9\n",
      "0\n",
      "1\n",
      "2\n",
      "3\n",
      "4\n",
      "5\n",
      "6\n",
      "7\n",
      "8\n",
      "9\n",
      "10\n",
      "11\n",
      "12\n",
      "13\n",
      "14\n",
      "15\n"
     ]
    }
   ],
   "source": [
    "def add(a,b):\n",
    "    c=a+b\n",
    "    return c\n",
    "def add1():\n",
    "    ab=add(a,b)\n",
    "    for i in range(ab):\n",
    "        print(i)\n",
    "a=int(input(\"Enter the 1st value : \"))\n",
    "b=int(input(\"Enter the 2nd value : \"))\n",
    "add1()"
   ]
  },
  {
   "cell_type": "code",
   "execution_count": 3,
   "id": "c4876ba6",
   "metadata": {},
   "outputs": [
    {
     "name": "stdout",
     "output_type": "stream",
     "text": [
      "Enter the marks : 45\n",
      "45\n",
      "Enter the marks : 65\n",
      "65\n",
      "Enter the marks : 78\n",
      "78\n",
      "Enter the marks : 98\n",
      "98\n",
      "Enter the marks : 77\n",
      "77\n"
     ]
    }
   ],
   "source": [
    "def info():\n",
    "    name=[\"sayali\",\"seema\",\"pooja\",\"asfiya\",\"ankita\"]\n",
    "    for i in name:\n",
    "        if i==\"pooja\":\n",
    "            j=len(i)\n",
    "            return name\n",
    "def add():\n",
    "    ab=info()\n",
    "    for j in ab:\n",
    "        if j==\"pooja\":\n",
    "            for i in ab:\n",
    "                marks=int(input(\"Enter the marks : \"))\n",
    "                print(marks)\n",
    "    \n",
    "add()   "
   ]
  }
 ],
 "metadata": {
  "kernelspec": {
   "display_name": "Python 3 (ipykernel)",
   "language": "python",
   "name": "python3"
  },
  "language_info": {
   "codemirror_mode": {
    "name": "ipython",
    "version": 3
   },
   "file_extension": ".py",
   "mimetype": "text/x-python",
   "name": "python",
   "nbconvert_exporter": "python",
   "pygments_lexer": "ipython3",
   "version": "3.9.7"
  }
 },
 "nbformat": 4,
 "nbformat_minor": 5
}
