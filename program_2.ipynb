{
 "cells": [
  {
   "cell_type": "code",
   "execution_count": 3,
   "id": "1ec19d8c",
   "metadata": {},
   "outputs": [],
   "source": [
    "def data():\n",
    "    for i in range(5):\n",
    "        print(\"I am sayali...\")"
   ]
  },
  {
   "cell_type": "code",
   "execution_count": 4,
   "id": "af09ab55",
   "metadata": {},
   "outputs": [
    {
     "name": "stdout",
     "output_type": "stream",
     "text": [
      "I am sayali...\n",
      "I am sayali...\n",
      "I am sayali...\n",
      "I am sayali...\n",
      "I am sayali...\n"
     ]
    }
   ],
   "source": [
    "data()"
   ]
  },
  {
   "cell_type": "code",
   "execution_count": 12,
   "id": "6b59d46c",
   "metadata": {},
   "outputs": [],
   "source": [
    "n=[]\n",
    "def school():\n",
    "    for i in range(3):\n",
    "        name=input(\"Enter the name : \")\n",
    "        n.append(name)\n",
    "    return n"
   ]
  },
  {
   "cell_type": "code",
   "execution_count": 13,
   "id": "1de0360a",
   "metadata": {},
   "outputs": [
    {
     "name": "stdout",
     "output_type": "stream",
     "text": [
      "Enter the name : seema\n",
      "Enter the name : sayali\n",
      "Enter the name : asfiya\n"
     ]
    }
   ],
   "source": [
    "sh=school()"
   ]
  },
  {
   "cell_type": "code",
   "execution_count": 16,
   "id": "3adfa335",
   "metadata": {},
   "outputs": [
    {
     "name": "stdout",
     "output_type": "stream",
     "text": [
      "seema\n",
      "sayali\n",
      "asfiya\n"
     ]
    }
   ],
   "source": [
    "for x in sh:\n",
    "    print(x)"
   ]
  },
  {
   "cell_type": "code",
   "execution_count": 2,
   "id": "dd063ffc",
   "metadata": {},
   "outputs": [
    {
     "name": "stdout",
     "output_type": "stream",
     "text": [
      "Enter the loop count : 2\n",
      "Enter the name : ankita\n",
      "Enter the number : 123\n",
      "---------------------------------------\n",
      "Enter the name : sayali\n",
      "Enter the number : 456\n",
      "---------------------------------------\n",
      "[123, 456]\n",
      "Enter the city : sangli\n",
      "['sangli']\n",
      "SORRY.....\n"
     ]
    }
   ],
   "source": [
    "\n",
    "city_name=[]\n",
    "def details():\n",
    "    name1=[]\n",
    "    num1=[]\n",
    "    #marks=[]\n",
    "    #city_name=[]\n",
    "    n=int(input(\"Enter the loop count : \"))\n",
    "    for i in range(n):\n",
    "        name=input(\"Enter the name : \")\n",
    "        num=int(input(\"Enter the number : \"))\n",
    "        print(\"---------------------------------------\")\n",
    "        name1.append(name)\n",
    "        num1.append(num)\n",
    "    #print(name1)\n",
    "    print(num1)\n",
    "    return name1\n",
    "\n",
    "def Name():\n",
    "    ab=details()\n",
    "    \n",
    "    marks=[]\n",
    "    for x in ab:\n",
    "        if x==\"seema\":\n",
    "            for x1 in range(5):\n",
    "                mark=int(input(\"Enter the marks : \"))\n",
    "                marks.append(mark)\n",
    "            print(marks)\n",
    "        elif x==\"ankita\":\n",
    "            city=input(\"Enter the city : \")\n",
    "            city_name.append(city)\n",
    "            print(city_name)\n",
    "        return city_name\n",
    "def data():\n",
    "    ab1=Name()\n",
    "    for y in ab1:\n",
    "        if y==\"baramati\":\n",
    "            print(\"Hii! welcome to Baramati...\")\n",
    "        else:\n",
    "            print(\"SORRY.....\")\n",
    "        \n",
    "data()\n",
    "        "
   ]
  },
  {
   "cell_type": "markdown",
   "id": "22d58c17",
   "metadata": {},
   "source": [
    "# class"
   ]
  },
  {
   "cell_type": "code",
   "execution_count": 2,
   "id": "f0a15fc6",
   "metadata": {},
   "outputs": [
    {
     "name": "stdout",
     "output_type": "stream",
     "text": [
      "Enter the 1st Number : 1\n",
      "Enter the 2nd  Number : 3\n",
      "4\n",
      "Enter the Name : seema\n",
      "Enter the Number : 1\n",
      "Enter the Name : pooja\n",
      "Enter the Number : 2\n",
      "Enter the Name : sayali\n",
      "Enter the Number : 3\n",
      "Enter the Name : asfiya\n",
      "Enter the Number : 4\n",
      "My name list is... ['seema', 'pooja', 'sayali', 'asfiya']\n",
      "My number list is... [1, 2, 3, 4]\n"
     ]
    }
   ],
   "source": [
    "class data:\n",
    "    def school(self,a,b):\n",
    "        self.a=a\n",
    "        self.b=b\n",
    "        print(self.a+self.b)\n",
    "    def details(self):\n",
    "        name=[]\n",
    "        number=[]\n",
    "        for i in range(self.a+self.b):\n",
    "            n=input(\"Enter the Name : \")\n",
    "            num=int(input(\"Enter the Number : \"))\n",
    "            name.append(n)\n",
    "            number.append(num)\n",
    "        print(\"My name list is...\",name)\n",
    "        print(\"My number list is...\",number)\n",
    "\n",
    "#             prin()\n",
    "#     def show(self):\n",
    "#             print(\"My name is...\",self.name)\n",
    "#             print(\"My number is...\",sels.num)\n",
    "\n",
    "a=int(input(\"Enter the 1st Number : \"))\n",
    "b=int(input(\"Enter the 2nd  Number : \"))\n",
    "obj=data()\n",
    "obj.school(a,b)\n",
    "obj.details()\n",
    "# obj.show()\n",
    "            \n",
    "            \n",
    "            \n",
    "            \n",
    "        \n",
    "        \n",
    "        "
   ]
  },
  {
   "cell_type": "code",
   "execution_count": 18,
   "id": "b5fd98fa",
   "metadata": {},
   "outputs": [
    {
     "name": "stdout",
     "output_type": "stream",
     "text": [
      "{'nikita', 'seema', 'asfiya', 'pooja', 'sayali'}\n",
      "{'girish', 'akshay', 'abhi', 'sagar', 'amar'}\n"
     ]
    }
   ],
   "source": [
    "name_list=[\"sayali\",\"akshay\",\"seema\",\"amar\",\"pooja\",\"abhi\",\"asfiya\",\"girish\",\"nikita\",\"sagar\"]\n",
    "girls=[\"sayali\",\"seema\",\"pooja\",\"asfiya\",\"nikita\"]\n",
    "boys=[\"akshay\",\"amar\",\"abhi\",\"girish\",\"sagar\"]\n",
    "baramati=set()\n",
    "pune=set()\n",
    "for i in name_list:\n",
    "    for g in girls:\n",
    "        if i==g:\n",
    "            baramati.add(g)\n",
    "    for b in boys:\n",
    "        if i==b:\n",
    "            pune.add(b)\n",
    "        \n",
    "print(baramati)\n",
    "print(pune)\n",
    "            \n"
   ]
  },
  {
   "cell_type": "code",
   "execution_count": null,
   "id": "7fe4703c",
   "metadata": {},
   "outputs": [],
   "source": []
  },
  {
   "cell_type": "code",
   "execution_count": null,
   "id": "2e983f05",
   "metadata": {},
   "outputs": [],
   "source": []
  },
  {
   "cell_type": "code",
   "execution_count": null,
   "id": "37ce78b1",
   "metadata": {},
   "outputs": [],
   "source": []
  },
  {
   "cell_type": "code",
   "execution_count": null,
   "id": "ab00af81",
   "metadata": {},
   "outputs": [],
   "source": []
  },
  {
   "cell_type": "code",
   "execution_count": null,
   "id": "0465e3eb",
   "metadata": {},
   "outputs": [],
   "source": []
  }
 ],
 "metadata": {
  "kernelspec": {
   "display_name": "Python 3 (ipykernel)",
   "language": "python",
   "name": "python3"
  },
  "language_info": {
   "codemirror_mode": {
    "name": "ipython",
    "version": 3
   },
   "file_extension": ".py",
   "mimetype": "text/x-python",
   "name": "python",
   "nbconvert_exporter": "python",
   "pygments_lexer": "ipython3",
   "version": "3.9.7"
  }
 },
 "nbformat": 4,
 "nbformat_minor": 5
}
