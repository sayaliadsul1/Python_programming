{
 "cells": [
  {
   "cell_type": "code",
   "execution_count": 1,
   "id": "093a87bf",
   "metadata": {},
   "outputs": [],
   "source": [
    "#1)function without argument and without return "
   ]
  },
  {
   "cell_type": "code",
   "execution_count": 2,
   "id": "e88ce9fa",
   "metadata": {},
   "outputs": [
    {
     "name": "stdout",
     "output_type": "stream",
     "text": [
      "30\n"
     ]
    }
   ],
   "source": [
    "def add():\n",
    "    a=10\n",
    "    b=20\n",
    "    print(a+b)\n",
    "add()"
   ]
  },
  {
   "cell_type": "code",
   "execution_count": 3,
   "id": "4ccb6070",
   "metadata": {},
   "outputs": [
    {
     "name": "stdout",
     "output_type": "stream",
     "text": [
      "enter a number:56\n",
      "enter a number:63\n",
      "119\n"
     ]
    }
   ],
   "source": [
    "def stud():\n",
    "    a=int(input(\"enter a number:\"))\n",
    "    b=int(input(\"enter a number:\"))\n",
    "    print(a+b)\n",
    "stud()"
   ]
  },
  {
   "cell_type": "code",
   "execution_count": 4,
   "id": "8e030df2",
   "metadata": {},
   "outputs": [],
   "source": [
    "#2)function with argument and with return "
   ]
  },
  {
   "cell_type": "code",
   "execution_count": 5,
   "id": "d9759f57",
   "metadata": {},
   "outputs": [
    {
     "data": {
      "text/plain": [
       "30"
      ]
     },
     "execution_count": 5,
     "metadata": {},
     "output_type": "execute_result"
    }
   ],
   "source": [
    "def stud(a,b):\n",
    "        return a+b\n",
    "obj=stud(10,20)\n",
    "obj"
   ]
  },
  {
   "cell_type": "code",
   "execution_count": 6,
   "id": "3aadda92",
   "metadata": {},
   "outputs": [
    {
     "name": "stdout",
     "output_type": "stream",
     "text": [
      "enter a number:58\n",
      "enter a number:89\n"
     ]
    },
    {
     "data": {
      "text/plain": [
       "147"
      ]
     },
     "execution_count": 6,
     "metadata": {},
     "output_type": "execute_result"
    }
   ],
   "source": [
    "def stud(a,b):\n",
    "    return a+b\n",
    "a=int(input(\"enter a number:\"))\n",
    "b=int(input(\"enter a number:\"))\n",
    "stud(a,b)"
   ]
  },
  {
   "cell_type": "code",
   "execution_count": 7,
   "id": "031f295f",
   "metadata": {},
   "outputs": [
    {
     "data": {
      "text/plain": [
       "150"
      ]
     },
     "execution_count": 7,
     "metadata": {},
     "output_type": "execute_result"
    }
   ],
   "source": [
    "def sad(a,b):\n",
    "    c=a*b\n",
    "    return c\n",
    "sad(25,6)"
   ]
  },
  {
   "cell_type": "code",
   "execution_count": 8,
   "id": "f4c722c2",
   "metadata": {},
   "outputs": [
    {
     "data": {
      "text/plain": [
       "30"
      ]
     },
     "execution_count": 8,
     "metadata": {},
     "output_type": "execute_result"
    }
   ],
   "source": [
    "def ad(a=10,b=20):\n",
    "    c=a+b\n",
    "    return c\n",
    "ad(a=10,b=20)"
   ]
  },
  {
   "cell_type": "code",
   "execution_count": 9,
   "id": "e4268c1a",
   "metadata": {},
   "outputs": [],
   "source": [
    "#3)function without argument and with return "
   ]
  },
  {
   "cell_type": "code",
   "execution_count": 10,
   "id": "c661379b",
   "metadata": {},
   "outputs": [
    {
     "data": {
      "text/plain": [
       "30"
      ]
     },
     "execution_count": 10,
     "metadata": {},
     "output_type": "execute_result"
    }
   ],
   "source": [
    "def stud():\n",
    "    a=10\n",
    "    b=20\n",
    "    c=a+b\n",
    "    return c\n",
    "ab=stud()\n",
    "ab"
   ]
  },
  {
   "cell_type": "code",
   "execution_count": 11,
   "id": "ccc3c2fd",
   "metadata": {},
   "outputs": [
    {
     "name": "stdout",
     "output_type": "stream",
     "text": [
      "enter a number:89\n",
      "enter a number:45\n"
     ]
    },
    {
     "data": {
      "text/plain": [
       "134"
      ]
     },
     "execution_count": 11,
     "metadata": {},
     "output_type": "execute_result"
    }
   ],
   "source": [
    "def stud():\n",
    "    a=int(input(\"enter a number:\"))\n",
    "    b=int(input(\"enter a number:\"))\n",
    "    c=a+b\n",
    "    return c\n",
    "ab=stud()\n",
    "ab"
   ]
  },
  {
   "cell_type": "code",
   "execution_count": 12,
   "id": "e3a70a9c",
   "metadata": {},
   "outputs": [],
   "source": [
    "#4)function with argument and without return "
   ]
  },
  {
   "cell_type": "code",
   "execution_count": 13,
   "id": "238d2aef",
   "metadata": {},
   "outputs": [
    {
     "name": "stdout",
     "output_type": "stream",
     "text": [
      "50\n"
     ]
    }
   ],
   "source": [
    "def add(a,b):\n",
    "    print(a+b)\n",
    "add(20,30)"
   ]
  },
  {
   "cell_type": "code",
   "execution_count": 17,
   "id": "d20c5dd4",
   "metadata": {},
   "outputs": [
    {
     "name": "stdout",
     "output_type": "stream",
     "text": [
      "enter a number:78\n",
      "enter a number:96\n",
      "174\n"
     ]
    }
   ],
   "source": [
    "def stud(a,b):\n",
    "    print(a+b)\n",
    "a=int(input(\"enter a number:\"))\n",
    "b=int(input(\"enter a number:\"))\n",
    "stud(a,b)"
   ]
  },
  {
   "cell_type": "code",
   "execution_count": 18,
   "id": "1593c5d2",
   "metadata": {},
   "outputs": [
    {
     "name": "stdout",
     "output_type": "stream",
     "text": [
      "apple\n",
      "banana\n",
      "cherry\n",
      "mango\n"
     ]
    }
   ],
   "source": [
    "def my_function(food):\n",
    "    for i in food:\n",
    "        print(i)\n",
    "fruits=[\"apple\",\"banana\",\"cherry\",\"mango\"]\n",
    "my_function(fruits)\n"
   ]
  },
  {
   "cell_type": "code",
   "execution_count": null,
   "id": "f69f097d",
   "metadata": {},
   "outputs": [],
   "source": [
    "\n"
   ]
  }
 ],
 "metadata": {
  "kernelspec": {
   "display_name": "Python 3 (ipykernel)",
   "language": "python",
   "name": "python3"
  },
  "language_info": {
   "codemirror_mode": {
    "name": "ipython",
    "version": 3
   },
   "file_extension": ".py",
   "mimetype": "text/x-python",
   "name": "python",
   "nbconvert_exporter": "python",
   "pygments_lexer": "ipython3",
   "version": "3.9.7"
  }
 },
 "nbformat": 4,
 "nbformat_minor": 5
}
