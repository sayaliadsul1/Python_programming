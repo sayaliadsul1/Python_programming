{
 "cells": [
  {
   "cell_type": "code",
   "execution_count": 3,
   "id": "08d518fd",
   "metadata": {},
   "outputs": [
    {
     "name": "stdout",
     "output_type": "stream",
     "text": [
      "60\n"
     ]
    }
   ],
   "source": [
    "class laptop:\n",
    "    def mouse(self):\n",
    "        self.n1=20\n",
    "        self.n2=40\n",
    "        print(self.n1+self.n2)\n",
    "\n",
    "lap=laptop()\n",
    "lap.mouse()\n"
   ]
  },
  {
   "cell_type": "code",
   "execution_count": 2,
   "id": "0025bf82",
   "metadata": {},
   "outputs": [
    {
     "name": "stdout",
     "output_type": "stream",
     "text": [
      "Add Numbers : 45\n",
      "Add Numbers : 78\n",
      "Add Numbers : 98\n",
      "Add Numbers : 65\n",
      "Add Numbers : 77\n",
      "This is My Marks:  [45, 78, 98, 65, 77]\n",
      "My total Marks 363 My Percentage is:  72.6\n"
     ]
    }
   ],
   "source": [
    "class laptop:\n",
    "\n",
    "    def mouse(self):\n",
    "        self.n1=20\n",
    "        self.n2=40\n",
    "        self.n=5\n",
    "        print(self.n1+self.n2)\n",
    "    def screen(self):\n",
    "        marks=[]\n",
    "        for x in range(self.n):\n",
    "            ab=int(input(\"Add Numbers : \"))\n",
    "            marks.append(ab)\n",
    "        print(\"This is My Marks: \",marks)\n",
    "        total=sum(marks)\n",
    "        avg=total/len(marks)\n",
    "        print(\"My total Marks\",total,\"My Percentage is: \",avg)\n",
    "\n",
    "\n",
    "lap=laptop()\n",
    "lap.mouse()\n",
    "lap.screen()"
   ]
  },
  {
   "cell_type": "code",
   "execution_count": 4,
   "id": "973e3620",
   "metadata": {},
   "outputs": [
    {
     "name": "stdout",
     "output_type": "stream",
     "text": [
      "Sneha 90\n"
     ]
    }
   ],
   "source": [
    "class Mobile:\n",
    "    def mouse(self,name,num):\n",
    "        self.name=name\n",
    "        self.num=num\n",
    "    def show(self):\n",
    "        print(self.name,self.num)\n",
    "\n",
    "n1=Mobile()\n",
    "n1.mouse(\"Sneha\",90)\n",
    "n1.show()"
   ]
  },
  {
   "cell_type": "code",
   "execution_count": 10,
   "id": "a210a2df",
   "metadata": {},
   "outputs": [
    {
     "name": "stdout",
     "output_type": "stream",
     "text": [
      "Enter the Name: sayali\n",
      "Enter the Number: 123\n",
      "sayali 123\n",
      "45\n",
      "my name is: sayali My Marks are:  [0, 1, 2, 3, 4, 5, 6, 7, 8, 9]\n"
     ]
    }
   ],
   "source": [
    "class School:\n",
    "    global ab\n",
    "    ab=list()\n",
    "\n",
    "    def __init__(self,name,num):\n",
    "        self.name=name\n",
    "        self.num=num\n",
    "    def show(self):\n",
    "        print(self.name,self.num)\n",
    "        for x in range(10):\n",
    "            ab.append(x)\n",
    "            total=sum(ab)\n",
    "        print(total)\n",
    "        return ab\n",
    "    def avgs(self,ab1):\n",
    "        print(\"my name is:\",self.name,\"My Marks are: \",ab1)\n",
    "name=input(\"Enter the Name: \")\n",
    "num=int(input(\"Enter the Number: \"))\n",
    "n2=School(name,num)\n",
    "ab1=n2.show()\n",
    "n2.avgs(ab1)\n"
   ]
  }
 ],
 "metadata": {
  "kernelspec": {
   "display_name": "Python 3 (ipykernel)",
   "language": "python",
   "name": "python3"
  },
  "language_info": {
   "codemirror_mode": {
    "name": "ipython",
    "version": 3
   },
   "file_extension": ".py",
   "mimetype": "text/x-python",
   "name": "python",
   "nbconvert_exporter": "python",
   "pygments_lexer": "ipython3",
   "version": "3.9.7"
  }
 },
 "nbformat": 4,
 "nbformat_minor": 5
}
