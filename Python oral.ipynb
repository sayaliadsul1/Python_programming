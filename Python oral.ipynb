{
 "cells": [
  {
   "cell_type": "code",
   "execution_count": 1,
   "id": "3ccaa1b2",
   "metadata": {},
   "outputs": [
    {
     "name": "stdout",
     "output_type": "stream",
     "text": [
      "Enter the marks: 45\n",
      "Enter the marks: 96\n",
      "Enter the marks: 78\n",
      "Total: 219\n",
      "Average: 73.0\n",
      "----------------------------------------------------\n",
      "Enter the marks: 96\n",
      "Enter the marks: 14\n",
      "Enter the marks: 52\n",
      "Total: 381\n",
      "Average: 127.0\n",
      "----------------------------------------------------\n",
      "Enter the marks: 63\n",
      "Enter the marks: 78\n",
      "Enter the marks: 98\n",
      "Total: 620\n",
      "Average: 206.66666666666666\n",
      "----------------------------------------------------\n",
      "Enter the marks: 45\n",
      "Enter the marks: 65\n",
      "Enter the marks: 78\n",
      "Total: 808\n",
      "Average: 269.3333333333333\n",
      "----------------------------------------------------\n",
      "Enter the marks: 96\n",
      "Enter the marks: 41\n",
      "Enter the marks: 52\n",
      "Total: 997\n",
      "Average: 332.3333333333333\n",
      "----------------------------------------------------\n"
     ]
    }
   ],
   "source": [
    "s=[\"sayali\",\"pooja\",\"kajal\",\"niki\",\"renu\"]\n",
    "a=[]\n",
    "for i in s:\n",
    "    for j in range(3):\n",
    "        sub=int(input(\"Enter the marks: \"))\n",
    "        a.append(sub)\n",
    "        total=sum(a)\n",
    "        avg=total/3\n",
    "    print(\"Total:\",total)\n",
    "    print(\"Average:\",avg)\n",
    "    print(\"----------------------------------------------------\")\n",
    "\n"
   ]
  },
  {
   "cell_type": "code",
   "execution_count": null,
   "id": "53d66921",
   "metadata": {},
   "outputs": [
    {
     "name": "stdout",
     "output_type": "stream",
     "text": [
      "Enter the Place:goa\n",
      "Enter the Place:mahableshwar\n",
      "Enter the Place:lonavala\n",
      "Enter the Place:khandala\n",
      "['goa', 'mahableshwar', 'lonavala', 'khandala']\n",
      "['goa', 'mahableshwar', 'lonavala', 'khandala']\n",
      "['goa', 'mahableshwar', 'lonavala', 'khandala']\n",
      "---------------------------------------------\n",
      "Enter the Place:jejuri\n",
      "Enter the Place:kolhapur\n",
      "Enter the Place:baramati\n",
      "['goa', 'mahableshwar', 'lonavala', 'khandala', 'jejuri', 'kolhapur', 'baramati']\n",
      "['goa', 'mahableshwar', 'lonavala', 'khandala', 'jejuri', 'kolhapur', 'baramati']\n",
      "['goa', 'mahableshwar', 'lonavala', 'khandala', 'jejuri', 'kolhapur', 'baramati']\n",
      "---------------------------------------------\n",
      "Enter the Place:dubai\n",
      "Enter the Place:paris\n",
      "Enter the Place:america\n"
     ]
    }
   ],
   "source": [
    "city=[\"Pune\",\"goa\",\"Karad\"]\n",
    "p=[]\n",
    "g=[]\n",
    "k=[]\n",
    "for i in city:\n",
    "    j=len(i)\n",
    "    for x in range(j):\n",
    "        place=input(\"Enter the Place:\")\n",
    "        p.append(place)\n",
    "        g.append(place)\n",
    "        k.append(place)\n",
    "    print(p)\n",
    "    print(g)\n",
    "    print(k)\n",
    "        \n",
    "    print(\"---------------------------------------------\")\n",
    "\n",
    "    "
   ]
  },
  {
   "cell_type": "code",
   "execution_count": 3,
   "id": "6f4e51aa",
   "metadata": {},
   "outputs": [
    {
     "name": "stdout",
     "output_type": "stream",
     "text": [
      "Enter the marks: 78\n",
      "Enter the marks: 98\n",
      "Enter the marks: 74\n",
      "[250]\n",
      "Enter the marks: 85\n",
      "Enter the marks: 96\n",
      "Enter the marks: 14\n",
      "[250, 445]\n",
      "Enter the marks: 52\n",
      "Enter the marks: 36\n",
      "Enter the marks: 78\n",
      "[250, 445, 611]\n",
      "Enter the marks: 85\n",
      "Enter the marks: 33\n",
      "Enter the marks: 77\n",
      "[250, 445, 611, 806]\n",
      "Even:  325\n",
      "odd:  420\n",
      "odd:  586\n",
      "Even:  881\n"
     ]
    }
   ],
   "source": [
    "s=[\"sayali\",\"pooja\",\"kajal\",\"niki\"]\n",
    "a=[]\n",
    "even_odd=[]\n",
    "for i in s:\n",
    "    for j in range(3):\n",
    "        sub=int(input(\"Enter the marks: \"))\n",
    "        a.append(sub)\n",
    "        total=sum(a)\n",
    "    even_odd.append(total)\n",
    "    print(even_odd)\n",
    "for x in even_odd:\n",
    "    if x%2==0:\n",
    "        j=x+75\n",
    "        print(\"Even: \",j)\n",
    "    else:\n",
    "        z=x-25\n",
    "        print(\"odd: \",z)"
   ]
  },
  {
   "cell_type": "code",
   "execution_count": null,
   "id": "8823234d",
   "metadata": {},
   "outputs": [],
   "source": []
  }
 ],
 "metadata": {
  "kernelspec": {
   "display_name": "Python 3 (ipykernel)",
   "language": "python",
   "name": "python3"
  },
  "language_info": {
   "codemirror_mode": {
    "name": "ipython",
    "version": 3
   },
   "file_extension": ".py",
   "mimetype": "text/x-python",
   "name": "python",
   "nbconvert_exporter": "python",
   "pygments_lexer": "ipython3",
   "version": "3.9.12"
  }
 },
 "nbformat": 4,
 "nbformat_minor": 5
}
