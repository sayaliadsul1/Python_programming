{
 "cells": [
  {
   "cell_type": "code",
   "execution_count": 1,
   "id": "d1f3fb48",
   "metadata": {},
   "outputs": [
    {
     "name": "stdout",
     "output_type": "stream",
     "text": [
      "Hi welcome to class...\n",
      "102\n"
     ]
    }
   ],
   "source": [
    "class school:\n",
    "    print(\"Hi welcome to class...\")\n",
    "    No_Id=102\n",
    "obj=school()\n",
    "print(obj.No_Id)"
   ]
  },
  {
   "cell_type": "code",
   "execution_count": 2,
   "id": "bbd24bca",
   "metadata": {},
   "outputs": [
    {
     "name": "stdout",
     "output_type": "stream",
     "text": [
      "Enter the name: sayali\n",
      "Enter the Number: 123\n",
      "My Name is:  sayali My Number is :  123\n"
     ]
    }
   ],
   "source": [
    "class data:\n",
    "    def details(self):\n",
    "        self.name=input(\"Enter the name: \")\n",
    "        self.number=int(input(\"Enter the Number: \"))\n",
    "\n",
    "    def show(self):\n",
    "         print(\"My Name is: \",self.name,\"My Number is : \",self.number)\n",
    "\n",
    "\n",
    "stud=data()\n",
    "stud.details()\n",
    "stud.show()"
   ]
  },
  {
   "cell_type": "code",
   "execution_count": 5,
   "id": "471f2d5e",
   "metadata": {},
   "outputs": [
    {
     "name": "stdout",
     "output_type": "stream",
     "text": [
      "Enter the name: sayali\n",
      "Enter the Number: 123\n",
      "My Name is:  sayali My Number is :  123\n"
     ]
    }
   ],
   "source": [
    "class data:\n",
    "    def details(s1):\n",
    "        s1.name=input(\"Enter the name: \")\n",
    "        s1.number=int(input(\"Enter the Number: \"))\n",
    "\n",
    "    def show(s1):\n",
    "         print(\"My Name is: \",s1.name,\"My Number is : \",s1.number)\n",
    "\n",
    "\n",
    "stud=data()\n",
    "stud.details()\n",
    "stud.show()"
   ]
  },
  {
   "cell_type": "code",
   "execution_count": 7,
   "id": "36d4a8fd",
   "metadata": {},
   "outputs": [
    {
     "name": "stdout",
     "output_type": "stream",
     "text": [
      "My Name is:  Sayali My Number is :  909\n"
     ]
    }
   ],
   "source": [
    "class data:\n",
    "    def details(s1,name,number):\n",
    "        s1.name=name\n",
    "        s1.number=number\n",
    "\n",
    "    def show1(s1):\n",
    "         print(\"My Name is: \",s1.name,\"My Number is : \",s1.number)\n",
    "\n",
    "\n",
    "stud=data()\n",
    "stud.details(\"Sayali\",909)\n",
    "stud.show1()\n"
   ]
  },
  {
   "cell_type": "code",
   "execution_count": 8,
   "id": "87f26aa9",
   "metadata": {},
   "outputs": [
    {
     "name": "stdout",
     "output_type": "stream",
     "text": [
      "Enter the Name: sayali\n",
      "Enter the No: 123\n",
      "My Name is:  sayali My Number is :  123\n"
     ]
    }
   ],
   "source": [
    "class data:\n",
    "    def details(s1,name,number):\n",
    "        s1.name=name\n",
    "        s1.number=number\n",
    "\n",
    "    def show1(s1):\n",
    "        print(\"My Name is: \",s1.name,\"My Number is : \",s1.number)\n",
    "\n",
    "\n",
    "name=input(\"Enter the Name: \")\n",
    "number=input(\"Enter the No: \")\n",
    "stud=data()\n",
    "stud.details(name,number)\n",
    "stud.show1()"
   ]
  },
  {
   "cell_type": "code",
   "execution_count": 9,
   "id": "5cebed9f",
   "metadata": {},
   "outputs": [
    {
     "name": "stdout",
     "output_type": "stream",
     "text": [
      "Enter the Name: POOJA\n",
      "Enter the No: 123\n",
      "Enter the Name: SAYALI\n",
      "Enter the No: 456\n",
      "Enter the Name: SEEMA\n",
      "Enter the No: 147\n",
      "My Name is:  SEEMA My Number is :  147\n"
     ]
    }
   ],
   "source": [
    "class data:\n",
    "    def details(s1,name,number):\n",
    "        s1.name=name\n",
    "        s1.number=number\n",
    "\n",
    "    def show1(s1):\n",
    "        print(\"My Name is: \",s1.name,\"My Number is : \",s1.number)\n",
    "\n",
    "for x in range(3):\n",
    "    name=input(\"Enter the Name: \")\n",
    "    number=input(\"Enter the No: \")\n",
    "stud=data()\n",
    "stud.details(name,number)\n",
    "stud.show1()"
   ]
  },
  {
   "cell_type": "code",
   "execution_count": 10,
   "id": "fa67cb8f",
   "metadata": {},
   "outputs": [
    {
     "name": "stdout",
     "output_type": "stream",
     "text": [
      "Enter the Name: Sayali\n",
      "Enter the No: 123\n",
      "Enter the Name: pooja\n",
      "Enter the No: 456\n",
      "Enter the Name: seema\n",
      "Enter the No: 789\n",
      "My Name is:  seema My Number is :  789\n",
      "I am 2nd For Loop........\n",
      "Enter the Name of Food: chicken lolipop\n",
      "Enter the Amount of Food: 456\n",
      "I am 2nd For Loop........\n",
      "Enter the Name of Food: pavbhaji\n",
      "Enter the Amount of Food: 78\n",
      "My Name is:  pavbhaji My Number is :  78\n"
     ]
    }
   ],
   "source": [
    "class data:\n",
    "    def details(s1,name,number):\n",
    "        s1.name=name\n",
    "        s1.number=number\n",
    "\n",
    "    def show1(s1):\n",
    "         print(\"My Name is: \",s1.name,\"My Number is : \",s1.number)\n",
    "\n",
    "for x in range(3):\n",
    "    name=input(\"Enter the Name: \")\n",
    "    number=input(\"Enter the No: \")\n",
    "stud=data()\n",
    "stud.details(name,number)\n",
    "stud.show1()\n",
    "for x in range(2):\n",
    "    print(\"I am 2nd For Loop........\")\n",
    "    name=input(\"Enter the Name of Food: \")\n",
    "    number=input(\"Enter the Amount of Food: \")\n",
    "stud1=data()\n",
    "stud1.details(name,number)\n",
    "stud1.show1()"
   ]
  },
  {
   "cell_type": "code",
   "execution_count": 11,
   "id": "896206db",
   "metadata": {},
   "outputs": [
    {
     "name": "stdout",
     "output_type": "stream",
     "text": [
      "This is My Marks\n",
      "Enter the Subject Marks: 45\n",
      "This is My Marks\n",
      "Enter the Subject Marks: 63\n",
      "This is My Marks\n",
      "Enter the Subject Marks: 78\n",
      "My Total Marks:  186\n"
     ]
    }
   ],
   "source": [
    "class school:\n",
    "    global total\n",
    "    total=list()\n",
    "    def marks(self,n):\n",
    "        self.n=n\n",
    "\n",
    "    def showme(self):\n",
    "       # total=[]\n",
    "       for x in range(self.n):\n",
    "            print(\"This is My Marks\")\n",
    "            m=int(input(\"Enter the Subject Marks: \"))\n",
    "            total.append(m)\n",
    "\n",
    "    def total_marks(self):\n",
    "        my_total=sum(total)\n",
    "        print(\"My Total Marks: \",my_total)\n",
    "\n",
    "s1=school()\n",
    "s1.marks(3)\n",
    "s1.showme()\n",
    "s1.total_marks()"
   ]
  },
  {
   "cell_type": "code",
   "execution_count": null,
   "id": "0527c734",
   "metadata": {},
   "outputs": [],
   "source": []
  }
 ],
 "metadata": {
  "kernelspec": {
   "display_name": "Python 3 (ipykernel)",
   "language": "python",
   "name": "python3"
  },
  "language_info": {
   "codemirror_mode": {
    "name": "ipython",
    "version": 3
   },
   "file_extension": ".py",
   "mimetype": "text/x-python",
   "name": "python",
   "nbconvert_exporter": "python",
   "pygments_lexer": "ipython3",
   "version": "3.9.7"
  }
 },
 "nbformat": 4,
 "nbformat_minor": 5
}
