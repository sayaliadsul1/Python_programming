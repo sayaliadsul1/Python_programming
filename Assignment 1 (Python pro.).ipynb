{
 "cells": [
  {
   "cell_type": "code",
   "execution_count": 1,
   "id": "36b9d64f",
   "metadata": {},
   "outputs": [
    {
     "name": "stdout",
     "output_type": "stream",
     "text": [
      "Would you like to shut down?no\n",
      "Shutdown aborted!\n"
     ]
    }
   ],
   "source": [
    "s=input(\"Would you like to shut down?\")\n",
    "def shut_down(s):\n",
    "    if s.lower() == \"yes\":\n",
    "        print(\"Shutting down...\")\n",
    "    elif s.lower() == \"no\":\n",
    "        print(\"Shutdown aborted!\")\n",
    "    else:\n",
    "        print(\"Sorry, I didn't understand you.\")\n",
    "shut_down(s)"
   ]
  },
  {
   "cell_type": "code",
   "execution_count": 2,
   "id": "8c4be6e5",
   "metadata": {},
   "outputs": [
    {
     "name": "stdout",
     "output_type": "stream",
     "text": [
      "50\n",
      "10\n",
      "20\n"
     ]
    }
   ],
   "source": [
    "#functional programming\n",
    "\n",
    "def add():\n",
    "    a=20\n",
    "    b=30\n",
    "    print(a+b)\n",
    "    return a+b\n",
    "def sub():\n",
    "    c1=40\n",
    "    ab=add()\n",
    "    s=ab-c1\n",
    "    print(s)\n",
    "    return s\n",
    "def multi():\n",
    "    s1=sub()\n",
    "    s3=s1*2\n",
    "    print(s3)\n",
    "multi()"
   ]
  },
  {
   "cell_type": "code",
   "execution_count": 4,
   "id": "2304ae03",
   "metadata": {},
   "outputs": [
    {
     "name": "stdout",
     "output_type": "stream",
     "text": [
      "Enter the A value:56\n",
      "Enter the B value:89\n",
      "addition 145\n",
      "subtraction -33\n",
      "multiplication 4984\n"
     ]
    }
   ],
   "source": [
    "def addition(a,b):\n",
    "    x=a+b\n",
    "    print(\"addition\",x)\n",
    "    \n",
    "def subtraction(a,b):\n",
    "    addition(a,b)\n",
    "    y=a-b\n",
    "    print(\"subtraction\",y)\n",
    "    \n",
    "def multiplication(a,b):\n",
    "    subtraction(a,b)\n",
    "    z=a*b\n",
    "    print(\"multiplication\",z)\n",
    "    \n",
    "a=int(input(\"Enter the A value:\"))\n",
    "b=int(input(\"Enter the B value:\"))\n",
    "multiplication(a,b)\n",
    "\n"
   ]
  },
  {
   "cell_type": "code",
   "execution_count": 5,
   "id": "63a5f5e7",
   "metadata": {},
   "outputs": [
    {
     "name": "stdout",
     "output_type": "stream",
     "text": [
      "enter a 1st no:89\n",
      "enter a 2nd no:63\n",
      "enter a 3rd no:78\n",
      "a is greater\n"
     ]
    }
   ],
   "source": [
    "a=int(input(\"enter a 1st no:\"))\n",
    "b=int(input(\"enter a 2nd no:\"))\n",
    "c=int(input(\"enter a 3rd no:\"))\n",
    "def my_function(a,b,c):\n",
    "    if a>b:\n",
    "        print(\"a is greater\")\n",
    "    elif b>c:\n",
    "        print(\"b is greater\")\n",
    "    else:\n",
    "        print(\"c is greater\")\n",
    "my_function(a,b,c)\n",
    "        "
   ]
  },
  {
   "cell_type": "code",
   "execution_count": 7,
   "id": "a155b57d",
   "metadata": {},
   "outputs": [
    {
     "name": "stdout",
     "output_type": "stream",
     "text": [
      "1000000\n"
     ]
    }
   ],
   "source": [
    "class car:\n",
    "    def __init__(self,model):\n",
    "        self.model=model\n",
    "    def setprice(self,price):\n",
    "        self.price=price\n",
    "    def getprice(self):\n",
    "        return self.price\n",
    "Audi=car(\"R8\")\n",
    "Audi.setprice(1000000)\n",
    "print(Audi.getprice())\n",
    "    "
   ]
  },
  {
   "cell_type": "code",
   "execution_count": 9,
   "id": "fd54c9c5",
   "metadata": {},
   "outputs": [
    {
     "name": "stdout",
     "output_type": "stream",
     "text": [
      "Enter the marks in Physics : 56\n",
      "Enter the marks in Chemistry : 78\n",
      "Enter the marks in Maths : 85\n",
      "Result: Pass\n"
     ]
    }
   ],
   "source": [
    "def result(m1,m2,m3):\n",
    "    total=m1+m2+m3\n",
    "    percent=total/3\n",
    "    if percent>=50:\n",
    "        print(\"Result: Pass\")\n",
    "    else:\n",
    "        print(\"Result: Fail\")\n",
    "p=int(input(\"Enter the marks in Physics : \"))\n",
    "c=int(input(\"Enter the marks in Chemistry : \"))\n",
    "m=int(input(\"Enter the marks in Maths : \"))\n",
    "result(p,c,m)\n",
    "        "
   ]
  },
  {
   "cell_type": "code",
   "execution_count": 2,
   "id": "d5fe1f4b",
   "metadata": {},
   "outputs": [
    {
     "name": "stdout",
     "output_type": "stream",
     "text": [
      "[2, 4, 98, 88, 64]\n",
      "[3, 7, 9, 15, 17, 23, 29]\n"
     ]
    }
   ],
   "source": [
    "\n",
    "list1=[2,3,4,7,9,15,17,98,88,64,23,29]\n",
    "ab=[]\n",
    "ab1=[]\n",
    "for i in list1:\n",
    "    if (i%2==0):\n",
    "        ab.append(i)\n",
    "    else:\n",
    "        ab1.append(i)\n",
    "        \n",
    "print(ab)\n",
    "print(ab1)"
   ]
  },
  {
   "cell_type": "code",
   "execution_count": 3,
   "id": "c1146049",
   "metadata": {},
   "outputs": [
    {
     "name": "stdout",
     "output_type": "stream",
     "text": [
      "['seema', 'sayali', 'nilam', 'kajal', 'ankita']\n",
      "['sagar', 'abhi', 'akshay', 'rahul', 'atul', 'karan']\n"
     ]
    }
   ],
   "source": [
    "\n",
    "general=[\"sagar\",\"seema\",\"abhi\",\"akshay\",\"sayali\",\"rahul\",\"nilam\",\"atul\",\"kajal\",\"karan\",\"ankita\"]\n",
    "girls=[\"seema\",\"sayali\",\"nilam\",\"kajal\",\"ankita\"]\n",
    "boys=[\"sagar\",\"abhi\",\"akshay\",\"rahul\",\"atul\",\"karan\"]\n",
    "g_hostel=[]\n",
    "b_hostel=[]\n",
    "for g in general:\n",
    "    for girl in girls:\n",
    "        if g==girl:\n",
    "            g_hostel.append(g)\n",
    "            \n",
    "    if g in boys:\n",
    "        b_hostel.append(g)        \n",
    "        \n",
    "            \n",
    "print(g_hostel) \n",
    "print(b_hostel)\n",
    "\n",
    "\n"
   ]
  },
  {
   "cell_type": "code",
   "execution_count": 8,
   "id": "bca2671c",
   "metadata": {},
   "outputs": [
    {
     "name": "stdout",
     "output_type": "stream",
     "text": [
      "enter the no. :5\n",
      "No\n"
     ]
    }
   ],
   "source": [
    "# important\n",
    "def myfunc(a, b):\n",
    "     return a + b\n",
    "\n",
    "\n",
    "x=int(input(\"enter the no. :\"))\n",
    "while x<=10:\n",
    "    if x==3:\n",
    "        x1 = map(myfunc, ('apple + ', 'banana + ', 'cherry + '), ('orange', 'lemon', 'pineapple'))\n",
    "        print(list(x1))\n",
    "    x=x+1\n",
    "else:\n",
    "    print(\"No\")"
   ]
  },
  {
   "cell_type": "code",
   "execution_count": 9,
   "id": "57ea94d0",
   "metadata": {},
   "outputs": [
    {
     "name": "stdout",
     "output_type": "stream",
     "text": [
      "4\n",
      "8\n",
      "12\n",
      "14\n",
      "16\n",
      "18\n",
      "22\n",
      "26\n"
     ]
    }
   ],
   "source": [
    "l1=[2,4,6,7,8,9,11,13]\n",
    "def sq(n):\n",
    "    return n*2\n",
    "\n",
    "result=list(map(sq,l1))\n",
    "for i in result:\n",
    "    print(i)"
   ]
  },
  {
   "cell_type": "code",
   "execution_count": 10,
   "id": "341827e5",
   "metadata": {},
   "outputs": [
    {
     "name": "stdout",
     "output_type": "stream",
     "text": [
      "priyanka 456\n",
      "Enter the Marks : 56\n",
      "Enter the Marks : 96\n",
      "Enter the Marks : 78\n",
      "[56, 96, 78]\n"
     ]
    }
   ],
   "source": [
    "class person:\n",
    "    def details(self,name,num):\n",
    "        self.name=name\n",
    "        self.num=num\n",
    "    def show(self,n):\n",
    "        marks=[]\n",
    "        print(self.name,self.num)\n",
    "        for x in range(n):\n",
    "            m=int(input(\"Enter the Marks : \"))\n",
    "            marks.append(m)\n",
    "        print(marks)\n",
    "obj=person()\n",
    "obj.details(\"priyanka\",456)\n",
    "obj.show(3)\n",
    "    "
   ]
  },
  {
   "cell_type": "code",
   "execution_count": null,
   "id": "8aacac4d",
   "metadata": {},
   "outputs": [],
   "source": []
  }
 ],
 "metadata": {
  "kernelspec": {
   "display_name": "Python 3 (ipykernel)",
   "language": "python",
   "name": "python3"
  },
  "language_info": {
   "codemirror_mode": {
    "name": "ipython",
    "version": 3
   },
   "file_extension": ".py",
   "mimetype": "text/x-python",
   "name": "python",
   "nbconvert_exporter": "python",
   "pygments_lexer": "ipython3",
   "version": "3.9.7"
  }
 },
 "nbformat": 4,
 "nbformat_minor": 5
}
